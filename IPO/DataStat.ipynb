{
 "cells": [
  {
   "cell_type": "code",
   "execution_count": 1,
   "id": "d8b60e2c",
   "metadata": {},
   "outputs": [],
   "source": [
    "import pandas as pd\n",
    "import numpy as np\n",
    "from dateutil.relativedelta import relativedelta\n",
    "from datetime import datetime\n",
    "from dateutil.parser import parse\n",
    "import pickle\n",
    "from Module.Preprocessing import *"
   ]
  },
  {
   "cell_type": "markdown",
   "id": "3b8d30fc",
   "metadata": {},
   "source": [
    "# 일단 읽고 종속변수만 변수로 받기"
   ]
  },
  {
   "cell_type": "code",
   "execution_count": 2,
   "id": "3abb1ce3",
   "metadata": {},
   "outputs": [],
   "source": [
    "X_train_After_IPO_1 = pd.read_csv('CleanData/X_train_After_IPO_1.csv',encoding = 'cp949', thousands=',')\n",
    "X_train_After_IPO_3 = pd.read_csv('CleanData/X_train_After_IPO_3.csv',encoding = 'cp949', thousands=',')\n",
    "X_train_Before_IPO = pd.read_csv('CleanData/X_train_Before_IPO.csv',encoding = 'cp949', thousands=',')\n",
    "X_train_After_IPO_1.set_index('종목명',inplace = True)\n",
    "X_train_After_IPO_3.set_index('종목명',inplace = True)\n",
    "X_train_Before_IPO.set_index('종목명',inplace = True)"
   ]
  },
  {
   "cell_type": "code",
   "execution_count": 3,
   "id": "96c94128",
   "metadata": {},
   "outputs": [],
   "source": [
    "IPO_1 = X_train_Before_IPO['공모가 대비 1개월 수익률']\n",
    "IPO_3 = X_train_Before_IPO['공모가 대비 3개월 수익률']\n",
    "IPO_6 = X_train_Before_IPO['공모가 대비 6개월 수익률']\n",
    "After_1 = X_train_After_IPO_1['1_3_수익률']\n",
    "After_3 = X_train_After_IPO_3['3_6_수익률']"
   ]
  },
  {
   "cell_type": "markdown",
   "id": "e8fb902f",
   "metadata": {},
   "source": [
    "# Cut 설정"
   ]
  },
  {
   "cell_type": "code",
   "execution_count": 4,
   "id": "ae8ba8ef",
   "metadata": {},
   "outputs": [],
   "source": [
    "Short_Cut = [-0.2, -0.1, 0.1, 0.2]\n",
    "Long_Cut = [-0.4, -0.2, 0.2, 0.4]"
   ]
  },
  {
   "cell_type": "code",
   "execution_count": 8,
   "id": "87a4d415",
   "metadata": {
    "scrolled": false
   },
   "outputs": [],
   "source": [
    "IPO_1_Cut = Cut(IPO_1,Short_Cut)\n",
    "IPO_3_Cut = Cut(IPO_3,Short_Cut)\n",
    "IPO_6_Cut = Cut(IPO_6,Long_Cut)\n",
    "After_1_Cut = Cut(After_1,Short_Cut)\n",
    "After_3_Cut = Cut(After_3,Long_Cut)"
   ]
  },
  {
   "cell_type": "code",
   "execution_count": 9,
   "id": "6b2b7b5d",
   "metadata": {},
   "outputs": [
    {
     "name": "stdout",
     "output_type": "stream",
     "text": [
      "1     91\n",
      "2     76\n",
      "3    166\n",
      "4     50\n",
      "5    259\n",
      "Name: 공모가 대비 1개월 수익률, dtype: int64\n",
      "1    115\n",
      "2     59\n",
      "3    147\n",
      "4     52\n",
      "5    269\n",
      "Name: 공모가 대비 3개월 수익률, dtype: int64\n",
      "1     47\n",
      "2     93\n",
      "3    233\n",
      "4     72\n",
      "5    197\n",
      "Name: 공모가 대비 6개월 수익률, dtype: int64\n",
      "1    105\n",
      "2    100\n",
      "3    258\n",
      "4     72\n",
      "5    107\n",
      "Name: 1_3_수익률, dtype: int64\n",
      "1     18\n",
      "2     91\n",
      "3    417\n",
      "4     63\n",
      "5     53\n",
      "Name: 3_6_수익률, dtype: int64\n"
     ]
    }
   ],
   "source": [
    "print(IPO_1_Cut.value_counts().sort_index())\n",
    "print(IPO_3_Cut.value_counts().sort_index())\n",
    "print(IPO_6_Cut.value_counts().sort_index())\n",
    "print(After_1_Cut.value_counts().sort_index())\n",
    "print(After_3_Cut.value_counts().sort_index())\n"
   ]
  },
  {
   "cell_type": "code",
   "execution_count": null,
   "id": "bf870340",
   "metadata": {},
   "outputs": [],
   "source": []
  }
 ],
 "metadata": {
  "kernelspec": {
   "display_name": "Python 3",
   "language": "python",
   "name": "python3"
  },
  "language_info": {
   "codemirror_mode": {
    "name": "ipython",
    "version": 3
   },
   "file_extension": ".py",
   "mimetype": "text/x-python",
   "name": "python",
   "nbconvert_exporter": "python",
   "pygments_lexer": "ipython3",
   "version": "3.8.8"
  }
 },
 "nbformat": 4,
 "nbformat_minor": 5
}
