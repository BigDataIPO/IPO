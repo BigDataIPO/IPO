{
 "cells": [
  {
   "cell_type": "code",
   "execution_count": 78,
   "id": "4d231fb5",
   "metadata": {},
   "outputs": [],
   "source": [
    "import warnings\n",
    "warnings.filterwarnings('ignore')\n",
    "import pandas as pd\n",
    "import numpy as np\n",
    "from sklearn.metrics import *\n",
    "\n",
    "#시각화\n",
    "import matplotlib.pyplot as plt\n",
    "import seaborn as sns\n",
    "from sklearn.tree import plot_tree\n",
    "\n",
    "##알고리즘 \n",
    "from sklearn.model_selection import train_test_split\n",
    "from sklearn.ensemble import RandomForestClassifier\n",
    "from xgboost import XGBClassifier\n",
    "import xgboost as xgb\n",
    "from lightgbm import LGBMClassifier"
   ]
  },
  {
   "cell_type": "code",
   "execution_count": 79,
   "id": "cb284c91",
   "metadata": {},
   "outputs": [],
   "source": [
    "import matplotlib # 글자 깨짐 방지 폰트설정\n",
    "from matplotlib import font_manager, rc\n",
    "import platform\n",
    "\n",
    "if platform.system() == 'Windows':\n",
    "# 윈도우인 경우\n",
    "    font_name = font_manager.FontProperties(fname=\"c:/Windows/Fonts/malgun.ttf\").get_name()\n",
    "    rc('font', family=font_name)\n",
    "else:    \n",
    "# Mac 인 경우\n",
    "    rc('font', family='AppleGothic')\n",
    "    \n",
    "matplotlib.rcParams['axes.unicode_minus'] = False   \n",
    "#그래프에서 마이너스 기호가 표시되도록 하는 설정입니다."
   ]
  },
  {
   "cell_type": "markdown",
   "id": "393c26b3",
   "metadata": {},
   "source": [
    "## 데이터 불러오기"
   ]
  },
  {
   "cell_type": "code",
   "execution_count": 80,
   "id": "f985dee8",
   "metadata": {},
   "outputs": [],
   "source": [
    "df = pd.read_csv(\"d:/공모전/IPO/IPO/CleanData/KQ_all.csv\")"
   ]
  },
  {
   "cell_type": "code",
   "execution_count": 81,
   "id": "a2d643bd",
   "metadata": {},
   "outputs": [],
   "source": [
    "df.set_index(\"종목명\",inplace = True)"
   ]
  },
  {
   "cell_type": "code",
   "execution_count": 82,
   "id": "c3f8ddfc",
   "metadata": {
    "scrolled": true
   },
   "outputs": [
    {
     "name": "stdout",
     "output_type": "stream",
     "text": [
      "<class 'pandas.core.frame.DataFrame'>\n",
      "Index: 739 entries, 코오롱생명과학 to 제노코\n",
      "Data columns (total 55 columns):\n",
      " #   Column             Non-Null Count  Dtype  \n",
      "---  ------             --------------  -----  \n",
      " 0   상장유형               739 non-null    object \n",
      " 1   공모가                739 non-null    int64  \n",
      " 2   상장일                739 non-null    object \n",
      " 3   상장주식수              739 non-null    int64  \n",
      " 4   경쟁률                562 non-null    object \n",
      " 5   공모 시가총액            739 non-null    float64\n",
      " 6   매출총이익률             715 non-null    float64\n",
      " 7   영업이익률              715 non-null    float64\n",
      " 8   ROE                721 non-null    float64\n",
      " 9   유동비율               719 non-null    float64\n",
      " 10  당좌비율               713 non-null    float64\n",
      " 11  부채비율               721 non-null    float64\n",
      " 12  이자보상배율             718 non-null    object \n",
      " 13  매출채권회전율            705 non-null    float64\n",
      " 14  재고자산회전율            607 non-null    float64\n",
      " 15  매출액증가율             673 non-null    float64\n",
      " 16  영업이익증가율            684 non-null    float64\n",
      " 17  IPO_PER            722 non-null    float64\n",
      " 18  IPO_PBR            721 non-null    float64\n",
      " 19  IPO_EV/EBITDA      720 non-null    float64\n",
      " 20  1개월 후 PER          699 non-null    float64\n",
      " 21  3개월 후 PER          700 non-null    float64\n",
      " 22  1개월 후 PBR          698 non-null    float64\n",
      " 23  3개월 후 PBR          699 non-null    float64\n",
      " 24  1개월 후 EV/EBITDA    698 non-null    float64\n",
      " 25  3개월 후 EV/EBITDA    699 non-null    float64\n",
      " 26  1개월 평균 거래량회전율      739 non-null    float64\n",
      " 27  1개월 평균 일중변동률       739 non-null    float64\n",
      " 28  1개월 평균 개인 매도수량 비중  739 non-null    float64\n",
      " 29  1개월 평균 개인 매수수량 비중  739 non-null    float64\n",
      " 30  1개월 시가총액회전율        739 non-null    float64\n",
      " 31  3개월 평균 거래량회전율      739 non-null    float64\n",
      " 32  3개월 평균 일중변동률       739 non-null    float64\n",
      " 33  3개월 평균 개인 매도수량 비중  739 non-null    float64\n",
      " 34  3개월 평균 개인 매수수량 비중  739 non-null    float64\n",
      " 35  3개월 시가총액회전율        739 non-null    float64\n",
      " 36  1년전 대비 시장 회전율      739 non-null    float64\n",
      " 37  1년 전 대비 시장수익률      739 non-null    float64\n",
      " 38  1년 전 대비 광의통화 증감률   739 non-null    float64\n",
      " 39  1년 전 대비 고객예탁금 증감률  739 non-null    float64\n",
      " 40  1달 후 시장 회전율        739 non-null    float64\n",
      " 41  1달 후 시장수익률         739 non-null    float64\n",
      " 42  1달 후 광의통화 증감률      739 non-null    float64\n",
      " 43  1달 후 고객예탁금 증감률     739 non-null    float64\n",
      " 44  3달 후 시장 회전율        739 non-null    float64\n",
      " 45  3달 후 시장수익률         739 non-null    float64\n",
      " 46  3달 후 광의통화 증감률      739 non-null    float64\n",
      " 47  3달 후 고객예탁금 증감률     739 non-null    float64\n",
      " 48  상장일 기준 국고3년시장금리    739 non-null    float64\n",
      " 49  공모가 대비 1개월 수익률     739 non-null    float64\n",
      " 50  공모가 대비 3개월 수익률     739 non-null    float64\n",
      " 51  공모가 대비 6개월 수익률     739 non-null    float64\n",
      " 52  1_3_수익률            739 non-null    float64\n",
      " 53  3_6_수익률            739 non-null    float64\n",
      " 54  Cat                739 non-null    int64  \n",
      "dtypes: float64(48), int64(3), object(4)\n",
      "memory usage: 323.3+ KB\n"
     ]
    }
   ],
   "source": [
    "df.info()"
   ]
  },
  {
   "cell_type": "code",
   "execution_count": 83,
   "id": "ab7b30dd",
   "metadata": {
    "scrolled": true
   },
   "outputs": [
    {
     "data": {
      "text/plain": [
       "Index(['상장유형', '공모가', '상장일', '상장주식수', '경쟁률', '공모 시가총액', '매출총이익률', '영업이익률',\n",
       "       'ROE', '유동비율', '당좌비율', '부채비율', '이자보상배율', '매출채권회전율', '재고자산회전율', '매출액증가율',\n",
       "       '영업이익증가율', 'IPO_PER', 'IPO_PBR', 'IPO_EV/EBITDA', '1개월 후 PER',\n",
       "       '3개월 후 PER', '1개월 후 PBR', '3개월 후 PBR', '1개월 후 EV/EBITDA',\n",
       "       '3개월 후 EV/EBITDA', '1개월 평균 거래량회전율', '1개월 평균 일중변동률', '1개월 평균 개인 매도수량 비중',\n",
       "       '1개월 평균 개인 매수수량 비중', '1개월 시가총액회전율', '3개월 평균 거래량회전율', '3개월 평균 일중변동률',\n",
       "       '3개월 평균 개인 매도수량 비중', '3개월 평균 개인 매수수량 비중', '3개월 시가총액회전율',\n",
       "       '1년전 대비 시장 회전율', '1년 전 대비 시장수익률', '1년 전 대비 광의통화 증감률',\n",
       "       '1년 전 대비 고객예탁금 증감률', '1달 후 시장 회전율', '1달 후 시장수익률', '1달 후 광의통화 증감률',\n",
       "       '1달 후 고객예탁금 증감률', '3달 후 시장 회전율', '3달 후 시장수익률', '3달 후 광의통화 증감률',\n",
       "       '3달 후 고객예탁금 증감률', '상장일 기준 국고3년시장금리', '공모가 대비 1개월 수익률', '공모가 대비 3개월 수익률',\n",
       "       '공모가 대비 6개월 수익률', '1_3_수익률', '3_6_수익률', 'Cat'],\n",
       "      dtype='object')"
      ]
     },
     "execution_count": 83,
     "metadata": {},
     "output_type": "execute_result"
    }
   ],
   "source": [
    "df.columns"
   ]
  },
  {
   "cell_type": "code",
   "execution_count": 84,
   "id": "c598e0c6",
   "metadata": {},
   "outputs": [],
   "source": [
    "def scoring(x):\n",
    "    if x <  -0.40:\n",
    "        return 1\n",
    "    elif x < -0.20:\n",
    "        return 2\n",
    "    elif x < 0 :\n",
    "        return 3\n",
    "    elif x < 0.20:\n",
    "        return 4\n",
    "    else :\n",
    "        return 5"
   ]
  },
  {
   "cell_type": "code",
   "execution_count": 85,
   "id": "55fcb2be",
   "metadata": {},
   "outputs": [],
   "source": [
    "df['Cat'] = df['공모가 대비 6개월 수익률'].apply(lambda x : scoring(x))"
   ]
  },
  {
   "cell_type": "markdown",
   "id": "8315bb8d",
   "metadata": {},
   "source": [
    "## 결측치 처리"
   ]
  },
  {
   "cell_type": "markdown",
   "id": "7da6a2d7",
   "metadata": {},
   "source": [
    "### 사용하는 컬럼 \n",
    "       '공모가', '상장주식수', '매출총이익률', '영업이익률',\n",
    "       'ROE', '유동비율', '당좌비율', '부채비율', '매출채권회전율', '매출액증가율',\n",
    "       '영업이익증가율', 'IPO_PER', 'IPO_PBR', 'IPO_EV/EBITDA', '1개월 후 PER',\n",
    "       '3개월 후 PER', '1개월 후 PBR', '3개월 후 PBR', '1개월 후 EV/EBITDA',\n",
    "       '3개월 후 EV/EBITDA', '1개월 평균 거래량회전율', '1개월 평균 일중변동률', '1개월 평균 개인 매도수량 비중',\n",
    "       '1개월 평균 개인 매수수량 비중', '1개월 시가총액회전율', '3개월 평균 거래량회전율', '3개월 평균 일중변동률',\n",
    "       '3개월 평균 개인 매도수량 비중', '3개월 평균 개인 매수수량 비중', '3개월 시가총액회전율',\n",
    "       '1년전 대비 시장 회전율', '1년 전 대비 시장수익률', '1년 전 대비 광의통화 증감률',\n",
    "       '1년 전 대비 고객예탁금 증감률', '1달 후 시장 회전율', '1달 후 시장수익률', '1달 후 광의통화 증감률',\n",
    "       '1달 후 고객예탁금 증감률', '3달 후 시장 회전율', '3달 후 시장수익률', '3달 후 광의통화 증감률',\n",
    "       '3달 후 고객예탁금 증감률', '상장일 기준 국고3년시장금리','Cat'\n",
    "- 재고자산회전율이랑 1개월,3개월 per 등등 : 결측치가 100개 넘어서 임시로 삭제\n",
    "- 이자보상배율에서 'inf'처리 애매해서 임시 삭제"
   ]
  },
  {
   "cell_type": "code",
   "execution_count": 86,
   "id": "5fe8f979",
   "metadata": {},
   "outputs": [],
   "source": [
    "df = df[['공모가', '상장주식수', '매출총이익률', '영업이익률',\n",
    "       'ROE', '유동비율', '당좌비율', '부채비율', '매출채권회전율', '매출액증가율',\n",
    "       '영업이익증가율', 'IPO_PER', 'IPO_PBR', 'IPO_EV/EBITDA', '1개월 후 PER',\n",
    "       '3개월 후 PER', '1개월 후 PBR', '3개월 후 PBR', '1개월 후 EV/EBITDA',\n",
    "       '3개월 후 EV/EBITDA', '1개월 평균 거래량회전율', '1개월 평균 일중변동률', '1개월 평균 개인 매도수량 비중',\n",
    "       '1개월 평균 개인 매수수량 비중', '1개월 시가총액회전율', '3개월 평균 거래량회전율', '3개월 평균 일중변동률',\n",
    "       '3개월 평균 개인 매도수량 비중', '3개월 평균 개인 매수수량 비중', '3개월 시가총액회전율',\n",
    "       '1년전 대비 시장 회전율', '1년 전 대비 시장수익률', '1년 전 대비 광의통화 증감률',\n",
    "       '1년 전 대비 고객예탁금 증감률', '1달 후 시장 회전율', '1달 후 시장수익률', '1달 후 광의통화 증감률',\n",
    "       '1달 후 고객예탁금 증감률', '3달 후 시장 회전율', '3달 후 시장수익률', '3달 후 광의통화 증감률',\n",
    "       '3달 후 고객예탁금 증감률', '상장일 기준 국고3년시장금리','Cat']]"
   ]
  },
  {
   "cell_type": "markdown",
   "id": "1c06fbea",
   "metadata": {},
   "source": [
    "### 결측치 임시로 삭제\n",
    "- 743개 -> 642개"
   ]
  },
  {
   "cell_type": "code",
   "execution_count": 87,
   "id": "9f8c88fb",
   "metadata": {
    "scrolled": true
   },
   "outputs": [],
   "source": [
    "df = df.dropna()"
   ]
  },
  {
   "cell_type": "code",
   "execution_count": 88,
   "id": "3de58a06",
   "metadata": {
    "scrolled": true
   },
   "outputs": [
    {
     "name": "stdout",
     "output_type": "stream",
     "text": [
      "<class 'pandas.core.frame.DataFrame'>\n",
      "Index: 642 entries, 코오롱생명과학 to 제노코\n",
      "Data columns (total 44 columns):\n",
      " #   Column             Non-Null Count  Dtype  \n",
      "---  ------             --------------  -----  \n",
      " 0   공모가                642 non-null    int64  \n",
      " 1   상장주식수              642 non-null    int64  \n",
      " 2   매출총이익률             642 non-null    float64\n",
      " 3   영업이익률              642 non-null    float64\n",
      " 4   ROE                642 non-null    float64\n",
      " 5   유동비율               642 non-null    float64\n",
      " 6   당좌비율               642 non-null    float64\n",
      " 7   부채비율               642 non-null    float64\n",
      " 8   매출채권회전율            642 non-null    float64\n",
      " 9   매출액증가율             642 non-null    float64\n",
      " 10  영업이익증가율            642 non-null    float64\n",
      " 11  IPO_PER            642 non-null    float64\n",
      " 12  IPO_PBR            642 non-null    float64\n",
      " 13  IPO_EV/EBITDA      642 non-null    float64\n",
      " 14  1개월 후 PER          642 non-null    float64\n",
      " 15  3개월 후 PER          642 non-null    float64\n",
      " 16  1개월 후 PBR          642 non-null    float64\n",
      " 17  3개월 후 PBR          642 non-null    float64\n",
      " 18  1개월 후 EV/EBITDA    642 non-null    float64\n",
      " 19  3개월 후 EV/EBITDA    642 non-null    float64\n",
      " 20  1개월 평균 거래량회전율      642 non-null    float64\n",
      " 21  1개월 평균 일중변동률       642 non-null    float64\n",
      " 22  1개월 평균 개인 매도수량 비중  642 non-null    float64\n",
      " 23  1개월 평균 개인 매수수량 비중  642 non-null    float64\n",
      " 24  1개월 시가총액회전율        642 non-null    float64\n",
      " 25  3개월 평균 거래량회전율      642 non-null    float64\n",
      " 26  3개월 평균 일중변동률       642 non-null    float64\n",
      " 27  3개월 평균 개인 매도수량 비중  642 non-null    float64\n",
      " 28  3개월 평균 개인 매수수량 비중  642 non-null    float64\n",
      " 29  3개월 시가총액회전율        642 non-null    float64\n",
      " 30  1년전 대비 시장 회전율      642 non-null    float64\n",
      " 31  1년 전 대비 시장수익률      642 non-null    float64\n",
      " 32  1년 전 대비 광의통화 증감률   642 non-null    float64\n",
      " 33  1년 전 대비 고객예탁금 증감률  642 non-null    float64\n",
      " 34  1달 후 시장 회전율        642 non-null    float64\n",
      " 35  1달 후 시장수익률         642 non-null    float64\n",
      " 36  1달 후 광의통화 증감률      642 non-null    float64\n",
      " 37  1달 후 고객예탁금 증감률     642 non-null    float64\n",
      " 38  3달 후 시장 회전율        642 non-null    float64\n",
      " 39  3달 후 시장수익률         642 non-null    float64\n",
      " 40  3달 후 광의통화 증감률      642 non-null    float64\n",
      " 41  3달 후 고객예탁금 증감률     642 non-null    float64\n",
      " 42  상장일 기준 국고3년시장금리    642 non-null    float64\n",
      " 43  Cat                642 non-null    int64  \n",
      "dtypes: float64(41), int64(3)\n",
      "memory usage: 225.7+ KB\n"
     ]
    }
   ],
   "source": [
    "df.info()"
   ]
  },
  {
   "cell_type": "code",
   "execution_count": 89,
   "id": "3209c9c7",
   "metadata": {
    "scrolled": true
   },
   "outputs": [
    {
     "data": {
      "text/html": [
       "<div>\n",
       "<style scoped>\n",
       "    .dataframe tbody tr th:only-of-type {\n",
       "        vertical-align: middle;\n",
       "    }\n",
       "\n",
       "    .dataframe tbody tr th {\n",
       "        vertical-align: top;\n",
       "    }\n",
       "\n",
       "    .dataframe thead th {\n",
       "        text-align: right;\n",
       "    }\n",
       "</style>\n",
       "<table border=\"1\" class=\"dataframe\">\n",
       "  <thead>\n",
       "    <tr style=\"text-align: right;\">\n",
       "      <th></th>\n",
       "      <th>공모가</th>\n",
       "      <th>상장주식수</th>\n",
       "      <th>매출총이익률</th>\n",
       "      <th>영업이익률</th>\n",
       "      <th>ROE</th>\n",
       "      <th>유동비율</th>\n",
       "      <th>당좌비율</th>\n",
       "      <th>부채비율</th>\n",
       "      <th>매출채권회전율</th>\n",
       "      <th>매출액증가율</th>\n",
       "      <th>...</th>\n",
       "      <th>1달 후 시장 회전율</th>\n",
       "      <th>1달 후 시장수익률</th>\n",
       "      <th>1달 후 광의통화 증감률</th>\n",
       "      <th>1달 후 고객예탁금 증감률</th>\n",
       "      <th>3달 후 시장 회전율</th>\n",
       "      <th>3달 후 시장수익률</th>\n",
       "      <th>3달 후 광의통화 증감률</th>\n",
       "      <th>3달 후 고객예탁금 증감률</th>\n",
       "      <th>상장일 기준 국고3년시장금리</th>\n",
       "      <th>Cat</th>\n",
       "    </tr>\n",
       "  </thead>\n",
       "  <tbody>\n",
       "    <tr>\n",
       "      <th>count</th>\n",
       "      <td>642.000000</td>\n",
       "      <td>6.420000e+02</td>\n",
       "      <td>642.000000</td>\n",
       "      <td>642.000000</td>\n",
       "      <td>642.000000</td>\n",
       "      <td>642.000000</td>\n",
       "      <td>642.000000</td>\n",
       "      <td>642.000000</td>\n",
       "      <td>642.000000</td>\n",
       "      <td>642.000000</td>\n",
       "      <td>...</td>\n",
       "      <td>642.000000</td>\n",
       "      <td>642.000000</td>\n",
       "      <td>642.000000</td>\n",
       "      <td>642.000000</td>\n",
       "      <td>642.000000</td>\n",
       "      <td>642.000000</td>\n",
       "      <td>642.000000</td>\n",
       "      <td>642.000000</td>\n",
       "      <td>642.000000</td>\n",
       "      <td>642.000000</td>\n",
       "    </tr>\n",
       "    <tr>\n",
       "      <th>mean</th>\n",
       "      <td>13986.604361</td>\n",
       "      <td>1.018858e+07</td>\n",
       "      <td>0.387726</td>\n",
       "      <td>-1.011953</td>\n",
       "      <td>0.059640</td>\n",
       "      <td>2.972037</td>\n",
       "      <td>2.482116</td>\n",
       "      <td>1.157753</td>\n",
       "      <td>8.801234</td>\n",
       "      <td>0.706686</td>\n",
       "      <td>...</td>\n",
       "      <td>67.125815</td>\n",
       "      <td>0.010207</td>\n",
       "      <td>0.005650</td>\n",
       "      <td>0.010753</td>\n",
       "      <td>195.705866</td>\n",
       "      <td>0.023602</td>\n",
       "      <td>0.016844</td>\n",
       "      <td>0.043174</td>\n",
       "      <td>2.238972</td>\n",
       "      <td>3.736760</td>\n",
       "    </tr>\n",
       "    <tr>\n",
       "      <th>std</th>\n",
       "      <td>14333.016650</td>\n",
       "      <td>1.223039e+07</td>\n",
       "      <td>0.249474</td>\n",
       "      <td>12.719178</td>\n",
       "      <td>2.496438</td>\n",
       "      <td>4.352604</td>\n",
       "      <td>4.221731</td>\n",
       "      <td>2.563653</td>\n",
       "      <td>21.696816</td>\n",
       "      <td>2.923613</td>\n",
       "      <td>...</td>\n",
       "      <td>27.272916</td>\n",
       "      <td>0.059357</td>\n",
       "      <td>0.003750</td>\n",
       "      <td>0.080460</td>\n",
       "      <td>68.902160</td>\n",
       "      <td>0.089845</td>\n",
       "      <td>0.007353</td>\n",
       "      <td>0.110788</td>\n",
       "      <td>0.993556</td>\n",
       "      <td>1.326857</td>\n",
       "    </tr>\n",
       "    <tr>\n",
       "      <th>min</th>\n",
       "      <td>1000.000000</td>\n",
       "      <td>2.000000e+06</td>\n",
       "      <td>-0.209940</td>\n",
       "      <td>-301.556329</td>\n",
       "      <td>-59.042534</td>\n",
       "      <td>0.171335</td>\n",
       "      <td>0.108116</td>\n",
       "      <td>-35.801389</td>\n",
       "      <td>0.128725</td>\n",
       "      <td>-0.757747</td>\n",
       "      <td>...</td>\n",
       "      <td>30.071322</td>\n",
       "      <td>-0.313807</td>\n",
       "      <td>-0.003817</td>\n",
       "      <td>-0.189932</td>\n",
       "      <td>105.858946</td>\n",
       "      <td>-0.338813</td>\n",
       "      <td>-0.003286</td>\n",
       "      <td>-0.246839</td>\n",
       "      <td>0.800000</td>\n",
       "      <td>1.000000</td>\n",
       "    </tr>\n",
       "    <tr>\n",
       "      <th>25%</th>\n",
       "      <td>5500.000000</td>\n",
       "      <td>4.999101e+06</td>\n",
       "      <td>0.201854</td>\n",
       "      <td>0.066390</td>\n",
       "      <td>0.126615</td>\n",
       "      <td>1.168170</td>\n",
       "      <td>0.817450</td>\n",
       "      <td>0.394267</td>\n",
       "      <td>3.559129</td>\n",
       "      <td>0.082278</td>\n",
       "      <td>...</td>\n",
       "      <td>49.362945</td>\n",
       "      <td>-0.028867</td>\n",
       "      <td>0.002863</td>\n",
       "      <td>-0.039346</td>\n",
       "      <td>148.120764</td>\n",
       "      <td>-0.031366</td>\n",
       "      <td>0.012787</td>\n",
       "      <td>-0.020901</td>\n",
       "      <td>1.520000</td>\n",
       "      <td>3.000000</td>\n",
       "    </tr>\n",
       "    <tr>\n",
       "      <th>50%</th>\n",
       "      <td>10000.000000</td>\n",
       "      <td>6.828324e+06</td>\n",
       "      <td>0.308438</td>\n",
       "      <td>0.117778</td>\n",
       "      <td>0.216476</td>\n",
       "      <td>1.768190</td>\n",
       "      <td>1.306053</td>\n",
       "      <td>0.823709</td>\n",
       "      <td>5.393854</td>\n",
       "      <td>0.278192</td>\n",
       "      <td>...</td>\n",
       "      <td>55.813249</td>\n",
       "      <td>0.010024</td>\n",
       "      <td>0.005339</td>\n",
       "      <td>0.002054</td>\n",
       "      <td>171.833544</td>\n",
       "      <td>0.020494</td>\n",
       "      <td>0.015784</td>\n",
       "      <td>0.027355</td>\n",
       "      <td>1.890000</td>\n",
       "      <td>4.000000</td>\n",
       "    </tr>\n",
       "    <tr>\n",
       "      <th>75%</th>\n",
       "      <td>16925.000000</td>\n",
       "      <td>1.019461e+07</td>\n",
       "      <td>0.507153</td>\n",
       "      <td>0.193336</td>\n",
       "      <td>0.324924</td>\n",
       "      <td>3.056876</td>\n",
       "      <td>2.406421</td>\n",
       "      <td>1.562156</td>\n",
       "      <td>8.594474</td>\n",
       "      <td>0.624327</td>\n",
       "      <td>...</td>\n",
       "      <td>75.718070</td>\n",
       "      <td>0.051375</td>\n",
       "      <td>0.007735</td>\n",
       "      <td>0.052262</td>\n",
       "      <td>221.122236</td>\n",
       "      <td>0.073447</td>\n",
       "      <td>0.020791</td>\n",
       "      <td>0.089637</td>\n",
       "      <td>2.975000</td>\n",
       "      <td>5.000000</td>\n",
       "    </tr>\n",
       "    <tr>\n",
       "      <th>max</th>\n",
       "      <td>150000.000000</td>\n",
       "      <td>1.366881e+08</td>\n",
       "      <td>1.000000</td>\n",
       "      <td>0.718454</td>\n",
       "      <td>3.122454</td>\n",
       "      <td>61.003046</td>\n",
       "      <td>59.190470</td>\n",
       "      <td>23.542878</td>\n",
       "      <td>480.157970</td>\n",
       "      <td>66.936003</td>\n",
       "      <td>...</td>\n",
       "      <td>160.492173</td>\n",
       "      <td>0.235714</td>\n",
       "      <td>0.023059</td>\n",
       "      <td>0.408966</td>\n",
       "      <td>397.234101</td>\n",
       "      <td>0.457612</td>\n",
       "      <td>0.042001</td>\n",
       "      <td>0.623441</td>\n",
       "      <td>4.470000</td>\n",
       "      <td>5.000000</td>\n",
       "    </tr>\n",
       "  </tbody>\n",
       "</table>\n",
       "<p>8 rows × 44 columns</p>\n",
       "</div>"
      ],
      "text/plain": [
       "                 공모가         상장주식수      매출총이익률       영업이익률         ROE  \\\n",
       "count     642.000000  6.420000e+02  642.000000  642.000000  642.000000   \n",
       "mean    13986.604361  1.018858e+07    0.387726   -1.011953    0.059640   \n",
       "std     14333.016650  1.223039e+07    0.249474   12.719178    2.496438   \n",
       "min      1000.000000  2.000000e+06   -0.209940 -301.556329  -59.042534   \n",
       "25%      5500.000000  4.999101e+06    0.201854    0.066390    0.126615   \n",
       "50%     10000.000000  6.828324e+06    0.308438    0.117778    0.216476   \n",
       "75%     16925.000000  1.019461e+07    0.507153    0.193336    0.324924   \n",
       "max    150000.000000  1.366881e+08    1.000000    0.718454    3.122454   \n",
       "\n",
       "             유동비율        당좌비율        부채비율     매출채권회전율      매출액증가율  ...  \\\n",
       "count  642.000000  642.000000  642.000000  642.000000  642.000000  ...   \n",
       "mean     2.972037    2.482116    1.157753    8.801234    0.706686  ...   \n",
       "std      4.352604    4.221731    2.563653   21.696816    2.923613  ...   \n",
       "min      0.171335    0.108116  -35.801389    0.128725   -0.757747  ...   \n",
       "25%      1.168170    0.817450    0.394267    3.559129    0.082278  ...   \n",
       "50%      1.768190    1.306053    0.823709    5.393854    0.278192  ...   \n",
       "75%      3.056876    2.406421    1.562156    8.594474    0.624327  ...   \n",
       "max     61.003046   59.190470   23.542878  480.157970   66.936003  ...   \n",
       "\n",
       "       1달 후 시장 회전율  1달 후 시장수익률  1달 후 광의통화 증감률  1달 후 고객예탁금 증감률  3달 후 시장 회전율  \\\n",
       "count   642.000000  642.000000     642.000000      642.000000   642.000000   \n",
       "mean     67.125815    0.010207       0.005650        0.010753   195.705866   \n",
       "std      27.272916    0.059357       0.003750        0.080460    68.902160   \n",
       "min      30.071322   -0.313807      -0.003817       -0.189932   105.858946   \n",
       "25%      49.362945   -0.028867       0.002863       -0.039346   148.120764   \n",
       "50%      55.813249    0.010024       0.005339        0.002054   171.833544   \n",
       "75%      75.718070    0.051375       0.007735        0.052262   221.122236   \n",
       "max     160.492173    0.235714       0.023059        0.408966   397.234101   \n",
       "\n",
       "       3달 후 시장수익률  3달 후 광의통화 증감률  3달 후 고객예탁금 증감률  상장일 기준 국고3년시장금리         Cat  \n",
       "count  642.000000     642.000000      642.000000       642.000000  642.000000  \n",
       "mean     0.023602       0.016844        0.043174         2.238972    3.736760  \n",
       "std      0.089845       0.007353        0.110788         0.993556    1.326857  \n",
       "min     -0.338813      -0.003286       -0.246839         0.800000    1.000000  \n",
       "25%     -0.031366       0.012787       -0.020901         1.520000    3.000000  \n",
       "50%      0.020494       0.015784        0.027355         1.890000    4.000000  \n",
       "75%      0.073447       0.020791        0.089637         2.975000    5.000000  \n",
       "max      0.457612       0.042001        0.623441         4.470000    5.000000  \n",
       "\n",
       "[8 rows x 44 columns]"
      ]
     },
     "execution_count": 89,
     "metadata": {},
     "output_type": "execute_result"
    }
   ],
   "source": [
    "df.describe()"
   ]
  },
  {
   "cell_type": "code",
   "execution_count": 90,
   "id": "65156cbb",
   "metadata": {},
   "outputs": [],
   "source": [
    "X_features = df.drop(['Cat'],axis=1)\n",
    "y = df['Cat']"
   ]
  },
  {
   "cell_type": "code",
   "execution_count": 91,
   "id": "6ade4873",
   "metadata": {},
   "outputs": [],
   "source": [
    "X_train, X_test, y_train, y_test = train_test_split(X_features, y,\\\n",
    "                                                    test_size=0.2)"
   ]
  },
  {
   "cell_type": "markdown",
   "id": "129126fe",
   "metadata": {},
   "source": [
    "## 랜덤포레스트"
   ]
  },
  {
   "cell_type": "code",
   "execution_count": 92,
   "id": "61dc9825",
   "metadata": {},
   "outputs": [
    {
     "name": "stdout",
     "output_type": "stream",
     "text": [
      "랜덤 포레스트 정확도: 0.5194\n"
     ]
    }
   ],
   "source": [
    "# 랜덤 포레스트 학습 및 별도의 테스트 셋으로 예측 성능 평가\n",
    "rf_clf = RandomForestClassifier(random_state = 0)\n",
    "rf_clf.fit(X_train , y_train)\n",
    "pred = rf_clf.predict(X_test)\n",
    "accuracy = accuracy_score(y_test , pred)\n",
    "print('랜덤 포레스트 정확도: {0:.4f}'.format(accuracy)) "
   ]
  },
  {
   "cell_type": "markdown",
   "id": "2636db7c",
   "metadata": {},
   "source": [
    "## XGBoost"
   ]
  },
  {
   "cell_type": "code",
   "execution_count": 93,
   "id": "a0fab6a4",
   "metadata": {
    "scrolled": false
   },
   "outputs": [
    {
     "name": "stdout",
     "output_type": "stream",
     "text": [
      "[17:57:16] WARNING: C:/Users/Administrator/workspace/xgboost-win64_release_1.4.0/src/learner.cc:1095: Starting in XGBoost 1.3.0, the default evaluation metric used with the objective 'multi:softprob' was changed from 'merror' to 'mlogloss'. Explicitly set eval_metric if you'd like to restore the old behavior.\n",
      "xgb 정확도: 0.5349\n"
     ]
    }
   ],
   "source": [
    "# 모델 학습\n",
    "xgb_wrapper = XGBClassifier(random_state = 0)\n",
    "xgb_wrapper.fit(X_train, y_train)\n",
    "\n",
    "# predict, predict_proba 추출\n",
    "pred = xgb_wrapper.predict(X_test)\n",
    "accuracy_xgb = accuracy_score(y_test,pred)\n",
    "print('xgb 정확도: {0:.4f}'.format(accuracy_xgb))"
   ]
  },
  {
   "cell_type": "code",
   "execution_count": 94,
   "id": "a95d3746",
   "metadata": {
    "scrolled": true
   },
   "outputs": [
    {
     "data": {
      "image/png": "[encoded data removed]",
      "text/plain": [
       "<Figure size 576x432 with 1 Axes>"
      ]
     },
     "metadata": {
      "needs_background": "light"
     },
     "output_type": "display_data"
    }
   ],
   "source": [
    "import matplotlib.pyplot as plt\n",
    "import seaborn as sns\n",
    "%matplotlib inline\n",
    "\n",
    "ftr_importances_values = xgb_wrapper.feature_importances_\n",
    "ftr_importances = pd.Series(ftr_importances_values,index=X_train.columns  )\n",
    "ftr_top20 = ftr_importances.sort_values(ascending=False)[:20]\n",
    "\n",
    "plt.figure(figsize=(8,6))\n",
    "plt.title('Feature importances Top 20')\n",
    "sns.barplot(x=ftr_top20 , y = ftr_top20.index)\n",
    "plt.show()"
   ]
  },
  {
   "cell_type": "markdown",
   "id": "c2765bdb",
   "metadata": {},
   "source": [
    "## LGBM"
   ]
  },
  {
   "cell_type": "code",
   "execution_count": 95,
   "id": "63bb6617",
   "metadata": {
    "scrolled": true
   },
   "outputs": [
    {
     "name": "stdout",
     "output_type": "stream",
     "text": [
      "[1]\tvalid_0's multi_logloss: 1.38484\n",
      "Training until validation scores don't improve for 100 rounds\n",
      "[2]\tvalid_0's multi_logloss: 1.36346\n",
      "[3]\tvalid_0's multi_logloss: 1.33615\n",
      "[4]\tvalid_0's multi_logloss: 1.32064\n",
      "[5]\tvalid_0's multi_logloss: 1.30621\n",
      "[6]\tvalid_0's multi_logloss: 1.30801\n",
      "[7]\tvalid_0's multi_logloss: 1.29931\n",
      "[8]\tvalid_0's multi_logloss: 1.2994\n",
      "[9]\tvalid_0's multi_logloss: 1.28724\n",
      "[10]\tvalid_0's multi_logloss: 1.28252\n",
      "[11]\tvalid_0's multi_logloss: 1.2777\n",
      "[12]\tvalid_0's multi_logloss: 1.28677\n",
      "[13]\tvalid_0's multi_logloss: 1.28063\n",
      "[14]\tvalid_0's multi_logloss: 1.27507\n",
      "[15]\tvalid_0's multi_logloss: 1.27841\n",
      "[16]\tvalid_0's multi_logloss: 1.28209\n",
      "[17]\tvalid_0's multi_logloss: 1.27724\n",
      "[18]\tvalid_0's multi_logloss: 1.27893\n",
      "[19]\tvalid_0's multi_logloss: 1.27731\n",
      "[20]\tvalid_0's multi_logloss: 1.28055\n",
      "[21]\tvalid_0's multi_logloss: 1.28153\n",
      "[22]\tvalid_0's multi_logloss: 1.29261\n",
      "[23]\tvalid_0's multi_logloss: 1.29454\n",
      "[24]\tvalid_0's multi_logloss: 1.29821\n",
      "[25]\tvalid_0's multi_logloss: 1.311\n",
      "[26]\tvalid_0's multi_logloss: 1.31737\n",
      "[27]\tvalid_0's multi_logloss: 1.32244\n",
      "[28]\tvalid_0's multi_logloss: 1.3232\n",
      "[29]\tvalid_0's multi_logloss: 1.33477\n",
      "[30]\tvalid_0's multi_logloss: 1.34393\n",
      "[31]\tvalid_0's multi_logloss: 1.35226\n",
      "[32]\tvalid_0's multi_logloss: 1.35624\n",
      "[33]\tvalid_0's multi_logloss: 1.36287\n",
      "[34]\tvalid_0's multi_logloss: 1.36879\n",
      "[35]\tvalid_0's multi_logloss: 1.37732\n",
      "[36]\tvalid_0's multi_logloss: 1.38914\n",
      "[37]\tvalid_0's multi_logloss: 1.40049\n",
      "[38]\tvalid_0's multi_logloss: 1.41046\n",
      "[39]\tvalid_0's multi_logloss: 1.41361\n",
      "[40]\tvalid_0's multi_logloss: 1.42749\n",
      "[41]\tvalid_0's multi_logloss: 1.43308\n",
      "[42]\tvalid_0's multi_logloss: 1.43616\n",
      "[43]\tvalid_0's multi_logloss: 1.43771\n",
      "[44]\tvalid_0's multi_logloss: 1.44786\n",
      "[45]\tvalid_0's multi_logloss: 1.45418\n",
      "[46]\tvalid_0's multi_logloss: 1.45754\n",
      "[47]\tvalid_0's multi_logloss: 1.46213\n",
      "[48]\tvalid_0's multi_logloss: 1.46944\n",
      "[49]\tvalid_0's multi_logloss: 1.46996\n",
      "[50]\tvalid_0's multi_logloss: 1.482\n",
      "[51]\tvalid_0's multi_logloss: 1.48422\n",
      "[52]\tvalid_0's multi_logloss: 1.49492\n",
      "[53]\tvalid_0's multi_logloss: 1.50968\n",
      "[54]\tvalid_0's multi_logloss: 1.51568\n",
      "[55]\tvalid_0's multi_logloss: 1.52123\n",
      "[56]\tvalid_0's multi_logloss: 1.52845\n",
      "[57]\tvalid_0's multi_logloss: 1.53289\n",
      "[58]\tvalid_0's multi_logloss: 1.5443\n",
      "[59]\tvalid_0's multi_logloss: 1.5544\n",
      "[60]\tvalid_0's multi_logloss: 1.56023\n",
      "[61]\tvalid_0's multi_logloss: 1.57028\n",
      "[62]\tvalid_0's multi_logloss: 1.57713\n",
      "[63]\tvalid_0's multi_logloss: 1.5888\n",
      "[64]\tvalid_0's multi_logloss: 1.59386\n",
      "[65]\tvalid_0's multi_logloss: 1.60326\n",
      "[66]\tvalid_0's multi_logloss: 1.61444\n",
      "[67]\tvalid_0's multi_logloss: 1.61499\n",
      "[68]\tvalid_0's multi_logloss: 1.62281\n",
      "[69]\tvalid_0's multi_logloss: 1.6331\n",
      "[70]\tvalid_0's multi_logloss: 1.6465\n",
      "[71]\tvalid_0's multi_logloss: 1.65528\n",
      "[72]\tvalid_0's multi_logloss: 1.66704\n",
      "[73]\tvalid_0's multi_logloss: 1.67879\n",
      "[74]\tvalid_0's multi_logloss: 1.67743\n",
      "[75]\tvalid_0's multi_logloss: 1.68559\n",
      "[76]\tvalid_0's multi_logloss: 1.69536\n",
      "[77]\tvalid_0's multi_logloss: 1.70784\n",
      "[78]\tvalid_0's multi_logloss: 1.71513\n",
      "[79]\tvalid_0's multi_logloss: 1.72832\n",
      "[80]\tvalid_0's multi_logloss: 1.73578\n",
      "[81]\tvalid_0's multi_logloss: 1.74819\n",
      "[82]\tvalid_0's multi_logloss: 1.75902\n",
      "[83]\tvalid_0's multi_logloss: 1.75914\n",
      "[84]\tvalid_0's multi_logloss: 1.76631\n",
      "[85]\tvalid_0's multi_logloss: 1.77903\n",
      "[86]\tvalid_0's multi_logloss: 1.78108\n",
      "[87]\tvalid_0's multi_logloss: 1.79302\n",
      "[88]\tvalid_0's multi_logloss: 1.79865\n",
      "[89]\tvalid_0's multi_logloss: 1.80825\n",
      "[90]\tvalid_0's multi_logloss: 1.82113\n",
      "[91]\tvalid_0's multi_logloss: 1.8326\n",
      "[92]\tvalid_0's multi_logloss: 1.84838\n",
      "[93]\tvalid_0's multi_logloss: 1.8628\n",
      "[94]\tvalid_0's multi_logloss: 1.86862\n",
      "[95]\tvalid_0's multi_logloss: 1.8835\n",
      "[96]\tvalid_0's multi_logloss: 1.89441\n",
      "[97]\tvalid_0's multi_logloss: 1.90933\n",
      "[98]\tvalid_0's multi_logloss: 1.91795\n",
      "[99]\tvalid_0's multi_logloss: 1.92868\n",
      "[100]\tvalid_0's multi_logloss: 1.94664\n",
      "Did not meet early stopping. Best iteration is:\n",
      "[14]\tvalid_0's multi_logloss: 1.27507\n",
      "lgbm 정확도: 0.4806\n"
     ]
    }
   ],
   "source": [
    "# LGBM 분류기 객체 생성\n",
    "lgbm_wrapper = LGBMClassifier(random_state = 0)\n",
    "\n",
    "# 조기 중단 기능에 필요한 파라미터 정의\n",
    "evals = [(X_test, y_test)]\n",
    "lgbm_wrapper.fit(X_train, y_train, early_stopping_rounds=100, eval_metric='logloss', eval_set=evals, verbose=True)\n",
    "\n",
    "\n",
    "# predict, predict_proba 추출\n",
    "pred = lgbm_wrapper.predict(X_test)\n",
    "accuracy_xgb = accuracy_score(y_test,pred)\n",
    "print('lgbm 정확도: {0:.4f}'.format(accuracy_xgb))"
   ]
  },
  {
   "cell_type": "code",
   "execution_count": 96,
   "id": "6a1a2aae",
   "metadata": {
    "scrolled": true
   },
   "outputs": [
    {
     "data": {
      "image/png": "[encoded data removed]",
      "text/plain": [
       "<Figure size 576x432 with 1 Axes>"
      ]
     },
     "metadata": {
      "needs_background": "light"
     },
     "output_type": "display_data"
    }
   ],
   "source": [
    "import matplotlib.pyplot as plt\n",
    "import seaborn as sns\n",
    "%matplotlib inline\n",
    "\n",
    "ftr_importances_values = lgbm_wrapper.feature_importances_\n",
    "ftr_importances = pd.Series(ftr_importances_values,index=X_train.columns  )\n",
    "ftr_top20 = ftr_importances.sort_values(ascending=False)[:20]\n",
    "\n",
    "plt.figure(figsize=(8,6))\n",
    "plt.title('Feature importances Top 20')\n",
    "sns.barplot(x=ftr_top20 , y = ftr_top20.index)\n",
    "plt.show()"
   ]
  },
  {
   "cell_type": "code",
   "execution_count": null,
   "id": "c68a89c3",
   "metadata": {},
   "outputs": [],
   "source": []
  }
 ],
 "metadata": {
  "kernelspec": {
   "display_name": "Python 3",
   "language": "python",
   "name": "python3"
  },
  "language_info": {
   "codemirror_mode": {
    "name": "ipython",
    "version": 3
   },
   "file_extension": ".py",
   "mimetype": "text/x-python",
   "name": "python",
   "nbconvert_exporter": "python",
   "pygments_lexer": "ipython3",
   "version": "3.8.8"
  },
  "toc": {
   "base_numbering": 1,
   "nav_menu": {},
   "number_sections": true,
   "sideBar": true,
   "skip_h1_title": false,
   "title_cell": "Table of Contents",
   "title_sidebar": "Contents",
   "toc_cell": false,
   "toc_position": {},
   "toc_section_display": true,
   "toc_window_display": false
  }
 },
 "nbformat": 4,
 "nbformat_minor": 5
}
