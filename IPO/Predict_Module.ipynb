{
 "cells": [
  {
   "cell_type": "code",
   "execution_count": 1,
   "id": "1fcb9abb",
   "metadata": {},
   "outputs": [],
   "source": [
    "import warnings\n",
    "warnings.filterwarnings('ignore')\n",
    "import pandas as pd\n",
    "import numpy as np\n",
    "from Module.Preprocessing import *\n",
    "from Module.Stat import *\n",
    "\n",
    "#시각화\n",
    "import matplotlib.pyplot as plt\n",
    "import seaborn as sns\n",
    "\n",
    "\n",
    "from sklearn.model_selection import train_test_split\n",
    "from sklearn.model_selection import KFold, StratifiedKFold\n",
    "from sklearn.metrics import *\n",
    "from sklearn.metrics import accuracy_score, confusion_matrix, log_loss\n",
    "\n",
    "##알고리즘 \n",
    "from sklearn.linear_model import LogisticRegression\n",
    "from sklearn.tree import DecisionTreeClassifier\n",
    "from sklearn.linear_model import LogisticRegression\n",
    "from sklearn.ensemble import RandomForestClassifier\n",
    "from xgboost import XGBClassifier"
   ]
  },
  {
   "cell_type": "markdown",
   "id": "e5c78248",
   "metadata": {},
   "source": [
    "# 임시로 X_train, X_test, y_train, y_test 만들기\n",
    "# 내가 받을때는 필요한거만 전처리되어서 온다는 전제\n",
    "# k_fold로 임시적으로 돌아가는지 test"
   ]
  },
  {
   "cell_type": "code",
   "execution_count": 2,
   "id": "8b6e6cf8",
   "metadata": {},
   "outputs": [],
   "source": [
    "df = pd.read_csv(\"CleanData/X_train_After_IPO_1.csv\",encoding = 'cp949')\n",
    "df.drop(['종목명','상장일','공모 시가총액'],axis = 1,inplace = True)"
   ]
  },
  {
   "cell_type": "code",
   "execution_count": 3,
   "id": "ebace734",
   "metadata": {},
   "outputs": [],
   "source": [
    "X = df.drop('1_3_수익률',axis=1)\n",
    "y = Cut(df['1_3_수익률'],[-0.2, -0.1, 0.1, 0.2])"
   ]
  },
  {
   "cell_type": "code",
   "execution_count": 12,
   "id": "e57a5ed5",
   "metadata": {},
   "outputs": [],
   "source": [
    "X_train, X_test, y_train, y_test = train_test_split(X, y,\\\n",
    "                                                    test_size=0.2)"
   ]
  },
  {
   "cell_type": "markdown",
   "id": "dfdcfbdf",
   "metadata": {},
   "source": [
    "# 여기서부터 인풋 받았다 생각하고 하기"
   ]
  },
  {
   "cell_type": "markdown",
   "id": "a1c4b8e0",
   "metadata": {},
   "source": [
    "# 여기서부터 재성이가 보면 됨 ㅇㅇ\n",
    "# K_fold 부분은 나중에 X,y List로 대체되어서 반복해야함\n",
    "# 아래는 그냥 재성이가 보면 되는 대충의 예시 for 문 에서 나온 list가 데이터 프레임으로 만들어지는 거만 확인하면 ㅇㅋ"
   ]
  },
  {
   "cell_type": "code",
   "execution_count": 41,
   "id": "dbd77bbd",
   "metadata": {
    "scrolled": true
   },
   "outputs": [],
   "source": [
    "kfold = KFold(n_splits = 5)\n",
    "cv_accuracy = []\n",
    "n_iter = 0 "
   ]
  },
  {
   "cell_type": "code",
   "execution_count": 38,
   "id": "79364bdc",
   "metadata": {
    "collapsed": true
   },
   "outputs": [
    {
     "name": "stdout",
     "output_type": "stream",
     "text": [
      "----랜덤포레스트 분류 모델 평가----\n",
      "Confusion Matrix\n",
      "[[ 73   0   0   0   0]\n",
      " [  0  82   0   0   0]\n",
      " [  0   0 214   0   0]\n",
      " [  0   0   0  60   0]\n",
      " [  0   0   0   0  84]]\n",
      "정확도(accuracy): 1.0000, 정밀도(precision): 1.0000, 재현율(recall): 1.0000, f1_score: 1.0000\n",
      "Confusion Matrix\n",
      "[[ 5  3 22  2  0]\n",
      " [ 0  0 18  0  0]\n",
      " [ 4  2 33  3  2]\n",
      " [ 1  1 10  0  0]\n",
      " [ 2  4 15  1  1]]\n",
      "정확도(accuracy): 0.3023, 정밀도(precision): 0.3023, 재현율(recall): 0.3023, f1_score: 0.3023\n",
      "----랜덤포레스트 분류 모델 평가----\n",
      "Confusion Matrix\n",
      "[[ 91   0   0   0   0]\n",
      " [  0  84   0   0   0]\n",
      " [  0   0 205   0   0]\n",
      " [  0   0   0  56   0]\n",
      " [  0   0   0   0  77]]\n",
      "정확도(accuracy): 1.0000, 정밀도(precision): 1.0000, 재현율(recall): 1.0000, f1_score: 1.0000\n",
      "Confusion Matrix\n",
      "[[ 5  1  8  0  0]\n",
      " [ 3  0 12  0  1]\n",
      " [ 9  5 38  0  1]\n",
      " [ 1  1 13  0  1]\n",
      " [ 2  3 23  0  2]]\n",
      "정확도(accuracy): 0.3488, 정밀도(precision): 0.3488, 재현율(recall): 0.3488, f1_score: 0.3488\n",
      "----랜덤포레스트 분류 모델 평가----\n",
      "Confusion Matrix\n",
      "[[ 86   0   0   0   0]\n",
      " [  0  85   0   0   0]\n",
      " [  0   0 193   0   0]\n",
      " [  0   0   0  55   0]\n",
      " [  0   0   0   0  95]]\n",
      "정확도(accuracy): 1.0000, 정밀도(precision): 1.0000, 재현율(recall): 1.0000, f1_score: 1.0000\n",
      "Confusion Matrix\n",
      "[[ 6  1  9  0  3]\n",
      " [ 0  2 12  0  1]\n",
      " [ 3  2 53  1  6]\n",
      " [ 1  0 15  0  1]\n",
      " [ 3  0  8  0  1]]\n",
      "정확도(accuracy): 0.4844, 정밀도(precision): 0.4844, 재현율(recall): 0.4844, f1_score: 0.4844\n",
      "----랜덤포레스트 분류 모델 평가----\n",
      "Confusion Matrix\n",
      "[[ 84   0   0   0   0]\n",
      " [  0  78   0   0   0]\n",
      " [  0   0 209   0   0]\n",
      " [  0   0   0  58   0]\n",
      " [  0   0   0   0  85]]\n",
      "정확도(accuracy): 1.0000, 정밀도(precision): 1.0000, 재현율(recall): 1.0000, f1_score: 1.0000\n",
      "Confusion Matrix\n",
      "[[ 3  0 17  0  1]\n",
      " [ 1  0 21  0  0]\n",
      " [ 3  1 42  1  2]\n",
      " [ 1  0 13  0  0]\n",
      " [ 1  0 19  0  2]]\n",
      "정확도(accuracy): 0.3672, 정밀도(precision): 0.3672, 재현율(recall): 0.3672, f1_score: 0.3672\n",
      "----랜덤포레스트 분류 모델 평가----\n",
      "Confusion Matrix\n",
      "[[ 86   0   0   0   0]\n",
      " [  0  71   0   0   0]\n",
      " [  0   0 211   0   0]\n",
      " [  0   0   0  59   0]\n",
      " [  0   0   0   0  87]]\n",
      "정확도(accuracy): 1.0000, 정밀도(precision): 1.0000, 재현율(recall): 1.0000, f1_score: 1.0000\n",
      "Confusion Matrix\n",
      "[[ 7  1 11  0  0]\n",
      " [ 9  2 17  0  1]\n",
      " [ 9  7 31  0  0]\n",
      " [ 2  2  9  0  0]\n",
      " [ 5  2 13  0  0]]\n",
      "정확도(accuracy): 0.3125, 정밀도(precision): 0.3125, 재현율(recall): 0.3125, f1_score: 0.3125\n"
     ]
    }
   ],
   "source": [
    "\"\"\"\n",
    "0. 사실상 Fit에 해당하는 부분임\n",
    "\n",
    "1. X_train, X_test y_train, y_test 받는다는 전제하에 짠 것임\n",
    "\n",
    "2. 예상 Output\n",
    "(1) y_test_pred를 리턴해서 재성이가 만든 쪽에서 y_수익률,-> 가공된 y_test_label,->예측된 y_test_pred \\\n",
    "만들 수 있도록 해줘야함\n",
    "\"\"\"\n",
    "\n",
    "score_list = []\n",
    "feature_list = []\n",
    "for train_idx, test_idx in kfold.split(X):\n",
    "    # 결과 엑셀 담기\n",
    "    X_train, X_test = X.loc[train_idx,:], X.loc[test_idx,:]\n",
    "    y_train, y_test = y[train_idx], y[test_idx]\n",
    "\n",
    "    rf_clf = RandomForestClassifier(random_state=0)\n",
    "    rf_clf.fit(X_train , y_train)\n",
    "    train_pred = rf_clf.predict(X_train)\n",
    "    test_pred = rf_clf.predict(X_test)\n",
    "\n",
    "    # 성과 평가\n",
    "    train_res = get_clf_eval(y_train, train_pred)\n",
    "    test_res = get_clf_eval(y_test,test_pred)\n",
    "    res = train_res + test_res\n",
    "\n",
    "    #\n",
    "    score_list.append(res)\n",
    "    feature_list.append(rf_clf.feature_importances_)\n",
    "\n",
    "\n",
    "# 나중에 통계낼때는 groupby 활용 & index는 train 시작 날짜로 해야함\n",
    "score_df = pd.DataFrame(score_list, columns = [\"Train\"]*4+[\"Test\"]*4).T \n",
    "\n",
    "feature_df = pd.DataFrame(feature_list, columns = X_train.columns).T\n",
    "\n"
   ]
  },
  {
   "cell_type": "markdown",
   "id": "aa3ccc18",
   "metadata": {},
   "source": [
    "# 함수 사용 예시_Forest알고리즘을 받고 deepcopy하는 것만 수정이 필요"
   ]
  },
  {
   "cell_type": "code",
   "execution_count": 45,
   "id": "5d5e5ed3",
   "metadata": {},
   "outputs": [],
   "source": [
    "def Result(clf = None, X_train, X_test, y_train, y_test):\n",
    "    # 반복문을 돌면서 모형이 지속적으로 fit되는 것을 방지하기 위해서 model의 deepcopy(?)가 필요함\n",
    "    # 마찬가지로 하이퍼 파라미터를 맞춘 clf를 밖에서 선언하고 가져와야함\n",
    "    clf = RandomForestClassifier() # clf = copy.deepcopy(clf)\n",
    "    \n",
    "    clf.fit(X_train , y_train)\n",
    "    train_pred = clf.predict(X_train)\n",
    "    test_pred = clf.predict(X_test)\n",
    "    \n",
    "    # 성과 평가\n",
    "    train_res = clf_eval(y_train, train_pred)\n",
    "    test_res = clf_eval(y_test,test_pred)\n",
    "    res = train_res + test_res\n",
    "    \n",
    "    #feature_importance\n",
    "    feature_importance = clf.feature_importances_\n",
    "    \n",
    "    D = {\"Score\":res, \"Feature\":feature_importance, \"y_pred\":test_pred}\n",
    "    return D"
   ]
  },
  {
   "cell_type": "code",
   "execution_count": 46,
   "id": "318d54f9",
   "metadata": {},
   "outputs": [
    {
     "name": "stdout",
     "output_type": "stream",
     "text": [
      "Confusion Matrix\n",
      "[[ 86   0   0   0   0]\n",
      " [  0  71   0   0   0]\n",
      " [  0   0 211   0   0]\n",
      " [  0   0   0  59   0]\n",
      " [  0   0   0   0  87]]\n",
      "정확도(accuracy): 1.0000, 정밀도(precision): 1.0000, 재현율(recall): 1.0000, f1_score: 1.0000\n",
      "Confusion Matrix\n",
      "[[ 4  2 12  0  1]\n",
      " [ 8  3 17  0  1]\n",
      " [ 7  8 32  0  0]\n",
      " [ 1  2 10  0  0]\n",
      " [ 2  2 16  0  0]]\n",
      "정확도(accuracy): 0.3047, 정밀도(precision): 0.3047, 재현율(recall): 0.3047, f1_score: 0.3047\n"
     ]
    }
   ],
   "source": [
    "D = Result(X_train,X_test, y_train, y_test)"
   ]
  },
  {
   "cell_type": "code",
   "execution_count": 47,
   "id": "7c0624ed",
   "metadata": {},
   "outputs": [
    {
     "data": {
      "text/plain": [
       "[1.0, 1.0, 1.0, 1.0, 0.3046875, 0.3046875, 0.3046875, 0.3046875]"
      ]
     },
     "execution_count": 47,
     "metadata": {},
     "output_type": "execute_result"
    }
   ],
   "source": [
    "D[\"Score\"]"
   ]
  },
  {
   "cell_type": "markdown",
   "id": "50924fca",
   "metadata": {},
   "source": [
    "# 저장 예시\n",
    "* 내 함수 밖에서 선언한 리스트에 내꺼에서 나온 것들을 append\n",
    "* for 문이 끝나면 데이터 프레임 선언하고 저장"
   ]
  },
  {
   "cell_type": "code",
   "execution_count": null,
   "id": "b169a50a",
   "metadata": {},
   "outputs": [],
   "source": [
    "    score_list.append(res)\n",
    "    feature_list.append(rf_clf.feature_importances_)\n",
    "\n",
    "\n",
    "# 나중에 통계낼때는 groupby 활용 & index는 train 시작 날짜로 해야함\n",
    "score_df = pd.DataFrame(score_list, columns = [\"Train\"]*4+[\"Test\"]*4).T \n",
    "\n",
    "feature_df = pd.DataFrame(feature_list, columns = X_train.columns).T\n",
    "\n"
   ]
  },
  {
   "cell_type": "code",
   "execution_count": null,
   "id": "2f00133e",
   "metadata": {},
   "outputs": [],
   "source": []
  }
 ],
 "metadata": {
  "kernelspec": {
   "display_name": "Python 3",
   "language": "python",
   "name": "python3"
  },
  "language_info": {
   "codemirror_mode": {
    "name": "ipython",
    "version": 3
   },
   "file_extension": ".py",
   "mimetype": "text/x-python",
   "name": "python",
   "nbconvert_exporter": "python",
   "pygments_lexer": "ipython3",
   "version": "3.8.8"
  }
 },
 "nbformat": 4,
 "nbformat_minor": 5
}
