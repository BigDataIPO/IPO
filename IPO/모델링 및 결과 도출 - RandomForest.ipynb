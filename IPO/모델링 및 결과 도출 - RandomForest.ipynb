{
 "cells": [
  {
   "cell_type": "code",
   "execution_count": 2,
   "id": "86d116a4",
   "metadata": {},
   "outputs": [],
   "source": [
    "import warnings\n",
    "warnings.filterwarnings('ignore')\n",
    "import pandas as pd\n",
    "import numpy as np\n",
    "from dateutil.relativedelta import relativedelta\n",
    "from datetime import datetime\n",
    "from dateutil.parser import parse\n",
    "import copy\n",
    "\n",
    "from imblearn.over_sampling import SMOTE\n",
    "#시각화\n",
    "import matplotlib.pyplot as plt\n",
    "import seaborn as sns\n",
    "\n",
    "\n",
    "from sklearn.model_selection import train_test_split\n",
    "from sklearn.model_selection import KFold, StratifiedKFold\n",
    "from sklearn.metrics import *\n",
    "from sklearn.metrics import accuracy_score, confusion_matrix, log_loss\n",
    "\n",
    "##알고리즘 \n",
    "from sklearn.ensemble import RandomForestClassifier\n",
    "from xgboost import XGBClassifier"
   ]
  },
  {
   "cell_type": "code",
   "execution_count": 12,
   "id": "d4f2cb05",
   "metadata": {},
   "outputs": [],
   "source": [
    "# 다양한 오차 측정 지표를 확인하기 위한 함수 정의\n",
    "\n",
    "from sklearn.metrics import *\n",
    "\n",
    "def get_clf_eval(y_test, pred=None, pred_proba=None): \n",
    "    confusion = confusion_matrix(y_test, pred) \n",
    "    accuracy = accuracy_score(y_test, pred) \n",
    "    precision = precision_score(y_test, pred , average= 'weighted') \n",
    "    recall = recall_score(y_test, pred , average= 'weighted') \n",
    "    f1 = f1_score(y_test, pred , average= 'weighted') \n",
    "    \n",
    "#     print('정확도(accuracy): {0:.4f}, 정밀도(precision): {1:.4f}, 재현율(recall): {2:.4f}, f1_score: {3:.4f}'.format(accuracy, precision, recall, f1))\n",
    "    \n",
    "#     confusion = confusion_matrix(y_test, pred) \n",
    "#     accuracy = accuracy_score(y_test, pred) \n",
    "#     precision = precision_score(y_test, pred , average= 'macro') \n",
    "#     recall = recall_score(y_test, pred , average= 'macro') \n",
    "#     f1 = f1_score(y_test, pred , average= 'macro') \n",
    "    \n",
    "#     print('정확도(accuracy): {0:.4f}, 정밀도(precision): {1:.4f}, 재현율(recall): {2:.4f}, f1_score: {3:.4f}'.format(accuracy, precision, recall, f1))\n",
    "    \n",
    "    return [accuracy, precision, recall, f1]"
   ]
  },
  {
   "cell_type": "code",
   "execution_count": 8,
   "id": "48fd1e51",
   "metadata": {},
   "outputs": [],
   "source": [
    "def Cut(Series , cuts):\n",
    "    \"구분할 iter가능한 변수와 구분 기준을 입력받으면 구분 기준 앞에서 부터 1로 구분해서 return 함\"\n",
    "    Cuts = copy.deepcopy(cuts)\n",
    "    Cuts.append(np.inf)\n",
    "    Cuts.insert(0,-1*np.inf)\n",
    "    R = len(Cuts)\n",
    "    label = range(1,R)\n",
    "    return pd.cut(Series, Cuts, labels = label)"
   ]
  },
  {
   "cell_type": "markdown",
   "id": "7e003447",
   "metadata": {},
   "source": [
    "# 데이터 불러오기"
   ]
  },
  {
   "cell_type": "code",
   "execution_count": 3,
   "id": "c5cbeabc",
   "metadata": {},
   "outputs": [],
   "source": [
    "df_1_3 = pd.read_csv(\"d:/공모전/IPO/IPO/CleanData/X_train_After_IPO_1.csv\")\n",
    "df_3_6 = pd.read_csv(\"d:/공모전/IPO/IPO/CleanData/X_train_After_IPO_3.csv\")\n",
    "df_0 = pd.read_csv(\"d:/공모전/IPO/IPO/CleanData/X_train_Before_IPO.csv\")\n",
    "df_end = pd.read_csv(\"d:/공모전/IPO/IPO/CleanData/X_train_EndPrice_IPO.csv\")"
   ]
  },
  {
   "cell_type": "code",
   "execution_count": 4,
   "id": "0c3c42ec",
   "metadata": {},
   "outputs": [],
   "source": [
    "df_0_1 = df_0.drop(['공모가 대비 3개월 수익률','공모가 대비 6개월 수익률'],axis =1)\n",
    "df_0_3 = df_0.drop(['공모가 대비 1개월 수익률','공모가 대비 6개월 수익률'],axis =1)\n",
    "df_0_6 = df_0.drop(['공모가 대비 1개월 수익률','공모가 대비 3개월 수익률'],axis =1)"
   ]
  },
  {
   "cell_type": "code",
   "execution_count": 5,
   "id": "eabe84cf",
   "metadata": {},
   "outputs": [],
   "source": [
    "df_end_1 = df_end.drop(['종가 대비 3개월 수익률','종가 대비 6개월 수익률','NullCount'],axis =1)\n",
    "df_end_3 = df_end.drop(['종가 대비 1개월 수익률','종가 대비 6개월 수익률','NullCount'],axis =1)\n",
    "df_end_6 = df_end.drop(['종가 대비 1개월 수익률','종가 대비 3개월 수익률','NullCount'],axis =1)"
   ]
  },
  {
   "cell_type": "markdown",
   "id": "3acb5a17",
   "metadata": {},
   "source": [
    "# 공통 전처리 및 랜덤포레스트"
   ]
  },
  {
   "cell_type": "code",
   "execution_count": 58,
   "id": "35cd6626",
   "metadata": {},
   "outputs": [],
   "source": [
    "def process_final(df,y_name):\n",
    "    \n",
    "    ## 기본 전처리\n",
    "    df['상장일'] = pd.to_datetime(df['상장일'])\n",
    "    df = df.set_index(['상장일'])\n",
    "    df = df.drop(['종목명','공모 시가총액'],axis = 1) ## 나중에 카테고리 진행할려면 남겨줄 것\n",
    "    if y_name == '공모가 대비 6개월 수익률' or \"종가 대비 6개월 수익률\":\n",
    "        df['Cat'] = Cut(df[y_name],[-0.4, -0.2, 0.2, 0.4])\n",
    "       \n",
    "        \n",
    "    else :\n",
    "        df['Cat'] = Cut(df[y_name],[-0.2, -0.1, 0.1, 0.2])\n",
    "       \n",
    "    \n",
    "    ## train 3년 test 1년으로 총 기간을 3개월 이동으로 36개 구간분할\n",
    "    train_list = []\n",
    "    test_list = []\n",
    "    train_start_date = '2009-04-01' ## 기한은 나중에 변경할수도\n",
    "    test_start_date = parse(str(train_start_date)).date() + relativedelta(years =4)\n",
    "    train_end_date = parse(str(test_start_date)).date() - relativedelta(days =1)\n",
    "    test_end_date = parse(str(train_end_date)).date() + relativedelta(years =1)\n",
    "\n",
    "    while True:\n",
    "\n",
    "        train_list.append(df[train_start_date : train_end_date])\n",
    "        test_list.append(df[test_start_date : test_end_date])\n",
    "\n",
    "        train_start_date = parse(str(train_start_date)).date() + relativedelta(months=3)\n",
    "        test_start_date = parse(str(test_start_date)).date() + relativedelta(months=3)\n",
    "        train_end_date = parse(str(train_end_date)).date() + relativedelta(months=3)\n",
    "        test_end_date = parse(str(test_end_date)).date() + relativedelta(months=3)\n",
    "\n",
    "        if str(train_start_date) == '2017-04-01':\n",
    "            break\n",
    "            \n",
    "    y_data = []\n",
    "    score_list = []\n",
    "    feature_list = []\n",
    "\n",
    "    for i in range(0,len(train_list)):\n",
    "        X_train = train_list[i].drop([y_name,'Cat'],axis =1)\n",
    "        y_train = train_list[i]['Cat']\n",
    "        X_test = test_list[i].drop([y_name,'Cat'],axis =1)\n",
    "        y_test = test_list[i]['Cat']\n",
    "       \n",
    "        \n",
    "\n",
    "       # 랜덤 포레스트 학습 및 별도의 테스트 셋으로 예측 성능 평가\n",
    "              \n",
    "        clf = RandomForestClassifier(random_state=0 , max_depth = 5 , min_samples_leaf = 3 , min_samples_split =  2 , n_estimators = 400)\n",
    "\n",
    "        \n",
    "\n",
    "        clf.fit(X_train , y_train)\n",
    "        train_pred = clf.predict(X_train)\n",
    "        test_pred = clf.predict(X_test)\n",
    "\n",
    "        # 성과 평가\n",
    "        train_res = get_clf_eval(y_train, train_pred)\n",
    "        test_res = get_clf_eval(y_test,test_pred)\n",
    "        res = train_res + test_res\n",
    "\n",
    "\n",
    "        #feature_importance\n",
    "        feature_importance = clf.feature_importances_\n",
    "\n",
    "\n",
    "        pred_value = pd.Series(test_pred,index = y_test.index)\n",
    "        per = test_list[i][y_name]\n",
    "        y_testdata = pd.concat([per,y_test,pred_value] , axis = 1)\n",
    "        y_testdata.columns = ['실제 y 수익률','실제 y라벨링','예측 y 라벨링']\n",
    "\n",
    "        score_list.append(res)\n",
    "        feature_list.append(feature_importance)\n",
    "        y_data.append(y_testdata)   \n",
    "    df_score = pd.DataFrame(score_list,columns = [\"정확도\",\"정밀도\",\"재현율\",\"f1_score\"]*2).T \n",
    "    df_score.rename(columns = lambda x : \"model_set_\"+ str(x),inplace = True)\n",
    "\n",
    "    df_feature = pd.DataFrame(feature_list,columns = X_train.columns).T \n",
    "    df_feature.rename(columns = lambda x : \"model_set_\"+ str(x),inplace = True)\n",
    "        \n",
    "    return df_score , df_feature , y_data"
   ]
  },
  {
   "cell_type": "code",
   "execution_count": 59,
   "id": "3c08a1a0",
   "metadata": {},
   "outputs": [],
   "source": [
    "df_score_0_1,df_feature_0_1,y_data_0_1 = process_final(df_0_1,'공모가 대비 1개월 수익률')"
   ]
  },
  {
   "cell_type": "code",
   "execution_count": 60,
   "id": "69f79adb",
   "metadata": {},
   "outputs": [],
   "source": [
    "df_score_0_3,df_feature_0_3,y_data_0_3 = process_final(df_0_3,'공모가 대비 3개월 수익률')"
   ]
  },
  {
   "cell_type": "code",
   "execution_count": 61,
   "id": "18133100",
   "metadata": {},
   "outputs": [],
   "source": [
    "df_score_0_6,df_feature_0_6,y_data_0_6 = process_final(df_0_6,'공모가 대비 6개월 수익률')"
   ]
  },
  {
   "cell_type": "code",
   "execution_count": 62,
   "id": "84d900a9",
   "metadata": {},
   "outputs": [],
   "source": [
    "df_score_1_3,df_feature_1_3,y_data_1_3 = process_final(df_1_3,'1_3_수익률')"
   ]
  },
  {
   "cell_type": "code",
   "execution_count": 63,
   "id": "355114cf",
   "metadata": {},
   "outputs": [],
   "source": [
    "df_score_3_6,df_feature_3_6,y_data_3_6 = process_final(df_3_6,'3_6_수익률')"
   ]
  },
  {
   "cell_type": "code",
   "execution_count": 64,
   "id": "6c8bf8ab",
   "metadata": {},
   "outputs": [],
   "source": [
    "df_score_end_1,df_feature_end_1,y_data_end_1 = process_final(df_end_1,'종가 대비 1개월 수익률')\n",
    "df_score_end_3,df_feature_end_3,y_data_end_3 = process_final(df_end_3,'종가 대비 3개월 수익률')\n",
    "df_score_end_6,df_feature_end_6,y_data_end_6 = process_final(df_end_6,'종가 대비 6개월 수익률')"
   ]
  },
  {
   "cell_type": "code",
   "execution_count": 80,
   "id": "1694e7a2",
   "metadata": {},
   "outputs": [],
   "source": [
    "df_score_0_1.to_csv(\"0_1_모델 평가.csv\",encoding = 'euc-kr')\n",
    "df_score_0_3.to_csv(\"0_3_모델 평가.csv\",encoding = 'euc-kr')\n",
    "df_score_0_6.to_csv(\"0_6_모델 평가.csv\",encoding = 'euc-kr')\n",
    "df_score_1_3.to_csv(\"1_3_모델 평가.csv\",encoding = 'euc-kr')\n",
    "df_score_3_6.to_csv(\"3_6_모델 평가.csv\",encoding = 'euc-kr')\n",
    "df_score_end_1.to_csv(\"end_1_모델 평가.csv\",encoding = 'euc-kr')\n",
    "df_score_end_3.to_csv(\"end_3_모델 평가.csv\",encoding = 'euc-kr')\n",
    "df_score_end_6.to_csv(\"end_6_모델 평가.csv\",encoding = 'euc-kr')"
   ]
  },
  {
   "cell_type": "code",
   "execution_count": 81,
   "id": "6790bf8c",
   "metadata": {},
   "outputs": [],
   "source": [
    "df_feature_0_1.to_csv(\"0_1_feature별 값.csv\",encoding = 'euc-kr')\n",
    "df_feature_0_3.to_csv(\"0_3_feature별 값.csv\",encoding = 'euc-kr')\n",
    "df_feature_0_6.to_csv(\"0_6_feature별 값.csv\",encoding = 'euc-kr')\n",
    "df_feature_1_3.to_csv(\"1_3_feature별 값.csv\",encoding = 'euc-kr')\n",
    "df_feature_3_6.to_csv(\"3_6_feature별 값.csv\",encoding = 'euc-kr')\n",
    "df_feature_end_1.to_csv(\"end_1_feature별 값.csv\",encoding = 'euc-kr')\n",
    "df_feature_end_3.to_csv(\"end_3_feature별 값.csv\",encoding = 'euc-kr')\n",
    "df_feature_end_6.to_csv(\"end_6_feature별 값.csv\",encoding = 'euc-kr')"
   ]
  },
  {
   "cell_type": "code",
   "execution_count": 84,
   "id": "56125d83",
   "metadata": {},
   "outputs": [],
   "source": [
    "frame(y_data_0_1).to_csv(\"0_1_수익률.csv\",encoding = 'euc-kr')\n",
    "frame(y_data_0_3).to_csv(\"0_3_수익률.csv\",encoding = 'euc-kr')\n",
    "frame(y_data_0_6).to_csv(\"0_6_수익률.csv\",encoding = 'euc-kr')\n",
    "frame(y_data_1_3).to_csv(\"1_3_수익률.csv\",encoding = 'euc-kr')\n",
    "frame(y_data_3_6).to_csv(\"3_6_수익률.csv\",encoding = 'euc-kr')\n",
    "frame(y_data_end_1).to_csv(\"end_1_수익률.csv\",encoding = 'euc-kr')\n",
    "frame(y_data_end_3).to_csv(\"end_3_수익률.csv\",encoding = 'euc-kr')\n",
    "frame(y_data_end_6).to_csv(\"end_6_수익률.csv\",encoding = 'euc-kr')"
   ]
  },
  {
   "cell_type": "code",
   "execution_count": 24,
   "id": "a205fa27",
   "metadata": {},
   "outputs": [],
   "source": [
    "def buy_sell(y_data):\n",
    "    portfolio = []\n",
    "    for i in range(0,32):\n",
    "        buy = y_data[i][y_data[i]['예측 y 라벨링'] > 3]['실제 y 수익률']\n",
    "        sell = y_data[i][y_data[i]['예측 y 라벨링'] < 3]['실제 y 수익률']\n",
    "        sum_1 = buy.sum() - sell.sum()\n",
    "        sum_2 = len(buy)+len(sell)\n",
    "        value = sum_1/sum_2\n",
    "        portfolio.append(value)\n",
    "    data = pd.DataFrame(portfolio).T\n",
    "    data.rename(index = {0 : \"buy_sell수익률\"},columns = lambda x : \"model_set_\"+ str(x),inplace = True )\n",
    "    data['mean'] = data.mean(axis=1)[0]\n",
    "                         \n",
    "    return data\n",
    "    "
   ]
  },
  {
   "cell_type": "code",
   "execution_count": 25,
   "id": "69a4ae3a",
   "metadata": {},
   "outputs": [],
   "source": [
    "def buy(y_data):\n",
    "    portfolio = []\n",
    "    for i in range(0,32):\n",
    "        buy = y_data[i][y_data[i]['예측 y 라벨링'] > 3]['실제 y 수익률']\n",
    "        sum_1 = buy.sum()\n",
    "        sum_2 = len(buy)\n",
    "        value = sum_1/sum_2\n",
    "        portfolio.append(value)\n",
    "    data = pd.DataFrame(portfolio).T\n",
    "    data.rename(index = {0 : \"buy수익률\"},columns = lambda x : \"model_set_\"+ str(x),inplace = True )\n",
    "    data['mean'] = data.mean(axis=1)[0]\n",
    "                         \n",
    "    return data"
   ]
  },
  {
   "cell_type": "code",
   "execution_count": 26,
   "id": "b5a38bf8",
   "metadata": {},
   "outputs": [],
   "source": [
    "def mean(y_data):\n",
    "    portfolio = []\n",
    "    for i in range(0,32):\n",
    "        buy = y_data[i]['실제 y 수익률']\n",
    "        sum_1 = buy.sum()\n",
    "        sum_2 = len(buy)\n",
    "        value = sum_1/sum_2\n",
    "        portfolio.append(value)\n",
    "    data = pd.DataFrame(portfolio).T\n",
    "    data.rename(index = {0 : \"all수익률\"},columns = lambda x : \"model_set_\"+ str(x),inplace = True )\n",
    "    data['mean'] = data.mean(axis=1)[0]\n",
    "    return data"
   ]
  },
  {
   "cell_type": "code",
   "execution_count": 27,
   "id": "aa60f7f7",
   "metadata": {},
   "outputs": [],
   "source": [
    "def frame(y_data):\n",
    "    buy_frame = buy(y_data)\n",
    "    buy_sell_frame = buy_sell(y_data)\n",
    "    mean_frame = mean(y_data)\n",
    "    value = pd.concat([buy_sell_frame,buy_frame,mean_frame])\n",
    "    return value"
   ]
  },
  {
   "cell_type": "code",
   "execution_count": 78,
   "id": "bb500498",
   "metadata": {},
   "outputs": [],
   "source": [
    "def precision(y_data):\n",
    "    pre = []\n",
    "    for i in range(0,32):\n",
    "        new = y_data[i][y_data[i]['예측 y 라벨링'] == 4 | 5]\n",
    "        real = new[new['실제 y라벨링'] == 4 | 5]\n",
    "        if len(new) == 0:\n",
    "            per = 0\n",
    "        else :\n",
    "            per = len(real)/len(new)\n",
    "        pre.append(per)\n",
    "    data = pd.DataFrame(pre).T\n",
    "    data.rename(index = {0 : \"특이도\"},columns = lambda x : \"model_set_\"+ str(x),inplace = True )\n",
    "    return data"
   ]
  },
  {
   "cell_type": "code",
   "execution_count": 83,
   "id": "efc1a37a",
   "metadata": {},
   "outputs": [],
   "source": [
    "precision(y_data_0_1).to_csv(\"0_1_특이도.csv\",encoding = 'euc-kr')\n",
    "precision(y_data_0_3).to_csv(\"0_3_특이도.csv\",encoding = 'euc-kr')\n",
    "precision(y_data_0_6).to_csv(\"0_6_특이도.csv\",encoding = 'euc-kr')\n",
    "precision(y_data_1_3).to_csv(\"1_3_특이도.csv\",encoding = 'euc-kr')\n",
    "precision(y_data_3_6).to_csv(\"3_6_특이도.csv\",encoding = 'euc-kr')\n",
    "precision(y_data_end_1).to_csv(\"end_1_특이도.csv\",encoding = 'euc-kr')\n",
    "precision(y_data_end_3).to_csv(\"end_3_특이도.csv\",encoding = 'euc-kr')\n",
    "precision(y_data_end_6).to_csv(\"end_6_특이도.csv\",encoding = 'euc-kr')"
   ]
  },
  {
   "cell_type": "code",
   "execution_count": null,
   "id": "05ca22b3",
   "metadata": {},
   "outputs": [],
   "source": []
  }
 ],
 "metadata": {
  "kernelspec": {
   "display_name": "Python 3",
   "language": "python",
   "name": "python3"
  },
  "language_info": {
   "codemirror_mode": {
    "name": "ipython",
    "version": 3
   },
   "file_extension": ".py",
   "mimetype": "text/x-python",
   "name": "python",
   "nbconvert_exporter": "python",
   "pygments_lexer": "ipython3",
   "version": "3.8.8"
  },
  "toc": {
   "base_numbering": 1,
   "nav_menu": {},
   "number_sections": true,
   "sideBar": true,
   "skip_h1_title": false,
   "title_cell": "Table of Contents",
   "title_sidebar": "Contents",
   "toc_cell": false,
   "toc_position": {},
   "toc_section_display": true,
   "toc_window_display": false
  }
 },
 "nbformat": 4,
 "nbformat_minor": 5
}
