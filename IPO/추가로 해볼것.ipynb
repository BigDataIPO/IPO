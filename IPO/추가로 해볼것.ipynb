{
 "cells": [
  {
   "cell_type": "code",
   "execution_count": 1,
   "id": "e6cfb90c",
   "metadata": {},
   "outputs": [],
   "source": [
    "import warnings\n",
    "warnings.filterwarnings('ignore')\n",
    "import pandas as pd\n",
    "import numpy as np\n",
    "from dateutil.relativedelta import relativedelta\n",
    "from datetime import datetime\n",
    "from dateutil.parser import parse\n",
    "import copy\n",
    "\n",
    "from imblearn.over_sampling import SMOTE\n",
    "#시각화\n",
    "import matplotlib.pyplot as plt\n",
    "import seaborn as sns\n",
    "\n",
    "\n",
    "from sklearn.model_selection import train_test_split\n",
    "from sklearn.model_selection import KFold, StratifiedKFold\n",
    "from sklearn.metrics import *\n",
    "from sklearn.metrics import accuracy_score, confusion_matrix, log_loss\n",
    "\n",
    "##알고리즘 \n",
    "from sklearn.ensemble import RandomForestClassifier\n",
    "from xgboost import XGBClassifier"
   ]
  },
  {
   "cell_type": "code",
   "execution_count": 2,
   "id": "f039d43a",
   "metadata": {},
   "outputs": [],
   "source": [
    "# 다양한 오차 측정 지표를 확인하기 위한 함수 정의\n",
    "\n",
    "from sklearn.metrics import *\n",
    "\n",
    "def get_clf_eval(y_test, y_data, pred=None, pred_proba=None): \n",
    "    confusion = confusion_matrix(y_test, pred) \n",
    "    accuracy = accuracy_score(y_test, pred) \n",
    "    precision = precision_val(y_data)\n",
    "    recall = recall_val(y_data) \n",
    "    f1 = f1_score(y_test, pred , average= 'weighted') \n",
    "    return [accuracy, precision, recall, f1]"
   ]
  },
  {
   "cell_type": "code",
   "execution_count": 8,
   "id": "a63d6d7e",
   "metadata": {},
   "outputs": [],
   "source": [
    "def Cut(Series , cuts):\n",
    "    \"구분할 iter가능한 변수와 구분 기준을 입력받으면 구분 기준 앞에서 부터 1로 구분해서 return 함\"\n",
    "    Cuts = copy.deepcopy(cuts)\n",
    "    Cuts.append(np.inf)\n",
    "    Cuts.insert(0,-1*np.inf)\n",
    "    R = len(Cuts)\n",
    "    label = range(1,R)\n",
    "    return pd.cut(Series, Cuts, labels = label)"
   ]
  },
  {
   "cell_type": "code",
   "execution_count": null,
   "id": "ac99ff7a",
   "metadata": {},
   "outputs": [],
   "source": [
    "def precision_val(y_data):\n",
    "    \n",
    "\n",
    "    new = y_data[y_data['예측 y 라벨링'] > 2]\n",
    "    real = new[new['실제 y라벨링'] > 2]\n",
    "    if len(new) == 0:\n",
    "        per = 0\n",
    "    else :\n",
    "        per = len(real)/len(new)\n",
    "    return per"
   ]
  },
  {
   "cell_type": "code",
   "execution_count": null,
   "id": "a2694780",
   "metadata": {},
   "outputs": [],
   "source": [
    "def recall_val(y_data):\n",
    "\n",
    "    real = y_data[y_data['실제 y라벨링'] > 2]\n",
    "    new = real[real['예측 y 라벨링'] > 2]\n",
    "    if len(new) == 0:\n",
    "        per = 0\n",
    "    else :\n",
    "        per = len(new)/len(real)\n",
    "    return per"
   ]
  },
  {
   "cell_type": "code",
   "execution_count": 3,
   "id": "73e81725",
   "metadata": {},
   "outputs": [],
   "source": [
    "df_1_3 = pd.read_csv(\"d:/공모전/IPO/IPO/CleanData/X_train_After_IPO_1.csv\",encoding = \"cp949\")\n",
    "df_3_6 = pd.read_csv(\"d:/공모전/IPO/IPO/CleanData/X_train_After_IPO_3.csv\",encoding = \"cp949\")\n",
    "df_0 = pd.read_csv(\"d:/공모전/IPO/IPO/CleanData/X_train_Before_IPO.csv\",encoding = \"cp949\")\n",
    "df_end = pd.read_csv(\"d:/공모전/IPO/IPO/CleanData/X_train_EndPrice_IPO.csv\",encoding = \"cp949\")"
   ]
  },
  {
   "cell_type": "code",
   "execution_count": 4,
   "id": "ae54f441",
   "metadata": {},
   "outputs": [],
   "source": [
    "df_0_1 = df_0.drop(['공모가 대비 3개월 수익률','공모가 대비 6개월 수익률'],axis =1)\n",
    "df_0_3 = df_0.drop(['공모가 대비 1개월 수익률','공모가 대비 6개월 수익률'],axis =1)\n",
    "df_0_6 = df_0.drop(['공모가 대비 1개월 수익률','공모가 대비 3개월 수익률'],axis =1)"
   ]
  },
  {
   "cell_type": "code",
   "execution_count": 5,
   "id": "e544eaaa",
   "metadata": {},
   "outputs": [],
   "source": [
    "df_end_1 = df_end.drop(['종가 대비 3개월 수익률','종가 대비 6개월 수익률'],axis =1)\n",
    "df_end_3 = df_end.drop(['종가 대비 1개월 수익률','종가 대비 6개월 수익률'],axis =1)\n",
    "df_end_6 = df_end.drop(['종가 대비 1개월 수익률','종가 대비 3개월 수익률'],axis =1)"
   ]
  },
  {
   "cell_type": "markdown",
   "id": "92dd25ef",
   "metadata": {},
   "source": [
    "# 랜덤포레스트 값"
   ]
  },
  {
   "cell_type": "code",
   "execution_count": 6,
   "id": "d6950124",
   "metadata": {},
   "outputs": [],
   "source": [
    "def process_final(df,y_name):\n",
    "    \n",
    "    ## 기본 전처리\n",
    "    df['상장일'] = pd.to_datetime(df['상장일'])\n",
    "    df = df.set_index(['상장일'])\n",
    "    df = df.drop(['종목명','공모 시가총액'],axis = 1) ## 나중에 카테고리 진행할려면 남겨줄 것\n",
    "    if y_name == '공모가 대비 6개월 수익률' or \"종가 대비 6개월 수익률\":\n",
    "        df['Cat'] = Cut(df[y_name],[ -0.2, 0.2, 0.4])\n",
    "       \n",
    "        \n",
    "    else :\n",
    "        df['Cat'] = Cut(df[y_name],[ -0.1, 0.1, 0.2])\n",
    "       \n",
    "    \n",
    "    ## train 3년 test 1년으로 총 기간을 3개월 이동으로 36개 구간분할\n",
    "    train_list = []\n",
    "    test_list = []\n",
    "    train_start_date = '2009-04-01' ## 기한은 나중에 변경할수도\n",
    "    test_start_date = parse(str(train_start_date)).date() + relativedelta(years =4)\n",
    "    train_end_date = parse(str(test_start_date)).date() - relativedelta(days =1)\n",
    "    test_end_date = parse(str(train_end_date)).date() + relativedelta(years =1) \n",
    "\n",
    "    while True:\n",
    "\n",
    "        train_list.append(df[train_start_date : train_end_date])\n",
    "        test_list.append(df[test_start_date : test_end_date])\n",
    "\n",
    "        train_start_date = parse(str(train_start_date)).date() + relativedelta(months=3)\n",
    "        test_start_date = parse(str(test_start_date)).date() + relativedelta(months=3)\n",
    "        train_end_date = parse(str(train_end_date)).date() + relativedelta(months=3)\n",
    "        test_end_date = parse(str(test_end_date)).date() + relativedelta(months=3)\n",
    "\n",
    "        if str(train_start_date) == '2017-04-01':\n",
    "            break\n",
    "            \n",
    "    y_data = []\n",
    "    score_list = []\n",
    "    feature_list = []\n",
    "\n",
    "    for i in range(0,len(train_list)):\n",
    "        X_train_before = train_list[i].drop([y_name,'Cat'],axis =1)\n",
    "        y_train_before = train_list[i]['Cat']\n",
    "        X_test = test_list[i].drop([y_name,'Cat'],axis =1)\n",
    "        y_test = test_list[i]['Cat']\n",
    "        \n",
    "        smote = SMOTE(random_state=0,k_neighbors = 3)\n",
    "        X_train,y_train = smote.fit_resample(X_train_before,y_train_before)\n",
    "#         ros = RandomOverSampler()\n",
    "#         X_train,y_train = ros.fit_resample(X_train_before,y_train_before)\n",
    "\n",
    "       # 랜덤 포레스트 학습 및 별도의 테스트 셋으로 예측 성능 평가\n",
    "              \n",
    "        clf = RandomForestClassifier(random_state=0 , max_depth = 5 , min_samples_leaf = 6 , min_samples_split =  12 , \\\n",
    "                                     n_estimators = 20 )\n",
    "        \n",
    "\n",
    "        clf.fit(X_train , y_train)\n",
    "        train_pred = clf.predict(X_train_before)\n",
    "        test_pred = clf.predict(X_test)\n",
    "\n",
    "\n",
    "\n",
    "\n",
    "        #feature_importance\n",
    "        feature_importance = clf.feature_importances_\n",
    "\n",
    "\n",
    "        pred_value = pd.Series(test_pred,index = y_test.index)\n",
    "        per = test_list[i][y_name]\n",
    "        y_testdata = pd.concat([per,y_test,pred_value] , axis = 1)\n",
    "        y_testdata.columns = ['실제 y 수익률','실제 y라벨링','예측 y 라벨링']\n",
    "        \n",
    "        train_pred_value = pd.Series(train_pred,index = y_train_before.index)\n",
    "        per = train_list[i][y_name]\n",
    "        y_traindata = pd.concat([per,y_train_before,train_pred_value] , axis = 1)\n",
    "        y_traindata.columns = ['실제 y 수익률','실제 y라벨링','예측 y 라벨링']\n",
    "        \n",
    "        \n",
    "        # 성과 평가\n",
    "        train_res = get_clf_eval(y_train_before, y_traindata, train_pred)\n",
    "        test_res = get_clf_eval(y_test, y_testdata,test_pred)\n",
    "        res = train_res + test_res\n",
    "        \n",
    "        score_list.append(res)\n",
    "        feature_list.append(feature_importance)\n",
    "        y_data.append(y_testdata)   \n",
    "    df_score = pd.DataFrame(score_list,columns = [\"정확도\",\"정밀도\",\"재현율\",\"f1_score\"]+[\"정확도_test\",\"정밀도_test\",\"재현율_test\",\"f1_score_test\"]).T \n",
    "    df_score.rename(columns = lambda x : \"model_set_\"+ str(x),inplace = True)\n",
    "\n",
    "    df_feature = pd.DataFrame(feature_list,columns = X_train.columns).T \n",
    "    df_feature.rename(columns = lambda x : \"model_set_\"+ str(x),inplace = True)\n",
    "        \n",
    "    return df_score , df_feature , y_data"
   ]
  },
  {
   "cell_type": "code",
   "execution_count": 9,
   "id": "7d368955",
   "metadata": {},
   "outputs": [
    {
     "ename": "NameError",
     "evalue": "name 'precision_val' is not defined",
     "output_type": "error",
     "traceback": [
      "\u001b[1;31m---------------------------------------------------------------------------\u001b[0m",
      "\u001b[1;31mNameError\u001b[0m                                 Traceback (most recent call last)",
      "\u001b[1;32m<ipython-input-9-af2ea86c27a6>\u001b[0m in \u001b[0;36m<module>\u001b[1;34m\u001b[0m\n\u001b[1;32m----> 1\u001b[1;33m \u001b[0mdf_score_0_1\u001b[0m\u001b[1;33m,\u001b[0m\u001b[0mdf_feature_0_1\u001b[0m\u001b[1;33m,\u001b[0m\u001b[0my_data_0_1\u001b[0m \u001b[1;33m=\u001b[0m \u001b[0mprocess_final\u001b[0m\u001b[1;33m(\u001b[0m\u001b[0mdf_0_1\u001b[0m\u001b[1;33m,\u001b[0m\u001b[1;34m'공모가 대비 1개월 수익률'\u001b[0m\u001b[1;33m)\u001b[0m\u001b[1;33m\u001b[0m\u001b[1;33m\u001b[0m\u001b[0m\n\u001b[0m",
      "\u001b[1;32m<ipython-input-6-7ceeffe72868>\u001b[0m in \u001b[0;36mprocess_final\u001b[1;34m(df, y_name)\u001b[0m\n\u001b[0;32m     78\u001b[0m \u001b[1;33m\u001b[0m\u001b[0m\n\u001b[0;32m     79\u001b[0m         \u001b[1;31m# 성과 평가\u001b[0m\u001b[1;33m\u001b[0m\u001b[1;33m\u001b[0m\u001b[1;33m\u001b[0m\u001b[0m\n\u001b[1;32m---> 80\u001b[1;33m         \u001b[0mtrain_res\u001b[0m \u001b[1;33m=\u001b[0m \u001b[0mget_clf_eval\u001b[0m\u001b[1;33m(\u001b[0m\u001b[0my_train_before\u001b[0m\u001b[1;33m,\u001b[0m \u001b[0my_traindata\u001b[0m\u001b[1;33m,\u001b[0m \u001b[0mtrain_pred\u001b[0m\u001b[1;33m)\u001b[0m\u001b[1;33m\u001b[0m\u001b[1;33m\u001b[0m\u001b[0m\n\u001b[0m\u001b[0;32m     81\u001b[0m         \u001b[0mtest_res\u001b[0m \u001b[1;33m=\u001b[0m \u001b[0mget_clf_eval\u001b[0m\u001b[1;33m(\u001b[0m\u001b[0my_test\u001b[0m\u001b[1;33m,\u001b[0m \u001b[0my_testdata\u001b[0m\u001b[1;33m,\u001b[0m\u001b[0mtest_pred\u001b[0m\u001b[1;33m)\u001b[0m\u001b[1;33m\u001b[0m\u001b[1;33m\u001b[0m\u001b[0m\n\u001b[0;32m     82\u001b[0m         \u001b[0mres\u001b[0m \u001b[1;33m=\u001b[0m \u001b[0mtrain_res\u001b[0m \u001b[1;33m+\u001b[0m \u001b[0mtest_res\u001b[0m\u001b[1;33m\u001b[0m\u001b[1;33m\u001b[0m\u001b[0m\n",
      "\u001b[1;32m<ipython-input-2-8f8f2004611e>\u001b[0m in \u001b[0;36mget_clf_eval\u001b[1;34m(y_test, y_data, pred, pred_proba)\u001b[0m\n\u001b[0;32m      6\u001b[0m     \u001b[0mconfusion\u001b[0m \u001b[1;33m=\u001b[0m \u001b[0mconfusion_matrix\u001b[0m\u001b[1;33m(\u001b[0m\u001b[0my_test\u001b[0m\u001b[1;33m,\u001b[0m \u001b[0mpred\u001b[0m\u001b[1;33m)\u001b[0m\u001b[1;33m\u001b[0m\u001b[1;33m\u001b[0m\u001b[0m\n\u001b[0;32m      7\u001b[0m     \u001b[0maccuracy\u001b[0m \u001b[1;33m=\u001b[0m \u001b[0maccuracy_score\u001b[0m\u001b[1;33m(\u001b[0m\u001b[0my_test\u001b[0m\u001b[1;33m,\u001b[0m \u001b[0mpred\u001b[0m\u001b[1;33m)\u001b[0m\u001b[1;33m\u001b[0m\u001b[1;33m\u001b[0m\u001b[0m\n\u001b[1;32m----> 8\u001b[1;33m     \u001b[0mprecision\u001b[0m \u001b[1;33m=\u001b[0m \u001b[0mprecision_val\u001b[0m\u001b[1;33m(\u001b[0m\u001b[0my_data\u001b[0m\u001b[1;33m)\u001b[0m\u001b[1;33m\u001b[0m\u001b[1;33m\u001b[0m\u001b[0m\n\u001b[0m\u001b[0;32m      9\u001b[0m     \u001b[0mrecall\u001b[0m \u001b[1;33m=\u001b[0m \u001b[0mrecall_val\u001b[0m\u001b[1;33m(\u001b[0m\u001b[0my_data\u001b[0m\u001b[1;33m)\u001b[0m\u001b[1;33m\u001b[0m\u001b[1;33m\u001b[0m\u001b[0m\n\u001b[0;32m     10\u001b[0m     \u001b[0mf1\u001b[0m \u001b[1;33m=\u001b[0m \u001b[0mf1_score\u001b[0m\u001b[1;33m(\u001b[0m\u001b[0my_test\u001b[0m\u001b[1;33m,\u001b[0m \u001b[0mpred\u001b[0m \u001b[1;33m,\u001b[0m \u001b[0maverage\u001b[0m\u001b[1;33m=\u001b[0m \u001b[1;34m'weighted'\u001b[0m\u001b[1;33m)\u001b[0m\u001b[1;33m\u001b[0m\u001b[1;33m\u001b[0m\u001b[0m\n",
      "\u001b[1;31mNameError\u001b[0m: name 'precision_val' is not defined"
     ]
    }
   ],
   "source": [
    "df_score_0_1,df_feature_0_1,y_data_0_1 = process_final(df_0_1,'공모가 대비 1개월 수익률')"
   ]
  },
  {
   "cell_type": "code",
   "execution_count": null,
   "id": "a17022f3",
   "metadata": {},
   "outputs": [],
   "source": []
  }
 ],
 "metadata": {
  "kernelspec": {
   "display_name": "Python 3",
   "language": "python",
   "name": "python3"
  },
  "language_info": {
   "codemirror_mode": {
    "name": "ipython",
    "version": 3
   },
   "file_extension": ".py",
   "mimetype": "text/x-python",
   "name": "python",
   "nbconvert_exporter": "python",
   "pygments_lexer": "ipython3",
   "version": "3.6.10"
  },
  "toc": {
   "base_numbering": 1,
   "nav_menu": {},
   "number_sections": true,
   "sideBar": true,
   "skip_h1_title": false,
   "title_cell": "Table of Contents",
   "title_sidebar": "Contents",
   "toc_cell": false,
   "toc_position": {},
   "toc_section_display": true,
   "toc_window_display": false
  }
 },
 "nbformat": 4,
 "nbformat_minor": 5
}
