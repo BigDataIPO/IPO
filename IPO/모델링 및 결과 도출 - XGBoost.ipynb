{
 "cells": [
  {
   "cell_type": "code",
   "execution_count": 268,
   "id": "86d116a4",
   "metadata": {},
   "outputs": [],
   "source": [
    "import warnings\n",
    "warnings.filterwarnings('ignore')\n",
    "import pandas as pd\n",
    "import numpy as np\n",
    "from dateutil.relativedelta import relativedelta\n",
    "from datetime import datetime\n",
    "from dateutil.parser import parse\n",
    "import copy\n",
    "\n",
    "from imblearn.over_sampling import SMOTE\n",
    "#시각화\n",
    "import matplotlib.pyplot as plt\n",
    "import seaborn as sns\n",
    "\n",
    "\n",
    "from sklearn.model_selection import train_test_split\n",
    "from sklearn.model_selection import KFold, StratifiedKFold\n",
    "from sklearn.metrics import *\n",
    "from sklearn.metrics import accuracy_score, confusion_matrix, log_loss\n",
    "\n",
    "##알고리즘 \n",
    "from sklearn.ensemble import RandomForestClassifier\n",
    "from xgboost import XGBClassifier"
   ]
  },
  {
   "cell_type": "code",
   "execution_count": 269,
   "id": "d4f2cb05",
   "metadata": {},
   "outputs": [],
   "source": [
    "# 다양한 오차 측정 지표를 확인하기 위한 함수 정의\n",
    "\n",
    "from sklearn.metrics import *\n",
    "\n",
    "def get_clf_eval(y_test, pred=None, pred_proba=None): \n",
    "    confusion = confusion_matrix(y_test, pred) \n",
    "    accuracy = accuracy_score(y_test, pred) \n",
    "    precision = precision_score(y_test, pred , average= 'weighted') \n",
    "    recall = recall_score(y_test, pred , average= 'weighted') \n",
    "    f1 = f1_score(y_test, pred , average= 'weighted') \n",
    "    \n",
    "#     print('정확도(accuracy): {0:.4f}, 정밀도(precision): {1:.4f}, 재현율(recall): {2:.4f}, f1_score: {3:.4f}'.format(accuracy, precision, recall, f1))\n",
    "    \n",
    "#     confusion = confusion_matrix(y_test, pred) \n",
    "#     accuracy = accuracy_score(y_test, pred) \n",
    "#     precision = precision_score(y_test, pred , average= 'macro') \n",
    "#     recall = recall_score(y_test, pred , average= 'macro') \n",
    "#     f1 = f1_score(y_test, pred , average= 'macro') \n",
    "    \n",
    "#     print('정확도(accuracy): {0:.4f}, 정밀도(precision): {1:.4f}, 재현율(recall): {2:.4f}, f1_score: {3:.4f}'.format(accuracy, precision, recall, f1))\n",
    "    \n",
    "    return [accuracy, precision, recall, f1]"
   ]
  },
  {
   "cell_type": "code",
   "execution_count": 270,
   "id": "48fd1e51",
   "metadata": {},
   "outputs": [],
   "source": [
    "def Cut(Series , cuts):\n",
    "    \"구분할 iter가능한 변수와 구분 기준을 입력받으면 구분 기준 앞에서 부터 1로 구분해서 return 함\"\n",
    "    Cuts = copy.deepcopy(cuts)\n",
    "    Cuts.append(np.inf)\n",
    "    Cuts.insert(0,-1*np.inf)\n",
    "    R = len(Cuts)\n",
    "    label = range(1,R)\n",
    "    return pd.cut(Series, Cuts, labels = label)"
   ]
  },
  {
   "cell_type": "markdown",
   "id": "7e003447",
   "metadata": {},
   "source": [
    "# 데이터 불러오기"
   ]
  },
  {
   "cell_type": "code",
   "execution_count": 271,
   "id": "c5cbeabc",
   "metadata": {},
   "outputs": [],
   "source": [
    "df_1_3 = pd.read_csv(\"d:/공모전/IPO/IPO/CleanData/X_train_After_IPO_1.csv\")\n",
    "df_3_6 = pd.read_csv(\"d:/공모전/IPO/IPO/CleanData/X_train_After_IPO_3.csv\")\n",
    "df_0 = pd.read_csv(\"d:/공모전/IPO/IPO/CleanData/X_train_Before_IPO.csv\")\n",
    "df_end = pd.read_csv(\"d:/공모전/IPO/IPO/CleanData/X_train_EndPrice_IPO.csv\")"
   ]
  },
  {
   "cell_type": "code",
   "execution_count": 272,
   "id": "fa02c49f",
   "metadata": {},
   "outputs": [
    {
     "data": {
      "text/plain": [
       "종목명                  0\n",
       "상장일                  0\n",
       "공모 시가총액              0\n",
       "매출총이익률               0\n",
       "유동비율                 0\n",
       "부채비율                 0\n",
       "매출액증가율               0\n",
       "1년전 대비 시장 회전율        0\n",
       "1년 전 대비 시장수익률        0\n",
       "1년 전 대비 고객예탁금 증감률    0\n",
       "상장일 기준 국고3년시장금리      0\n",
       "종가_PER               0\n",
       "종가_PBR               0\n",
       "종가_EV/EBITDA         0\n",
       "종가 대비 1개월 수익률        0\n",
       "종가 대비 3개월 수익률        0\n",
       "종가 대비 6개월 수익률        0\n",
       "NullCount            0\n",
       "dtype: int64"
      ]
     },
     "execution_count": 272,
     "metadata": {},
     "output_type": "execute_result"
    }
   ],
   "source": [
    "df_end.isnull().sum()"
   ]
  },
  {
   "cell_type": "code",
   "execution_count": 273,
   "id": "0c3c42ec",
   "metadata": {},
   "outputs": [],
   "source": [
    "df_0_1 = df_0.drop(['공모가 대비 3개월 수익률','공모가 대비 6개월 수익률'],axis =1)\n",
    "df_0_3 = df_0.drop(['공모가 대비 1개월 수익률','공모가 대비 6개월 수익률'],axis =1)\n",
    "df_0_6 = df_0.drop(['공모가 대비 1개월 수익률','공모가 대비 3개월 수익률'],axis =1)"
   ]
  },
  {
   "cell_type": "code",
   "execution_count": 274,
   "id": "eabe84cf",
   "metadata": {},
   "outputs": [],
   "source": [
    "df_end_1 = df_end.drop(['종가 대비 3개월 수익률','종가 대비 6개월 수익률','NullCount'],axis =1)\n",
    "df_end_3 = df_end.drop(['종가 대비 1개월 수익률','종가 대비 6개월 수익률','NullCount'],axis =1)\n",
    "df_end_6 = df_end.drop(['종가 대비 1개월 수익률','종가 대비 3개월 수익률','NullCount'],axis =1)"
   ]
  },
  {
   "cell_type": "markdown",
   "id": "3acb5a17",
   "metadata": {},
   "source": [
    "# 공통 전처리 및 랜덤포레스트"
   ]
  },
  {
   "cell_type": "code",
   "execution_count": 275,
   "id": "35cd6626",
   "metadata": {},
   "outputs": [],
   "source": [
    "def process_final(df,y_name):\n",
    "    \n",
    "    ## 기본 전처리\n",
    "    df['상장일'] = pd.to_datetime(df['상장일'])\n",
    "    df = df.set_index(['상장일'])\n",
    "    df = df.drop(['종목명','공모 시가총액'],axis = 1) ## 나중에 카테고리 진행할려면 남겨줄 것\n",
    "    if y_name == '공모가 대비 6개월 수익률' or \"종가 대비 6개월 수익률\":\n",
    "        df['Cat'] = Cut(df[y_name],[-0.4, -0.2, 0.2, 0.4])\n",
    "       \n",
    "        \n",
    "    else :\n",
    "        df['Cat'] = Cut(df[y_name],[-0.2, -0.1, 0.1, 0.2])\n",
    "       \n",
    "    \n",
    "    ## train 3년 test 1년으로 총 기간을 3개월 이동으로 36개 구간분할\n",
    "    train_list = []\n",
    "    test_list = []\n",
    "    train_start_date = '2009-04-01' ## 기한은 나중에 변경할수도\n",
    "    test_start_date = parse(str(train_start_date)).date() + relativedelta(years =4)\n",
    "    train_end_date = parse(str(test_start_date)).date() - relativedelta(days =1)\n",
    "    test_end_date = parse(str(train_end_date)).date() + relativedelta(years =1)\n",
    "\n",
    "    while True:\n",
    "\n",
    "        train_list.append(df[train_start_date : train_end_date])\n",
    "        test_list.append(df[test_start_date : test_end_date])\n",
    "\n",
    "        train_start_date = parse(str(train_start_date)).date() + relativedelta(months=3)\n",
    "        test_start_date = parse(str(test_start_date)).date() + relativedelta(months=3)\n",
    "        train_end_date = parse(str(train_end_date)).date() + relativedelta(months=3)\n",
    "        test_end_date = parse(str(test_end_date)).date() + relativedelta(months=3)\n",
    "\n",
    "        if str(train_start_date) == '2017-04-01':\n",
    "            break\n",
    "            \n",
    "    y_data = []\n",
    "    score_list = []\n",
    "    feature_list = []\n",
    "\n",
    "    for i in range(0,len(train_list)):\n",
    "        X_train = train_list[i].drop([y_name,'Cat'],axis =1)\n",
    "        y_train = train_list[i]['Cat']\n",
    "        X_test = test_list[i].drop([y_name,'Cat'],axis =1)\n",
    "        y_test = test_list[i]['Cat']\n",
    "\n",
    "        # xgboost학습 및 별도의 테스트 셋으로 예측 성능 평가\n",
    "        clf =  XGBClassifier(num_class = 5,random_state = 0,colsample_bytree = 1,gamma =  0.01,\\\n",
    "                             learning_rate =  0.01, max_depth =  4,reg_lambda =  0, subsample =  1,  \\\n",
    "                            objective =\"multi:softprob\",eval_metric ='mlogloss')\n",
    "                             \n",
    "        \n",
    "\n",
    "        clf.fit(X_train , y_train)\n",
    "        train_pred = clf.predict(X_train)\n",
    "        test_pred = clf.predict(X_test)\n",
    "\n",
    "        # 성과 평가\n",
    "        train_res = get_clf_eval(y_train, train_pred)\n",
    "        test_res = get_clf_eval(y_test,test_pred)\n",
    "        res = train_res + test_res\n",
    "\n",
    "\n",
    "        #feature_importance\n",
    "        feature_importance = clf.feature_importances_\n",
    "\n",
    "\n",
    "        pred_value = pd.Series(test_pred,index = y_test.index)\n",
    "        per = test_list[i][y_name]\n",
    "        y_testdata = pd.concat([per,y_test,pred_value] , axis = 1)\n",
    "        y_testdata.columns = ['실제 y 수익률','실제 y라벨링','예측 y 라벨링']\n",
    "\n",
    "        score_list.append(res)\n",
    "        feature_list.append(feature_importance)\n",
    "        y_data.append(y_testdata)   \n",
    "    df_score = pd.DataFrame(score_list,columns = [\"정확도\",\"정밀도\",\"재현율\",\"f1_score\"]*2).T \n",
    "    df_score.rename(columns = lambda x : \"model_set_\"+ str(x),inplace = True)\n",
    "\n",
    "    df_feature = pd.DataFrame(feature_list,columns = X_train.columns).T \n",
    "    df_feature.rename(columns = lambda x : \"model_set_\"+ str(x),inplace = True)\n",
    "        \n",
    "    return df_score , df_feature , y_data"
   ]
  },
  {
   "cell_type": "code",
   "execution_count": 276,
   "id": "3c08a1a0",
   "metadata": {},
   "outputs": [],
   "source": [
    "df_score_0_1,df_feature_0_1,y_data_0_1 = process_final(df_0_1,'공모가 대비 1개월 수익률')"
   ]
  },
  {
   "cell_type": "code",
   "execution_count": 277,
   "id": "69f79adb",
   "metadata": {},
   "outputs": [],
   "source": [
    "df_score_0_3,df_feature_0_3,y_data_0_3 = process_final(df_0_3,'공모가 대비 3개월 수익률')"
   ]
  },
  {
   "cell_type": "code",
   "execution_count": 278,
   "id": "18133100",
   "metadata": {},
   "outputs": [],
   "source": [
    "df_score_0_6,df_feature_0_6,y_data_0_6 = process_final(df_0_6,'공모가 대비 6개월 수익률')"
   ]
  },
  {
   "cell_type": "code",
   "execution_count": 279,
   "id": "84d900a9",
   "metadata": {},
   "outputs": [],
   "source": [
    "df_score_1_3,df_feature_1_3,y_data_1_3 = process_final(df_1_3,'1_3_수익률')"
   ]
  },
  {
   "cell_type": "code",
   "execution_count": 280,
   "id": "355114cf",
   "metadata": {},
   "outputs": [],
   "source": [
    "df_score_3_6,df_feature_3_6,y_data_3_6 = process_final(df_3_6,'3_6_수익률')"
   ]
  },
  {
   "cell_type": "code",
   "execution_count": 281,
   "id": "6c8bf8ab",
   "metadata": {},
   "outputs": [],
   "source": [
    "df_score_end_1,df_feature_end_1,y_data_end_1 = process_final(df_end_1,'종가 대비 1개월 수익률')\n",
    "df_score_end_3,df_feature_end_3,y_data_end_3 = process_final(df_end_3,'종가 대비 3개월 수익률')\n",
    "df_score_end_6,df_feature_end_6,y_data_end_6 = process_final(df_end_6,'종가 대비 6개월 수익률')"
   ]
  },
  {
   "cell_type": "code",
   "execution_count": 282,
   "id": "1694e7a2",
   "metadata": {},
   "outputs": [],
   "source": [
    "df_score_0_1.to_csv(\"D:/공모전/IPO/IPO/Result/XGBoost/모델 평가/0_1_모델 평가_x.csv\",encoding = 'euc-kr')\n",
    "df_score_0_3.to_csv(\"D:/공모전/IPO/IPO/Result/XGBoost/모델 평가/0_3_모델 평가_x.csv\",encoding = 'euc-kr')\n",
    "df_score_0_6.to_csv(\"D:/공모전/IPO/IPO/Result/XGBoost/모델 평가/0_6_모델 평가_x.csv\",encoding = 'euc-kr')\n",
    "df_score_1_3.to_csv(\"D:/공모전/IPO/IPO/Result/XGBoost/모델 평가/1_3_모델 평가_x.csv\",encoding = 'euc-kr')\n",
    "df_score_3_6.to_csv(\"D:/공모전/IPO/IPO/Result/XGBoost/모델 평가/3_6_모델 평가_x.csv\",encoding = 'euc-kr')\n",
    "df_score_end_1.to_csv(\"D:/공모전/IPO/IPO/Result/XGBoost/모델 평가/end_1_모델 평가_x.csv\",encoding = 'euc-kr')\n",
    "df_score_end_3.to_csv(\"D:/공모전/IPO/IPO/Result/XGBoost/모델 평가/end_3_모델 평가_x.csv\",encoding = 'euc-kr')\n",
    "df_score_end_6.to_csv(\"D:/공모전/IPO/IPO/Result/XGBoost/모델 평가/end_6_모델 평가_x.csv\",encoding = 'euc-kr')"
   ]
  },
  {
   "cell_type": "code",
   "execution_count": 283,
   "id": "6790bf8c",
   "metadata": {},
   "outputs": [],
   "source": [
    "df_feature_0_1.to_csv(\"D:/공모전/IPO/IPO/Result/XGBoost/feature 값/0_1_feature별 값_x.csv\",encoding = 'euc-kr')\n",
    "df_feature_0_3.to_csv(\"D:/공모전/IPO/IPO/Result/XGBoost/feature 값/0_3_feature별 값_x.csv\",encoding = 'euc-kr')\n",
    "df_feature_0_6.to_csv(\"D:/공모전/IPO/IPO/Result/XGBoost/feature 값/0_6_feature별 값_x.csv\",encoding = 'euc-kr')\n",
    "df_feature_1_3.to_csv(\"D:/공모전/IPO/IPO/Result/XGBoost/feature 값/1_3_feature별 값_x.csv\",encoding = 'euc-kr')\n",
    "df_feature_3_6.to_csv(\"D:/공모전/IPO/IPO/Result/XGBoost/feature 값/3_6_feature별 값_x.csv\",encoding = 'euc-kr')\n",
    "df_feature_end_1.to_csv(\"D:/공모전/IPO/IPO/Result/XGBoost/feature 값/end_1_모델 평가_x.csv\",encoding = 'euc-kr')\n",
    "df_feature_end_3.to_csv(\"D:/공모전/IPO/IPO/Result/XGBoost/feature 값/end_3_모델 평가_x.csv\",encoding = 'euc-kr')\n",
    "df_feature_end_6.to_csv(\"D:/공모전/IPO/IPO/Result/XGBoost/feature 값/end_6_모델 평가_x.csv\",encoding = 'euc-kr')"
   ]
  },
  {
   "cell_type": "code",
   "execution_count": 284,
   "id": "29139ceb",
   "metadata": {},
   "outputs": [],
   "source": [
    "frame(y_data_0_1).to_csv(\"D:/공모전/IPO/IPO/Result/XGBoost/종속변수 수익률/0_1_수익률_x.csv\",encoding = 'euc-kr')\n",
    "frame(y_data_0_3).to_csv(\"D:/공모전/IPO/IPO/Result/XGBoost/종속변수 수익률/0_3_수익률_x.csv\",encoding = 'euc-kr')\n",
    "frame(y_data_0_6).to_csv(\"D:/공모전/IPO/IPO/Result/XGBoost/종속변수 수익률/0_6_수익률_x.csv\",encoding = 'euc-kr')\n",
    "frame(y_data_1_3).to_csv(\"D:/공모전/IPO/IPO/Result/XGBoost/종속변수 수익률/1_3_수익률_x.csv\",encoding = 'euc-kr')\n",
    "frame(y_data_3_6).to_csv(\"D:/공모전/IPO/IPO/Result/XGBoost/종속변수 수익률/3_6_수익률_x.csv\",encoding = 'euc-kr')\n",
    "frame(y_data_end_1).to_csv(\"D:/공모전/IPO/IPO/Result/XGBoost/종속변수 수익률/end_1_수익률_x.csv\",encoding = 'euc-kr')\n",
    "frame(y_data_end_3).to_csv(\"D:/공모전/IPO/IPO/Result/XGBoost/종속변수 수익률/end_3_수익률_x.csv\",encoding = 'euc-kr')\n",
    "frame(y_data_end_6).to_csv(\"D:/공모전/IPO/IPO/Result/XGBoost/종속변수 수익률/end_6_수익률_x.csv\",encoding = 'euc-kr')"
   ]
  },
  {
   "cell_type": "code",
   "execution_count": 285,
   "id": "a205fa27",
   "metadata": {},
   "outputs": [],
   "source": [
    "def buy_sell(y_data):\n",
    "    portfolio = []\n",
    "    for i in range(0,32):\n",
    "        buy = y_data[i][y_data[i]['예측 y 라벨링'] > 3]['실제 y 수익률']\n",
    "        sell = y_data[i][y_data[i]['예측 y 라벨링'] < 3]['실제 y 수익률']\n",
    "        sum_1 = buy.sum() - sell.sum()\n",
    "        sum_2 = len(buy)+len(sell)\n",
    "        value = sum_1/sum_2\n",
    "        portfolio.append(value)\n",
    "    data = pd.DataFrame(portfolio).T\n",
    "    data.rename(index = {0 : \"buy_sell수익률\"},columns = lambda x : \"model_set_\"+ str(x),inplace = True )\n",
    "    data['mean'] = data.mean(axis=1)[0]\n",
    "                         \n",
    "    return data\n",
    "    "
   ]
  },
  {
   "cell_type": "code",
   "execution_count": 286,
   "id": "69a4ae3a",
   "metadata": {},
   "outputs": [],
   "source": [
    "def buy(y_data):\n",
    "    portfolio = []\n",
    "    for i in range(0,32):\n",
    "        buy = y_data[i][y_data[i]['예측 y 라벨링'] > 3]['실제 y 수익률']\n",
    "        sum_1 = buy.sum()\n",
    "        sum_2 = len(buy)\n",
    "        value = sum_1/sum_2\n",
    "        portfolio.append(value)\n",
    "    data = pd.DataFrame(portfolio).T\n",
    "    data.rename(index = {0 : \"buy수익률\"},columns = lambda x : \"model_set_\"+ str(x),inplace = True )\n",
    "    data['mean'] = data.mean(axis=1)[0]\n",
    "                         \n",
    "    return data"
   ]
  },
  {
   "cell_type": "code",
   "execution_count": 287,
   "id": "b5a38bf8",
   "metadata": {},
   "outputs": [],
   "source": [
    "def mean(y_data):\n",
    "    portfolio = []\n",
    "    for i in range(0,32):\n",
    "        buy = y_data[i]['실제 y 수익률']\n",
    "        sum_1 = buy.sum()\n",
    "        sum_2 = len(buy)\n",
    "        value = sum_1/sum_2\n",
    "        portfolio.append(value)\n",
    "    data = pd.DataFrame(portfolio).T\n",
    "    data.rename(index = {0 : \"all수익률\"},columns = lambda x : \"model_set_\"+ str(x),inplace = True )\n",
    "    data['mean'] = data.mean(axis=1)[0]\n",
    "    return data"
   ]
  },
  {
   "cell_type": "code",
   "execution_count": 288,
   "id": "aa60f7f7",
   "metadata": {},
   "outputs": [],
   "source": [
    "def frame(y_data):\n",
    "    buy_frame = buy(y_data)\n",
    "    buy_sell_frame = buy_sell(y_data)\n",
    "    mean_frame = mean(y_data)\n",
    "    value = pd.concat([buy_sell_frame,buy_frame,mean_frame])\n",
    "    return value"
   ]
  },
  {
   "cell_type": "code",
   "execution_count": 289,
   "id": "449d6fc1",
   "metadata": {},
   "outputs": [],
   "source": [
    "def precision(y_data):\n",
    "    pre = []\n",
    "    for i in range(0,32):\n",
    "        new = y_data[i][y_data[i]['예측 y 라벨링'] == 4 | 5]\n",
    "        real = new[new['실제 y라벨링'] == 4 | 5]\n",
    "            \n",
    "        per = len(real)/len(new)\n",
    "        pre.append(per)\n",
    "    data = pd.DataFrame(pre).T\n",
    "    data.rename(index = {0 : \"특이도\"},columns = lambda x : \"model_set_\"+ str(x),inplace = True )\n",
    "    return data\n"
   ]
  },
  {
   "cell_type": "code",
   "execution_count": 290,
   "id": "789cdff3",
   "metadata": {},
   "outputs": [
    {
     "ename": "ZeroDivisionError",
     "evalue": "division by zero",
     "output_type": "error",
     "traceback": [
      "\u001b[1;31m---------------------------------------------------------------------------\u001b[0m",
      "\u001b[1;31mZeroDivisionError\u001b[0m                         Traceback (most recent call last)",
      "\u001b[1;32m<ipython-input-290-fa70b3bda7cc>\u001b[0m in \u001b[0;36m<module>\u001b[1;34m\u001b[0m\n\u001b[0;32m      2\u001b[0m \u001b[0mprecision\u001b[0m\u001b[1;33m(\u001b[0m\u001b[0my_data_0_3\u001b[0m\u001b[1;33m)\u001b[0m\u001b[1;33m.\u001b[0m\u001b[0mto_csv\u001b[0m\u001b[1;33m(\u001b[0m\u001b[1;34m\"D:/공모전/IPO/IPO/Result/XGBoost/특이도/0_3_특이도_x.csv\"\u001b[0m\u001b[1;33m,\u001b[0m\u001b[0mencoding\u001b[0m \u001b[1;33m=\u001b[0m \u001b[1;34m'euc-kr'\u001b[0m\u001b[1;33m)\u001b[0m\u001b[1;33m\u001b[0m\u001b[1;33m\u001b[0m\u001b[0m\n\u001b[0;32m      3\u001b[0m \u001b[0mprecision\u001b[0m\u001b[1;33m(\u001b[0m\u001b[0my_data_0_6\u001b[0m\u001b[1;33m)\u001b[0m\u001b[1;33m.\u001b[0m\u001b[0mto_csv\u001b[0m\u001b[1;33m(\u001b[0m\u001b[1;34m\"D:/공모전/IPO/IPO/Result/XGBoost/특이도/0_6_특이도_x.csv\"\u001b[0m\u001b[1;33m,\u001b[0m\u001b[0mencoding\u001b[0m \u001b[1;33m=\u001b[0m \u001b[1;34m'euc-kr'\u001b[0m\u001b[1;33m)\u001b[0m\u001b[1;33m\u001b[0m\u001b[1;33m\u001b[0m\u001b[0m\n\u001b[1;32m----> 4\u001b[1;33m \u001b[0mprecision\u001b[0m\u001b[1;33m(\u001b[0m\u001b[0my_data_1_3\u001b[0m\u001b[1;33m)\u001b[0m\u001b[1;33m.\u001b[0m\u001b[0mto_csv\u001b[0m\u001b[1;33m(\u001b[0m\u001b[1;34m\"D:/공모전/IPO/IPO/Result/XGBoost/특이도/1_3_특이도_x.csv\"\u001b[0m\u001b[1;33m,\u001b[0m\u001b[0mencoding\u001b[0m \u001b[1;33m=\u001b[0m \u001b[1;34m'euc-kr'\u001b[0m\u001b[1;33m)\u001b[0m\u001b[1;33m\u001b[0m\u001b[1;33m\u001b[0m\u001b[0m\n\u001b[0m\u001b[0;32m      5\u001b[0m \u001b[0mprecision\u001b[0m\u001b[1;33m(\u001b[0m\u001b[0my_data_3_6\u001b[0m\u001b[1;33m)\u001b[0m\u001b[1;33m.\u001b[0m\u001b[0mto_csv\u001b[0m\u001b[1;33m(\u001b[0m\u001b[1;34m\"D:/공모전/IPO/IPO/Result/XGBoost/특이도/3_6_특이도_x.csv\"\u001b[0m\u001b[1;33m,\u001b[0m\u001b[0mencoding\u001b[0m \u001b[1;33m=\u001b[0m \u001b[1;34m'euc-kr'\u001b[0m\u001b[1;33m)\u001b[0m\u001b[1;33m\u001b[0m\u001b[1;33m\u001b[0m\u001b[0m\n\u001b[0;32m      6\u001b[0m \u001b[0mprecision\u001b[0m\u001b[1;33m(\u001b[0m\u001b[0my_data_end_1\u001b[0m\u001b[1;33m)\u001b[0m\u001b[1;33m.\u001b[0m\u001b[0mto_csv\u001b[0m\u001b[1;33m(\u001b[0m\u001b[1;34m\"D:/공모전/IPO/IPO/Result/XGBoost/특이도/end_1_특이도_x.csv\"\u001b[0m\u001b[1;33m,\u001b[0m\u001b[0mencoding\u001b[0m \u001b[1;33m=\u001b[0m \u001b[1;34m'euc-kr'\u001b[0m\u001b[1;33m)\u001b[0m\u001b[1;33m\u001b[0m\u001b[1;33m\u001b[0m\u001b[0m\n",
      "\u001b[1;32m<ipython-input-289-10d251d09018>\u001b[0m in \u001b[0;36mprecision\u001b[1;34m(y_data)\u001b[0m\n\u001b[0;32m      5\u001b[0m         \u001b[0mreal\u001b[0m \u001b[1;33m=\u001b[0m \u001b[0mnew\u001b[0m\u001b[1;33m[\u001b[0m\u001b[0mnew\u001b[0m\u001b[1;33m[\u001b[0m\u001b[1;34m'실제 y라벨링'\u001b[0m\u001b[1;33m]\u001b[0m \u001b[1;33m==\u001b[0m \u001b[1;36m4\u001b[0m \u001b[1;33m|\u001b[0m \u001b[1;36m5\u001b[0m\u001b[1;33m]\u001b[0m\u001b[1;33m\u001b[0m\u001b[1;33m\u001b[0m\u001b[0m\n\u001b[0;32m      6\u001b[0m \u001b[1;33m\u001b[0m\u001b[0m\n\u001b[1;32m----> 7\u001b[1;33m         \u001b[0mper\u001b[0m \u001b[1;33m=\u001b[0m \u001b[0mlen\u001b[0m\u001b[1;33m(\u001b[0m\u001b[0mreal\u001b[0m\u001b[1;33m)\u001b[0m\u001b[1;33m/\u001b[0m\u001b[0mlen\u001b[0m\u001b[1;33m(\u001b[0m\u001b[0mnew\u001b[0m\u001b[1;33m)\u001b[0m\u001b[1;33m\u001b[0m\u001b[1;33m\u001b[0m\u001b[0m\n\u001b[0m\u001b[0;32m      8\u001b[0m         \u001b[0mpre\u001b[0m\u001b[1;33m.\u001b[0m\u001b[0mappend\u001b[0m\u001b[1;33m(\u001b[0m\u001b[0mper\u001b[0m\u001b[1;33m)\u001b[0m\u001b[1;33m\u001b[0m\u001b[1;33m\u001b[0m\u001b[0m\n\u001b[0;32m      9\u001b[0m     \u001b[0mdata\u001b[0m \u001b[1;33m=\u001b[0m \u001b[0mpd\u001b[0m\u001b[1;33m.\u001b[0m\u001b[0mDataFrame\u001b[0m\u001b[1;33m(\u001b[0m\u001b[0mpre\u001b[0m\u001b[1;33m)\u001b[0m\u001b[1;33m.\u001b[0m\u001b[0mT\u001b[0m\u001b[1;33m\u001b[0m\u001b[1;33m\u001b[0m\u001b[0m\n",
      "\u001b[1;31mZeroDivisionError\u001b[0m: division by zero"
     ]
    }
   ],
   "source": [
    "precision(y_data_0_1).to_csv(\"D:/공모전/IPO/IPO/Result/XGBoost/특이도/0_1_특이도_x.csv\",encoding = 'euc-kr')\n",
    "precision(y_data_0_3).to_csv(\"D:/공모전/IPO/IPO/Result/XGBoost/특이도/0_3_특이도_x.csv\",encoding = 'euc-kr')\n",
    "precision(y_data_0_6).to_csv(\"D:/공모전/IPO/IPO/Result/XGBoost/특이도/0_6_특이도_x.csv\",encoding = 'euc-kr')\n",
    "precision(y_data_1_3).to_csv(\"D:/공모전/IPO/IPO/Result/XGBoost/특이도/1_3_특이도_x.csv\",encoding = 'euc-kr')\n",
    "precision(y_data_3_6).to_csv(\"D:/공모전/IPO/IPO/Result/XGBoost/특이도/3_6_특이도_x.csv\",encoding = 'euc-kr')\n",
    "precision(y_data_end_1).to_csv(\"D:/공모전/IPO/IPO/Result/XGBoost/특이도/end_1_특이도_x.csv\",encoding = 'euc-kr')\n",
    "precision(y_data_end_3).to_csv(\"D:/공모전/IPO/IPO/Result/XGBoost/특이도/end_3_특이도_x.csv\",encoding = 'euc-kr')\n",
    "precision(y_data_end_6).to_csv(\"D:/공모전/IPO/IPO/Result/XGBoost/특이도/end_6_특이도_x.csv\",encoding = 'euc-kr')"
   ]
  },
  {
   "cell_type": "code",
   "execution_count": null,
   "id": "1e28a019",
   "metadata": {},
   "outputs": [],
   "source": []
  }
 ],
 "metadata": {
  "kernelspec": {
   "display_name": "Python 3",
   "language": "python",
   "name": "python3"
  },
  "language_info": {
   "codemirror_mode": {
    "name": "ipython",
    "version": 3
   },
   "file_extension": ".py",
   "mimetype": "text/x-python",
   "name": "python",
   "nbconvert_exporter": "python",
   "pygments_lexer": "ipython3",
   "version": "3.6.10"
  },
  "toc": {
   "base_numbering": 1,
   "nav_menu": {},
   "number_sections": true,
   "sideBar": true,
   "skip_h1_title": false,
   "title_cell": "Table of Contents",
   "title_sidebar": "Contents",
   "toc_cell": false,
   "toc_position": {},
   "toc_section_display": true,
   "toc_window_display": false
  }
 },
 "nbformat": 4,
 "nbformat_minor": 5
}
