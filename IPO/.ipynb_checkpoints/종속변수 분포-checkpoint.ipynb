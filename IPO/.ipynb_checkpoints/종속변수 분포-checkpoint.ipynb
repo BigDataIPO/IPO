{
 "cells": [
  {
   "cell_type": "code",
   "execution_count": 3,
   "id": "05176016",
   "metadata": {},
   "outputs": [],
   "source": [
    "import warnings\n",
    "warnings.filterwarnings('ignore')\n",
    "import pandas as pd\n",
    "import numpy as np\n",
    "from dateutil.relativedelta import relativedelta\n",
    "from datetime import datetime\n",
    "from dateutil.parser import parse\n",
    "import copy\n",
    "\n",
    "from Module.Preprocessing import *\n",
    "from Module.Model import *"
   ]
  },
  {
   "cell_type": "code",
   "execution_count": 4,
   "id": "09d529ee",
   "metadata": {},
   "outputs": [],
   "source": [
    "def Cut(Series , cuts):\n",
    "    \"구분할 iter가능한 변수와 구분 기준을 입력받으면 구분 기준 앞에서 부터 1로 구분해서 return 함\"\n",
    "    Cuts = copy.deepcopy(cuts)\n",
    "    Cuts.append(np.inf)\n",
    "    Cuts.insert(0,-1*np.inf)\n",
    "    R = len(Cuts)\n",
    "    label = range(1,R)\n",
    "    return pd.cut(Series, Cuts, labels = label)"
   ]
  },
  {
   "cell_type": "markdown",
   "id": "c8edd571",
   "metadata": {},
   "source": [
    "# 데이터 불러오기\n",
    "\n",
    ">공모가,종가 1,3,6수익률이 같이 들어있는 데이터에서 목적에 맞게 구분\n",
    "- df_0_1(공모가 대비 1개월 수익률)\n",
    "- df_0_3(공모가 대비 3개월 수익률)\n",
    "- df_0_6(공모가 대비 6개월 수익률)\n",
    "- df_1_3(1_3 수익률 - 1개월 대비 3개월 수익률)\n",
    "- df_3_6(3_6 수익률 - 3개월 대비 6개월 수익률)\n",
    "- df_end_1(종가 대비 1개월 수익률)\n",
    "- df_end_3(종가 대비 3개월 수익률)\n",
    "- df_end_6(종가 대비 6개월 수익률)"
   ]
  },
  {
   "cell_type": "code",
   "execution_count": 9,
   "id": "afc620e2",
   "metadata": {},
   "outputs": [],
   "source": [
    "df_1_3 = pd.read_csv(\"CleanData/X_train_After_IPO_1.csv\", encoding = 'cp949')\n",
    "df_3_6 = pd.read_csv(\"CleanData/X_train_After_IPO_3.csv\", encoding = 'cp949')\n",
    "df_0 = pd.read_csv(\"CleanData/X_train_Before_IPO.csv\", encoding = 'cp949')\n",
    "df_end = pd.read_csv(\"CleanData/X_train_EndPrice_IPO.csv\", encoding = 'cp949')"
   ]
  },
  {
   "cell_type": "code",
   "execution_count": 10,
   "id": "c35040ee",
   "metadata": {},
   "outputs": [],
   "source": [
    "df_0_1 = df_0.drop(['공모가 대비 3개월 수익률','공모가 대비 6개월 수익률'],axis =1)\n",
    "df_0_3 = df_0.drop(['공모가 대비 1개월 수익률','공모가 대비 6개월 수익률'],axis =1)\n",
    "df_0_6 = df_0.drop(['공모가 대비 1개월 수익률','공모가 대비 3개월 수익률'],axis =1)"
   ]
  },
  {
   "cell_type": "code",
   "execution_count": 11,
   "id": "99c149db",
   "metadata": {},
   "outputs": [],
   "source": [
    "df_end_1 = df_end.drop(['종가 대비 3개월 수익률','종가 대비 6개월 수익률'],axis =1)\n",
    "df_end_3 = df_end.drop(['종가 대비 1개월 수익률','종가 대비 6개월 수익률'],axis =1)\n",
    "df_end_6 = df_end.drop(['종가 대비 1개월 수익률','종가 대비 3개월 수익률'],axis =1)"
   ]
  },
  {
   "cell_type": "markdown",
   "id": "baa3b613",
   "metadata": {},
   "source": [
    "# 공통 전처리\n",
    "\n",
    "> process 함수 적용(train 데이터 , test 데이터의 종속변수 분포를 카테고리에 맞게 분류\n",
    "- 수익률 < -0.1 == 1\n",
    "- -0.1 < 수익률 < 0.1 == 2\n",
    "-  0.1 < 수익률 < 0.2 == 3\n",
    "-  0.2 < 수익률 == 4 "
   ]
  },
  {
   "cell_type": "code",
   "execution_count": 13,
   "id": "490e65ba",
   "metadata": {},
   "outputs": [],
   "source": [
    "df_0_1 = process(df_0_1,'공모가 대비 1개월 수익률')\n",
    "df_0_3 = process(df_0_3,'공모가 대비 3개월 수익률')\n",
    "df_0_6 = process(df_0_6,'공모가 대비 6개월 수익률')\n",
    "df_1_3 = process(df_1_3,'1_3_수익률')\n",
    "df_3_6 = process(df_3_6,'3_6_수익률')\n",
    "df_end_1 = process(df_end_1,'종가 대비 1개월 수익률')\n",
    "df_end_3 = process(df_end_3,'종가 대비 3개월 수익률')\n",
    "df_end_6 = process(df_end_6,'종가 대비 6개월 수익률')"
   ]
  },
  {
   "cell_type": "code",
   "execution_count": 18,
   "id": "ace4e983",
   "metadata": {},
   "outputs": [],
   "source": [
    "# df_0_1.to_csv(\"0_1_종속변수 분포.csv\",encoding = 'euc-kr')\n",
    "# df_0_3.to_csv(\"0_3_종속변수 분포.csv\",encoding = 'euc-kr')\n",
    "# df_0_6.to_csv(\"0_6_종속변수 분포.csv\",encoding = 'euc-kr')\n",
    "# df_1_3.to_csv(\"1_3_종속변수 분포.csv\",encoding = 'euc-kr')\n",
    "# df_3_6.to_csv(\"3_6_종속변수 분포.csv\",encoding = 'euc-kr')\n",
    "# df_end_1.to_csv(\"end_1_종속변수 분포.csv\",encoding = 'euc-kr')\n",
    "# df_end_3.to_csv(\"end_3_종속변수 분포.csv\",encoding = 'euc-kr')\n",
    "# df_end_6.to_csv(\"end_6_종속변수 분포.csv\",encoding = 'euc-kr')"
   ]
  }
 ],
 "metadata": {
  "kernelspec": {
   "display_name": "Python 3",
   "language": "python",
   "name": "python3"
  },
  "language_info": {
   "codemirror_mode": {
    "name": "ipython",
    "version": 3
   },
   "file_extension": ".py",
   "mimetype": "text/x-python",
   "name": "python",
   "nbconvert_exporter": "python",
   "pygments_lexer": "ipython3",
   "version": "3.6.10"
  },
  "toc": {
   "base_numbering": 1,
   "nav_menu": {},
   "number_sections": true,
   "sideBar": true,
   "skip_h1_title": false,
   "title_cell": "Table of Contents",
   "title_sidebar": "Contents",
   "toc_cell": false,
   "toc_position": {},
   "toc_section_display": true,
   "toc_window_display": false
  }
 },
 "nbformat": 4,
 "nbformat_minor": 5
}
