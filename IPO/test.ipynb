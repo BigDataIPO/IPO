{
 "cells": [
  {
   "cell_type": "code",
   "execution_count": 105,
   "id": "9e16767b",
   "metadata": {},
   "outputs": [],
   "source": [
    "import warnings\n",
    "warnings.filterwarnings('ignore')\n",
    "import pandas as pd\n",
    "import numpy as np\n",
    "from dateutil.relativedelta import relativedelta\n",
    "from datetime import datetime\n",
    "from dateutil.parser import parse\n",
    "import copy\n",
    "\n",
    "from imblearn.over_sampling import SMOTE\n",
    "#시각화\n",
    "import matplotlib.pyplot as plt\n",
    "import seaborn as sns\n",
    "\n",
    "\n",
    "from sklearn.model_selection import train_test_split\n",
    "from sklearn.model_selection import KFold, StratifiedKFold\n",
    "from sklearn.metrics import *\n",
    "\n",
    "##알고리즘 \n",
    "from sklearn.ensemble import RandomForestClassifier\n",
    "from xgboost import XGBClassifier"
   ]
  },
  {
   "cell_type": "code",
   "execution_count": 106,
   "id": "edd79a26",
   "metadata": {},
   "outputs": [],
   "source": [
    "def get_clf_eval(y_test, y_data, pred=None, pred_proba=None): \n",
    "    confusion = confusion_matrix(y_test, pred) \n",
    "    accuracy = accuracy_score(y_test, pred) \n",
    "    precision = precision_val(y_data)\n",
    "    recall = recall_val(y_data) \n",
    "    f1 = f1_score(y_test, pred , average= 'weighted') \n",
    "    \n",
    "#     print('정확도(accuracy): {0:.4f}, 정밀도(precision): {1:.4f}, 재현율(recall): {2:.4f}, f1_score: {3:.4f}'.format(accuracy, precision, recall, f1))\n",
    "    \n",
    "#     confusion = confusion_matrix(y_test, pred) \n",
    "#     accuracy = accuracy_score(y_test, pred) \n",
    "#     precision = precision_score(y_test, pred , average= 'macro') \n",
    "#     recall = recall_score(y_test, pred , average= 'macro') \n",
    "#     f1 = f1_score(y_test, pred , average= 'macro') \n",
    "    \n",
    "#     print('정확도(accuracy): {0:.4f}, 정밀도(precision): {1:.4f}, 재현율(recall): {2:.4f}, f1_score: {3:.4f}'.format(accuracy, precision, recall, f1))\n",
    "    \n",
    "    return [accuracy, precision, recall, f1]"
   ]
  },
  {
   "cell_type": "code",
   "execution_count": 107,
   "id": "b7baadec",
   "metadata": {},
   "outputs": [],
   "source": [
    "def Cut(Series , cuts):\n",
    "    \"구분할 iter가능한 변수와 구분 기준을 입력받으면 구분 기준 앞에서 부터 1로 구분해서 return 함\"\n",
    "    Cuts = copy.deepcopy(cuts)\n",
    "    Cuts.append(np.inf)\n",
    "    Cuts.insert(0,-1*np.inf)\n",
    "    R = len(Cuts)\n",
    "    label = range(1,R)\n",
    "    return pd.cut(Series, Cuts, labels = label)"
   ]
  },
  {
   "cell_type": "code",
   "execution_count": 108,
   "id": "fb685e72",
   "metadata": {},
   "outputs": [],
   "source": [
    "def recall_val(y_data):\n",
    "\n",
    "    real = y_data[y_data['실제 y라벨링'] > 2]\n",
    "    new = real[real['예측 y 라벨링'] > 2]\n",
    "    if len(real) == 0:\n",
    "        per = 0\n",
    "    else :\n",
    "        per = len(new)/len(real)\n",
    "    return per"
   ]
  },
  {
   "cell_type": "code",
   "execution_count": 109,
   "id": "06bca911",
   "metadata": {},
   "outputs": [],
   "source": [
    "def precision_val(y_data):\n",
    "    \n",
    "\n",
    "    new = y_data[y_data['예측 y 라벨링'] > 2]\n",
    "    real = new[new['실제 y라벨링'] > 2]\n",
    "    if len(new) == 0:\n",
    "        per = 0\n",
    "    else :\n",
    "        per = len(real)/len(new)\n",
    "    return per"
   ]
  },
  {
   "cell_type": "code",
   "execution_count": 110,
   "id": "15677b42",
   "metadata": {},
   "outputs": [],
   "source": [
    "def mean(y_data):\n",
    "    portfolio = []\n",
    "    for i in range(len(y_data)):\n",
    "        buy = y_data[i]['실제 y 수익률']\n",
    "        sum_1 = buy.sum()\n",
    "        sum_2 = len(buy)\n",
    "        value = sum_1/sum_2\n",
    "        portfolio.append(value)\n",
    "    data = pd.DataFrame(portfolio).T\n",
    "    data.rename(index = {0 : \"all수익률\"},columns = lambda x : \"model_set_\"+ str(x),inplace = True )\n",
    "    data['mean'] = data.mean(axis=1)[0]\n",
    "    return data"
   ]
  },
  {
   "cell_type": "code",
   "execution_count": 111,
   "id": "9c6e1421",
   "metadata": {},
   "outputs": [],
   "source": [
    "def buy(y_data):\n",
    "    portfolio = []\n",
    "    for i in range(len(y_data)):\n",
    "        buy = y_data[i][y_data[i]['예측 y 라벨링'] > 2]['실제 y 수익률']\n",
    "        sum_1 = buy.sum()\n",
    "        sum_2 = len(buy)\n",
    "        value = sum_1/sum_2\n",
    "        portfolio.append(value)\n",
    "    data = pd.DataFrame(portfolio).T\n",
    "    data.rename(index = {0 : \"buy수익률\"},columns = lambda x : \"model_set_\"+ str(x),inplace = True )\n",
    "    data['mean'] = data.mean(axis=1)[0]\n",
    "                         \n",
    "    return data"
   ]
  },
  {
   "cell_type": "code",
   "execution_count": 112,
   "id": "5be30519",
   "metadata": {},
   "outputs": [],
   "source": [
    "def buy_sell(y_data):\n",
    "    portfolio = []\n",
    "    for i in range(len(y_data)):\n",
    "        buy = y_data[i][y_data[i]['예측 y 라벨링'] > 2]['실제 y 수익률']\n",
    "        sell = y_data[i][y_data[i]['예측 y 라벨링'] < 2]['실제 y 수익률']\n",
    "        sum_1 = buy.sum() - sell.sum()\n",
    "        sum_2 = len(buy)+len(sell)\n",
    "        value = sum_1/sum_2\n",
    "        portfolio.append(value)\n",
    "    data = pd.DataFrame(portfolio).T\n",
    "    data.rename(index = {0 : \"buy_sell수익률\"},columns = lambda x : \"model_set_\"+ str(x),inplace = True )\n",
    "    data['mean'] = data.mean(axis=1)[0]\n",
    "                         \n",
    "    return data"
   ]
  },
  {
   "cell_type": "code",
   "execution_count": 113,
   "id": "ebe05e57",
   "metadata": {},
   "outputs": [],
   "source": [
    "df_0 = pd.read_csv(\"d:/공모전/IPO/IPO/CleanData/X_train_Before_IPO.csv\",encoding = \"cp949\")"
   ]
  },
  {
   "cell_type": "code",
   "execution_count": 114,
   "id": "bba03754",
   "metadata": {},
   "outputs": [],
   "source": [
    "df_0_1 = df_0.drop(['공모가 대비 3개월 수익률','공모가 대비 6개월 수익률','IPO_PER','IPO_PBR','IPO_EV/EBITDA'],axis =1)\n",
    "df_0_3 = df_0.drop(['공모가 대비 1개월 수익률','공모가 대비 6개월 수익률','IPO_PER','IPO_PBR','IPO_EV/EBITDA'],axis =1)\n",
    "df_0_6 = df_0.drop(['공모가 대비 1개월 수익률','공모가 대비 3개월 수익률','IPO_PER','IPO_PBR','IPO_EV/EBITDA'],axis =1)"
   ]
  },
  {
   "cell_type": "code",
   "execution_count": 115,
   "id": "a50ca12e",
   "metadata": {},
   "outputs": [],
   "source": [
    "def process_final(df,y_name):\n",
    "    \n",
    "    ## 기본 전처리\n",
    "    df['상장일'] = pd.to_datetime(df['상장일'])\n",
    "    df = df.set_index(['상장일'])\n",
    "    df = df.drop(['종목명','공모 시가총액'],axis = 1) ## 나중에 카테고리 진행할려면 남겨줄 것\n",
    "    if y_name == '공모가 대비 6개월 수익률' or \"종가 대비 6개월 수익률\":\n",
    "        df['Cat'] = Cut(df[y_name],[ -0.2, 0.2, 0.4])\n",
    "       \n",
    "        \n",
    "    else :\n",
    "        df['Cat'] = Cut(df[y_name],[ -0.1, 0.1, 0.2])\n",
    "       \n",
    "    \n",
    "    ## train 3년 test 1년으로 총 기간을 3개월 이동으로 36개 구간분할\n",
    "    train_list = []\n",
    "    test_list = []\n",
    "    train_start_date = '2009-04-01' ## 기한은 나중에 변경할수도\n",
    "    test_start_date = parse(str(train_start_date)).date() + relativedelta(years =4)\n",
    "    train_end_date = parse(str(test_start_date)).date() - relativedelta(days =1)\n",
    "    test_end_date = parse(str(train_end_date)).date() + relativedelta(years =1) \n",
    "\n",
    "    while True:\n",
    "\n",
    "        train_list.append(df[train_start_date : train_end_date])\n",
    "        test_list.append(df[test_start_date : test_end_date])\n",
    "\n",
    "        train_start_date = parse(str(train_start_date)).date() + relativedelta(months=3)\n",
    "        test_start_date = parse(str(test_start_date)).date() + relativedelta(months=3)\n",
    "        train_end_date = parse(str(train_end_date)).date() + relativedelta(months=3)\n",
    "        test_end_date = parse(str(test_end_date)).date() + relativedelta(months=3)\n",
    "\n",
    "        if str(train_start_date) == '2017-04-01':\n",
    "            break\n",
    "            \n",
    "    y_data = []\n",
    "    score_list = []\n",
    "    feature_list = []\n",
    "\n",
    "    for i in range(0,len(train_list)):\n",
    "        X_train_before = train_list[i].drop([y_name,'Cat'],axis =1)\n",
    "        y_train_before = train_list[i]['Cat']\n",
    "        X_test = test_list[i].drop([y_name,'Cat'],axis =1)\n",
    "        y_test = test_list[i]['Cat']\n",
    "        \n",
    "        smote = SMOTE(random_state=0,k_neighbors = 3)\n",
    "        X_train,y_train = smote.fit_resample(X_train_before,y_train_before)\n",
    "#         ros = RandomOverSampler()\n",
    "#         X_train,y_train = ros.fit_resample(X_train_before,y_train_before)\n",
    "\n",
    "       # 랜덤 포레스트 학습 및 별도의 테스트 셋으로 예측 성능 평가\n",
    "              \n",
    "        clf = RandomForestClassifier(random_state=0 , max_depth = 4 , min_samples_leaf = 6 , min_samples_split =  12 , \\\n",
    "                                     n_estimators = 20 )\n",
    "        \n",
    "\n",
    "        clf.fit(X_train , y_train)\n",
    "        train_pred = clf.predict(X_train_before)\n",
    "        test_pred = clf.predict(X_test)\n",
    "\n",
    "\n",
    "\n",
    "\n",
    "        #feature_importance\n",
    "        feature_importance = clf.feature_importances_\n",
    "\n",
    "\n",
    "        pred_value = pd.Series(test_pred,index = y_test.index)\n",
    "        per = test_list[i][y_name]\n",
    "        y_testdata = pd.concat([per,y_test,pred_value] , axis = 1)\n",
    "        y_testdata.columns = ['실제 y 수익률','실제 y라벨링','예측 y 라벨링']\n",
    "        \n",
    "        train_pred_value = pd.Series(train_pred,index = y_train_before.index)\n",
    "        per = train_list[i][y_name]\n",
    "        y_traindata = pd.concat([per,y_train_before,train_pred_value] , axis = 1)\n",
    "        y_traindata.columns = ['실제 y 수익률','실제 y라벨링','예측 y 라벨링']\n",
    "        \n",
    "        \n",
    "        # 성과 평가\n",
    "        train_res = get_clf_eval(y_train_before, y_traindata, train_pred)\n",
    "        test_res = get_clf_eval(y_test, y_testdata,test_pred)\n",
    "        res = train_res + test_res\n",
    "        \n",
    "        score_list.append(res)\n",
    "        feature_list.append(feature_importance)\n",
    "        y_data.append(y_testdata)   \n",
    "    df_score = pd.DataFrame(score_list,columns = [\"정확도\",\"정밀도\",\"재현율\",\"f1_score\"]+[\"정확도_test\",\"정밀도_test\",\"재현율_test\",\"f1_score_test\"]).T \n",
    "    df_score.rename(columns = lambda x : \"model_set_\"+ str(x),inplace = True)\n",
    "\n",
    "    df_feature = pd.DataFrame(feature_list,columns = X_train.columns).T \n",
    "    df_feature.rename(columns = lambda x : \"model_set_\"+ str(x),inplace = True)\n",
    "        \n",
    "    return df_score , df_feature , y_data"
   ]
  },
  {
   "cell_type": "code",
   "execution_count": 116,
   "id": "2bb90678",
   "metadata": {},
   "outputs": [],
   "source": [
    "df_score_0_1,df_feature_0_1,y_data_0_1 = process_final(df_0_1,'공모가 대비 1개월 수익률')\n",
    "df_score_0_3,df_feature_0_3,y_data_0_3 = process_final(df_0_3,'공모가 대비 3개월 수익률')\n",
    "df_score_0_6,df_feature_0_6,y_data_0_6 = process_final(df_0_6,'공모가 대비 6개월 수익률')"
   ]
  },
  {
   "cell_type": "code",
   "execution_count": 117,
   "id": "df2c5d8d",
   "metadata": {},
   "outputs": [],
   "source": [
    "df_score_0_1.to_csv(\"D:/공모전/IPO/IPO/Result/랜덤포레스트/모델 평가/new_0_1_모델 평가.csv\",encoding = 'euc-kr')\n",
    "df_score_0_3.to_csv(\"D:/공모전/IPO/IPO/Result/랜덤포레스트/모델 평가/new_0_3_모델 평가.csv\",encoding = 'euc-kr')\n",
    "df_score_0_6.to_csv(\"D:/공모전/IPO/IPO/Result/랜덤포레스트/모델 평가/new_0_6_모델 평가.csv\",encoding = 'euc-kr')"
   ]
  },
  {
   "cell_type": "code",
   "execution_count": 118,
   "id": "82a01e99",
   "metadata": {},
   "outputs": [],
   "source": [
    "import pandas as pd\n",
    "import numpy as np\n",
    "import os"
   ]
  },
  {
   "cell_type": "code",
   "execution_count": 119,
   "id": "110dd635",
   "metadata": {},
   "outputs": [],
   "source": [
    "from scipy import stats\n",
    "def Ttest(x,y, Number = 0 , leftstr = \"\", rightstr= \"\", Measure = \"\"):\n",
    "    print(str(Number)+\"\\t\"+leftstr + \" & \" + rightstr + \"\\tMeasure : \" + Measure + \"\\n\")\n",
    "    _stat,_pvalue = stats.levene(x,y)\n",
    "    print(\"LeveneResult -- stat : %3f, p-value : %3f \\n\" %(_stat, _pvalue))\n",
    "    if _pvalue < 0.05:\n",
    "        equal_Var = False\n",
    "    else :\n",
    "        equal_Var = True\n",
    "    print(equal_Var)\n",
    "    statistic , pvalue = stats.ttest_ind(x,y, equal_var= equal_Var)\n",
    "    \n",
    "    print(\"\\nstatistic : %d , pvalue : %.7f\\n\" % (statistic, pvalue))\n",
    "    return (statistic, pvalue)"
   ]
  },
  {
   "cell_type": "code",
   "execution_count": 120,
   "id": "07ef4f5a",
   "metadata": {},
   "outputs": [],
   "source": [
    "def sign(pval):\n",
    "    if(pval <= 0.01):\n",
    "        return \"***\"\n",
    "    elif(pval <= 0.05):\n",
    "        return \"**\"\n",
    "    elif(pval<= 0.1):\n",
    "        return \"*\"\n",
    "    else:\n",
    "        return \"\""
   ]
  },
  {
   "cell_type": "code",
   "execution_count": 121,
   "id": "5b4b9009",
   "metadata": {},
   "outputs": [],
   "source": [
    "path_dir = 'Result/랜덤포레스트/모델 평가' "
   ]
  },
  {
   "cell_type": "code",
   "execution_count": 122,
   "id": "fc8e669b",
   "metadata": {},
   "outputs": [],
   "source": [
    "file_list = [ 'new_0_3_모델 평가.csv', 'new_0_6_모델 평가.csv']"
   ]
  },
  {
   "cell_type": "code",
   "execution_count": 123,
   "id": "a56385f4",
   "metadata": {},
   "outputs": [],
   "source": [
    "df_0_1 = pd.read_csv(\"Result/랜덤포레스트/모델 평가/new_0_1_모델 평가.csv\",index_col = 0,encoding = 'cp949')"
   ]
  },
  {
   "cell_type": "code",
   "execution_count": 124,
   "id": "d0e4fdf5",
   "metadata": {},
   "outputs": [
    {
     "data": {
      "text/plain": [
       "정확도              0.598408\n",
       "정밀도              0.631915\n",
       "재현율              0.723997\n",
       "f1_score         0.609116\n",
       "정확도_test         0.325971\n",
       "정밀도_test         0.426354\n",
       "재현율_test         0.546971\n",
       "f1_score_test    0.291458\n",
       "Name: mean, dtype: float64"
      ]
     },
     "execution_count": 124,
     "metadata": {},
     "output_type": "execute_result"
    }
   ],
   "source": [
    "df_0_1['mean'] = df_0_1.mean(axis =1)\n",
    "first = df_0_1['mean']\n",
    "first"
   ]
  },
  {
   "cell_type": "code",
   "execution_count": 125,
   "id": "5419d44b",
   "metadata": {},
   "outputs": [],
   "source": [
    "\n",
    "for file in file_list:\n",
    "    df = pd.read_csv(path_dir + \"//\" + file, encoding = 'cp949',index_col = 0)\n",
    "    df[\"mean\"] = df.mean(axis=1)\n",
    "    mean = df['mean']\n",
    "    \n",
    "\n",
    "    first = pd.concat([first,mean],axis = 1)"
   ]
  },
  {
   "cell_type": "code",
   "execution_count": 127,
   "id": "30d6e7fe",
   "metadata": {},
   "outputs": [],
   "source": [
    "first.columns = [\"공모가 대비 1개월\",\"공모가 대비 3개월\",\"공모가 대비 6개월\"]"
   ]
  },
  {
   "cell_type": "code",
   "execution_count": 128,
   "id": "4f88ecc7",
   "metadata": {},
   "outputs": [
    {
     "data": {
      "text/html": [
       "<div>\n",
       "<style scoped>\n",
       "    .dataframe tbody tr th:only-of-type {\n",
       "        vertical-align: middle;\n",
       "    }\n",
       "\n",
       "    .dataframe tbody tr th {\n",
       "        vertical-align: top;\n",
       "    }\n",
       "\n",
       "    .dataframe thead th {\n",
       "        text-align: right;\n",
       "    }\n",
       "</style>\n",
       "<table border=\"1\" class=\"dataframe\">\n",
       "  <thead>\n",
       "    <tr style=\"text-align: right;\">\n",
       "      <th></th>\n",
       "      <th>공모가 대비 1개월</th>\n",
       "      <th>공모가 대비 3개월</th>\n",
       "      <th>공모가 대비 6개월</th>\n",
       "    </tr>\n",
       "  </thead>\n",
       "  <tbody>\n",
       "    <tr>\n",
       "      <th>정확도</th>\n",
       "      <td>0.598408</td>\n",
       "      <td>0.612240</td>\n",
       "      <td>0.604466</td>\n",
       "    </tr>\n",
       "    <tr>\n",
       "      <th>정밀도</th>\n",
       "      <td>0.631915</td>\n",
       "      <td>0.679439</td>\n",
       "      <td>0.689258</td>\n",
       "    </tr>\n",
       "    <tr>\n",
       "      <th>재현율</th>\n",
       "      <td>0.723997</td>\n",
       "      <td>0.740106</td>\n",
       "      <td>0.738439</td>\n",
       "    </tr>\n",
       "    <tr>\n",
       "      <th>f1_score</th>\n",
       "      <td>0.609116</td>\n",
       "      <td>0.618414</td>\n",
       "      <td>0.609701</td>\n",
       "    </tr>\n",
       "    <tr>\n",
       "      <th>정확도_test</th>\n",
       "      <td>0.325971</td>\n",
       "      <td>0.293477</td>\n",
       "      <td>0.280512</td>\n",
       "    </tr>\n",
       "    <tr>\n",
       "      <th>정밀도_test</th>\n",
       "      <td>0.426354</td>\n",
       "      <td>0.459996</td>\n",
       "      <td>0.469492</td>\n",
       "    </tr>\n",
       "    <tr>\n",
       "      <th>재현율_test</th>\n",
       "      <td>0.546971</td>\n",
       "      <td>0.527352</td>\n",
       "      <td>0.563756</td>\n",
       "    </tr>\n",
       "    <tr>\n",
       "      <th>f1_score_test</th>\n",
       "      <td>0.291458</td>\n",
       "      <td>0.246874</td>\n",
       "      <td>0.253727</td>\n",
       "    </tr>\n",
       "  </tbody>\n",
       "</table>\n",
       "</div>"
      ],
      "text/plain": [
       "               공모가 대비 1개월  공모가 대비 3개월  공모가 대비 6개월\n",
       "정확도              0.598408    0.612240    0.604466\n",
       "정밀도              0.631915    0.679439    0.689258\n",
       "재현율              0.723997    0.740106    0.738439\n",
       "f1_score         0.609116    0.618414    0.609701\n",
       "정확도_test         0.325971    0.293477    0.280512\n",
       "정밀도_test         0.426354    0.459996    0.469492\n",
       "재현율_test         0.546971    0.527352    0.563756\n",
       "f1_score_test    0.291458    0.246874    0.253727"
      ]
     },
     "execution_count": 128,
     "metadata": {},
     "output_type": "execute_result"
    }
   ],
   "source": [
    "first.to_csv(\"PER\")"
   ]
  },
  {
   "cell_type": "code",
   "execution_count": null,
   "id": "a335e37b",
   "metadata": {},
   "outputs": [],
   "source": []
  }
 ],
 "metadata": {
  "kernelspec": {
   "display_name": "Python 3",
   "language": "python",
   "name": "python3"
  },
  "language_info": {
   "codemirror_mode": {
    "name": "ipython",
    "version": 3
   },
   "file_extension": ".py",
   "mimetype": "text/x-python",
   "name": "python",
   "nbconvert_exporter": "python",
   "pygments_lexer": "ipython3",
   "version": "3.6.10"
  },
  "toc": {
   "base_numbering": 1,
   "nav_menu": {},
   "number_sections": true,
   "sideBar": true,
   "skip_h1_title": false,
   "title_cell": "Table of Contents",
   "title_sidebar": "Contents",
   "toc_cell": false,
   "toc_position": {},
   "toc_section_display": true,
   "toc_window_display": false
  }
 },
 "nbformat": 4,
 "nbformat_minor": 5
}
