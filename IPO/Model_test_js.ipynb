{
 "cells": [
  {
   "cell_type": "code",
   "execution_count": 250,
   "id": "4d231fb5",
   "metadata": {},
   "outputs": [],
   "source": [
    "from sklearn.tree import DecisionTreeClassifier\n",
    "from sklearn.model_selection import train_test_split\n",
    "import warnings\n",
    "warnings.filterwarnings('ignore')\n",
    "import pandas as pd\n",
    "import numpy as np\n",
    "\n",
    "#시각화\n",
    "import matplotlib.pyplot as plt\n",
    "import seaborn as sns\n",
    "from sklearn.tree import plot_tree\n",
    "\n",
    "##알고리즘 \n",
    "import xgboost as xgb\n",
    "from xgboost import XGBClassifier"
   ]
  },
  {
   "cell_type": "code",
   "execution_count": 251,
   "id": "cb284c91",
   "metadata": {},
   "outputs": [],
   "source": [
    "import matplotlib # 글자 깨짐 방지 폰트설정\n",
    "from matplotlib import font_manager, rc\n",
    "import platform\n",
    "\n",
    "if platform.system() == 'Windows':\n",
    "# 윈도우인 경우\n",
    "    font_name = font_manager.FontProperties(fname=\"c:/Windows/Fonts/malgun.ttf\").get_name()\n",
    "    rc('font', family=font_name)\n",
    "else:    \n",
    "# Mac 인 경우\n",
    "    rc('font', family='AppleGothic')\n",
    "    \n",
    "matplotlib.rcParams['axes.unicode_minus'] = False   \n",
    "#그래프에서 마이너스 기호가 표시되도록 하는 설정입니다."
   ]
  },
  {
   "cell_type": "markdown",
   "id": "393c26b3",
   "metadata": {},
   "source": [
    "## 데이터 불러오기"
   ]
  },
  {
   "cell_type": "code",
   "execution_count": 252,
   "id": "f985dee8",
   "metadata": {},
   "outputs": [],
   "source": [
    "df = pd.read_csv(\"d:/공모전/IPO/IPO/CleanData/KQ_all.csv\")"
   ]
  },
  {
   "cell_type": "code",
   "execution_count": 253,
   "id": "a2d643bd",
   "metadata": {},
   "outputs": [],
   "source": [
    "df.set_index(\"종목명\",inplace = True)"
   ]
  },
  {
   "cell_type": "code",
   "execution_count": 254,
   "id": "c3f8ddfc",
   "metadata": {
    "scrolled": true
   },
   "outputs": [
    {
     "name": "stdout",
     "output_type": "stream",
     "text": [
      "<class 'pandas.core.frame.DataFrame'>\n",
      "Index: 741 entries, 코오롱생명과학 to 제노코\n",
      "Data columns (total 48 columns):\n",
      " #   Column             Non-Null Count  Dtype  \n",
      "---  ------             --------------  -----  \n",
      " 0   상장유형               741 non-null    object \n",
      " 1   공모가                741 non-null    int64  \n",
      " 2   상장일                741 non-null    object \n",
      " 3   상장주식수              741 non-null    int64  \n",
      " 4   매출총이익률             717 non-null    float64\n",
      " 5   영업이익률              717 non-null    float64\n",
      " 6   ROE                723 non-null    float64\n",
      " 7   유동비율               721 non-null    float64\n",
      " 8   당좌비율               715 non-null    float64\n",
      " 9   부채비율               723 non-null    float64\n",
      " 10  이자보상배율             720 non-null    object \n",
      " 11  매출채권회전율            707 non-null    float64\n",
      " 12  재고자산회전율            608 non-null    float64\n",
      " 13  매출액증가율             675 non-null    float64\n",
      " 14  영업이익증가율            686 non-null    float64\n",
      " 15  IPO_PER            724 non-null    float64\n",
      " 16  IPO_PBR            723 non-null    float64\n",
      " 17  IPO_EV/EBITDA      722 non-null    float64\n",
      " 18  1개월 평균 거래량회전율      741 non-null    float64\n",
      " 19  1개월 평균 일중변동률       741 non-null    float64\n",
      " 20  1개월 평균 개인 매도수량 비중  741 non-null    float64\n",
      " 21  1개월 평균 개인 매수수량 비중  741 non-null    float64\n",
      " 22  1개월 시가총액회전율        741 non-null    float64\n",
      " 23  1개월 후PER           640 non-null    float64\n",
      " 24  1개월 후PBR           640 non-null    float64\n",
      " 25  1개월 후EV/EBITDA     641 non-null    float64\n",
      " 26  3개월 평균 거래량회전율      741 non-null    float64\n",
      " 27  3개월 평균 일중변동률       741 non-null    float64\n",
      " 28  3개월 평균 개인 매도수량 비중  741 non-null    float64\n",
      " 29  3개월 평균 개인 매수수량 비중  741 non-null    float64\n",
      " 30  3개월 시가총액회전율        741 non-null    float64\n",
      " 31  3개월 후PER           640 non-null    float64\n",
      " 32  3개월 후PBR           640 non-null    float64\n",
      " 33  3개월 후EV/EBITDA     641 non-null    float64\n",
      " 34  1개월 시장 회전율         741 non-null    float64\n",
      " 35  시장수익률              741 non-null    float64\n",
      " 36  광의통화 증감률           741 non-null    float64\n",
      " 37  고객예탁금 증감률          741 non-null    float64\n",
      " 38  3개월 시장 회전율         741 non-null    float64\n",
      " 39  시장수익률_3_6          741 non-null    float64\n",
      " 40  광의통화 증감률_3_6       741 non-null    float64\n",
      " 41  고객예탁금 증감률_3_6      741 non-null    float64\n",
      " 42  공모가 대비 1개월 수익률     741 non-null    float64\n",
      " 43  공모가 대비 3개월 수익률     741 non-null    float64\n",
      " 44  공모가 대비 6개월 수익률     741 non-null    float64\n",
      " 45  1_3_수익률            741 non-null    float64\n",
      " 46  3_6_수익률            741 non-null    float64\n",
      " 47  Cat                741 non-null    int64  \n",
      "dtypes: float64(42), int64(3), object(3)\n",
      "memory usage: 283.7+ KB\n"
     ]
    }
   ],
   "source": [
    "df.info()"
   ]
  },
  {
   "cell_type": "code",
   "execution_count": 255,
   "id": "ab7b30dd",
   "metadata": {
    "scrolled": false
   },
   "outputs": [
    {
     "data": {
      "text/plain": [
       "Index(['상장유형', '공모가', '상장일', '상장주식수', '매출총이익률', '영업이익률', 'ROE', '유동비율', '당좌비율',\n",
       "       '부채비율', '이자보상배율', '매출채권회전율', '재고자산회전율', '매출액증가율', '영업이익증가율', 'IPO_PER',\n",
       "       'IPO_PBR', 'IPO_EV/EBITDA', '1개월 평균 거래량회전율', '1개월 평균 일중변동률',\n",
       "       '1개월 평균 개인 매도수량 비중', '1개월 평균 개인 매수수량 비중', '1개월 시가총액회전율', '1개월 후PER',\n",
       "       '1개월 후PBR', '1개월 후EV/EBITDA', '3개월 평균 거래량회전율', '3개월 평균 일중변동률',\n",
       "       '3개월 평균 개인 매도수량 비중', '3개월 평균 개인 매수수량 비중', '3개월 시가총액회전율', '3개월 후PER',\n",
       "       '3개월 후PBR', '3개월 후EV/EBITDA', '1개월 시장 회전율', '시장수익률', '광의통화 증감률',\n",
       "       '고객예탁금 증감률', '3개월 시장 회전율', '시장수익률_3_6', '광의통화 증감률_3_6', '고객예탁금 증감률_3_6',\n",
       "       '공모가 대비 1개월 수익률', '공모가 대비 3개월 수익률', '공모가 대비 6개월 수익률', '1_3_수익률',\n",
       "       '3_6_수익률', 'Cat'],\n",
       "      dtype='object')"
      ]
     },
     "execution_count": 255,
     "metadata": {},
     "output_type": "execute_result"
    }
   ],
   "source": [
    "df.columns"
   ]
  },
  {
   "cell_type": "code",
   "execution_count": 256,
   "id": "ab3bc245",
   "metadata": {
    "scrolled": false
   },
   "outputs": [
    {
     "data": {
      "text/plain": [
       "상장유형                   0\n",
       "공모가                    0\n",
       "상장일                    0\n",
       "상장주식수                  0\n",
       "매출총이익률                24\n",
       "영업이익률                 24\n",
       "ROE                   18\n",
       "유동비율                  20\n",
       "당좌비율                  26\n",
       "부채비율                  18\n",
       "이자보상배율                21\n",
       "매출채권회전율               34\n",
       "재고자산회전율              133\n",
       "매출액증가율                66\n",
       "영업이익증가율               55\n",
       "IPO_PER               17\n",
       "IPO_PBR               18\n",
       "IPO_EV/EBITDA         19\n",
       "1개월 평균 거래량회전율          0\n",
       "1개월 평균 일중변동률           0\n",
       "1개월 평균 개인 매도수량 비중      0\n",
       "1개월 평균 개인 매수수량 비중      0\n",
       "1개월 시가총액회전율            0\n",
       "1개월 후PER             101\n",
       "1개월 후PBR             101\n",
       "1개월 후EV/EBITDA       100\n",
       "3개월 평균 거래량회전율          0\n",
       "3개월 평균 일중변동률           0\n",
       "3개월 평균 개인 매도수량 비중      0\n",
       "3개월 평균 개인 매수수량 비중      0\n",
       "3개월 시가총액회전율            0\n",
       "3개월 후PER             101\n",
       "3개월 후PBR             101\n",
       "3개월 후EV/EBITDA       100\n",
       "1개월 시장 회전율             0\n",
       "시장수익률                  0\n",
       "광의통화 증감률               0\n",
       "고객예탁금 증감률              0\n",
       "3개월 시장 회전율             0\n",
       "시장수익률_3_6              0\n",
       "광의통화 증감률_3_6           0\n",
       "고객예탁금 증감률_3_6          0\n",
       "공모가 대비 1개월 수익률         0\n",
       "공모가 대비 3개월 수익률         0\n",
       "공모가 대비 6개월 수익률         0\n",
       "1_3_수익률                0\n",
       "3_6_수익률                0\n",
       "Cat                    0\n",
       "dtype: int64"
      ]
     },
     "execution_count": 256,
     "metadata": {},
     "output_type": "execute_result"
    }
   ],
   "source": [
    "df.isnull().sum()"
   ]
  },
  {
   "cell_type": "markdown",
   "id": "8315bb8d",
   "metadata": {},
   "source": [
    "## 결측치 처리"
   ]
  },
  {
   "cell_type": "markdown",
   "id": "7da6a2d7",
   "metadata": {},
   "source": [
    "### 사용하는 컬럼 \n",
    "       '공모가', '상장주식수', '매출총이익률', '영업이익률', 'ROE', '유동비율', '당좌비율', '부채비율',\n",
    "      '매출채권회전율', '매출액증가율', '영업이익증가율', 'IPO_PER','IPO_PBR', 'IPO_EV/EBITDA', \n",
    "       '1개월 평균 거래량회전율', '1개월 평균 일중변동률',\n",
    "       '1개월 평균 개인 매도수량 비중', '1개월 평균 개인 매수수량 비중', '1개월 시가총액회전율',\n",
    "       '1개월 시장 회전율', '시장수익률', '광의통화 증감률',\n",
    "       '고객예탁금 증감률','Cat\n",
    "- 재고자산회전율이랑 1개월,3개월 per 등등 : 결측치가 100개 넘어서 임시로 삭제\n",
    "- 이자보상배율에서 'inf'처리 애매해서 임시 삭제"
   ]
  },
  {
   "cell_type": "code",
   "execution_count": 257,
   "id": "5fe8f979",
   "metadata": {},
   "outputs": [],
   "source": [
    "df = df[['공모가', '상장주식수', '매출총이익률', '영업이익률', 'ROE', '유동비율', '당좌비율', '부채비율',\n",
    "      '매출채권회전율', '매출액증가율', '영업이익증가율', 'IPO_PER',\n",
    "       'IPO_PBR', 'IPO_EV/EBITDA', '1개월 평균 거래량회전율', '1개월 평균 일중변동률',\n",
    "       '1개월 평균 개인 매도수량 비중', '1개월 평균 개인 매수수량 비중', '1개월 시가총액회전율','1개월 시장 회전율', '시장수익률', '광의통화 증감률',\n",
    "       '고객예탁금 증감률','Cat']]"
   ]
  },
  {
   "cell_type": "markdown",
   "id": "1c06fbea",
   "metadata": {},
   "source": [
    "### 결측치 임시로 삭제\n",
    "- 743개 -> 666개"
   ]
  },
  {
   "cell_type": "code",
   "execution_count": 258,
   "id": "9f8c88fb",
   "metadata": {
    "scrolled": true
   },
   "outputs": [],
   "source": [
    "df = df.dropna()"
   ]
  },
  {
   "cell_type": "code",
   "execution_count": 259,
   "id": "3de58a06",
   "metadata": {
    "scrolled": true
   },
   "outputs": [
    {
     "name": "stdout",
     "output_type": "stream",
     "text": [
      "<class 'pandas.core.frame.DataFrame'>\n",
      "Index: 666 entries, 코오롱생명과학 to 제노코\n",
      "Data columns (total 24 columns):\n",
      " #   Column             Non-Null Count  Dtype  \n",
      "---  ------             --------------  -----  \n",
      " 0   공모가                666 non-null    int64  \n",
      " 1   상장주식수              666 non-null    int64  \n",
      " 2   매출총이익률             666 non-null    float64\n",
      " 3   영업이익률              666 non-null    float64\n",
      " 4   ROE                666 non-null    float64\n",
      " 5   유동비율               666 non-null    float64\n",
      " 6   당좌비율               666 non-null    float64\n",
      " 7   부채비율               666 non-null    float64\n",
      " 8   매출채권회전율            666 non-null    float64\n",
      " 9   매출액증가율             666 non-null    float64\n",
      " 10  영업이익증가율            666 non-null    float64\n",
      " 11  IPO_PER            666 non-null    float64\n",
      " 12  IPO_PBR            666 non-null    float64\n",
      " 13  IPO_EV/EBITDA      666 non-null    float64\n",
      " 14  1개월 평균 거래량회전율      666 non-null    float64\n",
      " 15  1개월 평균 일중변동률       666 non-null    float64\n",
      " 16  1개월 평균 개인 매도수량 비중  666 non-null    float64\n",
      " 17  1개월 평균 개인 매수수량 비중  666 non-null    float64\n",
      " 18  1개월 시가총액회전율        666 non-null    float64\n",
      " 19  1개월 시장 회전율         666 non-null    float64\n",
      " 20  시장수익률              666 non-null    float64\n",
      " 21  광의통화 증감률           666 non-null    float64\n",
      " 22  고객예탁금 증감률          666 non-null    float64\n",
      " 23  Cat                666 non-null    int64  \n",
      "dtypes: float64(21), int64(3)\n",
      "memory usage: 130.1+ KB\n"
     ]
    }
   ],
   "source": [
    "df.info()"
   ]
  },
  {
   "cell_type": "code",
   "execution_count": 260,
   "id": "3209c9c7",
   "metadata": {
    "scrolled": true
   },
   "outputs": [
    {
     "data": {
      "text/html": [
       "<div>\n",
       "<style scoped>\n",
       "    .dataframe tbody tr th:only-of-type {\n",
       "        vertical-align: middle;\n",
       "    }\n",
       "\n",
       "    .dataframe tbody tr th {\n",
       "        vertical-align: top;\n",
       "    }\n",
       "\n",
       "    .dataframe thead th {\n",
       "        text-align: right;\n",
       "    }\n",
       "</style>\n",
       "<table border=\"1\" class=\"dataframe\">\n",
       "  <thead>\n",
       "    <tr style=\"text-align: right;\">\n",
       "      <th></th>\n",
       "      <th>공모가</th>\n",
       "      <th>상장주식수</th>\n",
       "      <th>매출총이익률</th>\n",
       "      <th>영업이익률</th>\n",
       "      <th>ROE</th>\n",
       "      <th>유동비율</th>\n",
       "      <th>당좌비율</th>\n",
       "      <th>부채비율</th>\n",
       "      <th>매출채권회전율</th>\n",
       "      <th>매출액증가율</th>\n",
       "      <th>...</th>\n",
       "      <th>1개월 평균 거래량회전율</th>\n",
       "      <th>1개월 평균 일중변동률</th>\n",
       "      <th>1개월 평균 개인 매도수량 비중</th>\n",
       "      <th>1개월 평균 개인 매수수량 비중</th>\n",
       "      <th>1개월 시가총액회전율</th>\n",
       "      <th>1개월 시장 회전율</th>\n",
       "      <th>시장수익률</th>\n",
       "      <th>광의통화 증감률</th>\n",
       "      <th>고객예탁금 증감률</th>\n",
       "      <th>Cat</th>\n",
       "    </tr>\n",
       "  </thead>\n",
       "  <tbody>\n",
       "    <tr>\n",
       "      <th>count</th>\n",
       "      <td>666.000000</td>\n",
       "      <td>6.660000e+02</td>\n",
       "      <td>666.000000</td>\n",
       "      <td>666.000000</td>\n",
       "      <td>666.000000</td>\n",
       "      <td>666.000000</td>\n",
       "      <td>666.000000</td>\n",
       "      <td>666.000000</td>\n",
       "      <td>666.000000</td>\n",
       "      <td>666.000000</td>\n",
       "      <td>...</td>\n",
       "      <td>666.000000</td>\n",
       "      <td>666.000000</td>\n",
       "      <td>666.000000</td>\n",
       "      <td>666.000000</td>\n",
       "      <td>666.000000</td>\n",
       "      <td>666.000000</td>\n",
       "      <td>666.000000</td>\n",
       "      <td>666.000000</td>\n",
       "      <td>666.000000</td>\n",
       "      <td>666.000000</td>\n",
       "    </tr>\n",
       "    <tr>\n",
       "      <th>mean</th>\n",
       "      <td>13846.711712</td>\n",
       "      <td>1.042240e+07</td>\n",
       "      <td>0.385481</td>\n",
       "      <td>-0.975604</td>\n",
       "      <td>0.068127</td>\n",
       "      <td>2.963104</td>\n",
       "      <td>2.476835</td>\n",
       "      <td>1.171715</td>\n",
       "      <td>8.753909</td>\n",
       "      <td>1.152620</td>\n",
       "      <td>...</td>\n",
       "      <td>0.132368</td>\n",
       "      <td>8.311906</td>\n",
       "      <td>89.314126</td>\n",
       "      <td>91.934836</td>\n",
       "      <td>326.382831</td>\n",
       "      <td>66.854683</td>\n",
       "      <td>0.081250</td>\n",
       "      <td>0.066859</td>\n",
       "      <td>0.218846</td>\n",
       "      <td>3.852853</td>\n",
       "    </tr>\n",
       "    <tr>\n",
       "      <th>std</th>\n",
       "      <td>14191.885318</td>\n",
       "      <td>1.267097e+07</td>\n",
       "      <td>0.248970</td>\n",
       "      <td>12.489706</td>\n",
       "      <td>2.463127</td>\n",
       "      <td>4.362483</td>\n",
       "      <td>4.238364</td>\n",
       "      <td>2.547798</td>\n",
       "      <td>21.318883</td>\n",
       "      <td>12.142019</td>\n",
       "      <td>...</td>\n",
       "      <td>0.137164</td>\n",
       "      <td>3.403420</td>\n",
       "      <td>10.969731</td>\n",
       "      <td>9.551187</td>\n",
       "      <td>345.322859</td>\n",
       "      <td>26.867631</td>\n",
       "      <td>0.210343</td>\n",
       "      <td>0.018040</td>\n",
       "      <td>0.341349</td>\n",
       "      <td>1.124959</td>\n",
       "    </tr>\n",
       "    <tr>\n",
       "      <th>min</th>\n",
       "      <td>1000.000000</td>\n",
       "      <td>1.875000e+06</td>\n",
       "      <td>-0.209940</td>\n",
       "      <td>-301.556329</td>\n",
       "      <td>-59.042534</td>\n",
       "      <td>0.171335</td>\n",
       "      <td>0.108116</td>\n",
       "      <td>-35.801389</td>\n",
       "      <td>0.128725</td>\n",
       "      <td>-0.757747</td>\n",
       "      <td>...</td>\n",
       "      <td>0.000833</td>\n",
       "      <td>0.272727</td>\n",
       "      <td>12.384762</td>\n",
       "      <td>36.644545</td>\n",
       "      <td>3.907645</td>\n",
       "      <td>30.071322</td>\n",
       "      <td>-0.441706</td>\n",
       "      <td>0.025827</td>\n",
       "      <td>-0.242243</td>\n",
       "      <td>1.000000</td>\n",
       "    </tr>\n",
       "    <tr>\n",
       "      <th>25%</th>\n",
       "      <td>5500.000000</td>\n",
       "      <td>5.000000e+06</td>\n",
       "      <td>0.201402</td>\n",
       "      <td>0.066444</td>\n",
       "      <td>0.127235</td>\n",
       "      <td>1.149266</td>\n",
       "      <td>0.815639</td>\n",
       "      <td>0.403690</td>\n",
       "      <td>3.586434</td>\n",
       "      <td>0.082278</td>\n",
       "      <td>...</td>\n",
       "      <td>0.050833</td>\n",
       "      <td>6.572872</td>\n",
       "      <td>87.053103</td>\n",
       "      <td>90.063532</td>\n",
       "      <td>122.063388</td>\n",
       "      <td>49.362945</td>\n",
       "      <td>-0.059621</td>\n",
       "      <td>0.054800</td>\n",
       "      <td>0.013937</td>\n",
       "      <td>3.000000</td>\n",
       "    </tr>\n",
       "    <tr>\n",
       "      <th>50%</th>\n",
       "      <td>10000.000000</td>\n",
       "      <td>6.837500e+06</td>\n",
       "      <td>0.306763</td>\n",
       "      <td>0.118120</td>\n",
       "      <td>0.216952</td>\n",
       "      <td>1.767343</td>\n",
       "      <td>1.306053</td>\n",
       "      <td>0.825135</td>\n",
       "      <td>5.420831</td>\n",
       "      <td>0.272979</td>\n",
       "      <td>...</td>\n",
       "      <td>0.092381</td>\n",
       "      <td>8.311225</td>\n",
       "      <td>93.207708</td>\n",
       "      <td>95.615833</td>\n",
       "      <td>222.888906</td>\n",
       "      <td>56.042200</td>\n",
       "      <td>0.019499</td>\n",
       "      <td>0.066452</td>\n",
       "      <td>0.118885</td>\n",
       "      <td>4.000000</td>\n",
       "    </tr>\n",
       "    <tr>\n",
       "      <th>75%</th>\n",
       "      <td>16650.000000</td>\n",
       "      <td>1.051500e+07</td>\n",
       "      <td>0.504231</td>\n",
       "      <td>0.193528</td>\n",
       "      <td>0.324134</td>\n",
       "      <td>3.051807</td>\n",
       "      <td>2.377349</td>\n",
       "      <td>1.562156</td>\n",
       "      <td>8.706852</td>\n",
       "      <td>0.624327</td>\n",
       "      <td>...</td>\n",
       "      <td>0.161310</td>\n",
       "      <td>10.576910</td>\n",
       "      <td>95.871714</td>\n",
       "      <td>97.856390</td>\n",
       "      <td>403.584316</td>\n",
       "      <td>74.405733</td>\n",
       "      <td>0.235475</td>\n",
       "      <td>0.084058</td>\n",
       "      <td>0.300962</td>\n",
       "      <td>5.000000</td>\n",
       "    </tr>\n",
       "    <tr>\n",
       "      <th>max</th>\n",
       "      <td>150000.000000</td>\n",
       "      <td>1.366881e+08</td>\n",
       "      <td>1.000000</td>\n",
       "      <td>0.718454</td>\n",
       "      <td>5.246868</td>\n",
       "      <td>61.003046</td>\n",
       "      <td>59.190470</td>\n",
       "      <td>23.542878</td>\n",
       "      <td>480.157970</td>\n",
       "      <td>305.144683</td>\n",
       "      <td>...</td>\n",
       "      <td>1.178571</td>\n",
       "      <td>20.113333</td>\n",
       "      <td>99.064583</td>\n",
       "      <td>99.903636</td>\n",
       "      <td>2912.892445</td>\n",
       "      <td>160.492173</td>\n",
       "      <td>1.110600</td>\n",
       "      <td>0.101129</td>\n",
       "      <td>1.480764</td>\n",
       "      <td>5.000000</td>\n",
       "    </tr>\n",
       "  </tbody>\n",
       "</table>\n",
       "<p>8 rows × 24 columns</p>\n",
       "</div>"
      ],
      "text/plain": [
       "                 공모가         상장주식수      매출총이익률       영업이익률         ROE  \\\n",
       "count     666.000000  6.660000e+02  666.000000  666.000000  666.000000   \n",
       "mean    13846.711712  1.042240e+07    0.385481   -0.975604    0.068127   \n",
       "std     14191.885318  1.267097e+07    0.248970   12.489706    2.463127   \n",
       "min      1000.000000  1.875000e+06   -0.209940 -301.556329  -59.042534   \n",
       "25%      5500.000000  5.000000e+06    0.201402    0.066444    0.127235   \n",
       "50%     10000.000000  6.837500e+06    0.306763    0.118120    0.216952   \n",
       "75%     16650.000000  1.051500e+07    0.504231    0.193528    0.324134   \n",
       "max    150000.000000  1.366881e+08    1.000000    0.718454    5.246868   \n",
       "\n",
       "             유동비율        당좌비율        부채비율     매출채권회전율      매출액증가율  ...  \\\n",
       "count  666.000000  666.000000  666.000000  666.000000  666.000000  ...   \n",
       "mean     2.963104    2.476835    1.171715    8.753909    1.152620  ...   \n",
       "std      4.362483    4.238364    2.547798   21.318883   12.142019  ...   \n",
       "min      0.171335    0.108116  -35.801389    0.128725   -0.757747  ...   \n",
       "25%      1.149266    0.815639    0.403690    3.586434    0.082278  ...   \n",
       "50%      1.767343    1.306053    0.825135    5.420831    0.272979  ...   \n",
       "75%      3.051807    2.377349    1.562156    8.706852    0.624327  ...   \n",
       "max     61.003046   59.190470   23.542878  480.157970  305.144683  ...   \n",
       "\n",
       "       1개월 평균 거래량회전율  1개월 평균 일중변동률  1개월 평균 개인 매도수량 비중  1개월 평균 개인 매수수량 비중  \\\n",
       "count     666.000000    666.000000         666.000000         666.000000   \n",
       "mean        0.132368      8.311906          89.314126          91.934836   \n",
       "std         0.137164      3.403420          10.969731           9.551187   \n",
       "min         0.000833      0.272727          12.384762          36.644545   \n",
       "25%         0.050833      6.572872          87.053103          90.063532   \n",
       "50%         0.092381      8.311225          93.207708          95.615833   \n",
       "75%         0.161310     10.576910          95.871714          97.856390   \n",
       "max         1.178571     20.113333          99.064583          99.903636   \n",
       "\n",
       "       1개월 시가총액회전율  1개월 시장 회전율       시장수익률    광의통화 증감률   고객예탁금 증감률         Cat  \n",
       "count   666.000000  666.000000  666.000000  666.000000  666.000000  666.000000  \n",
       "mean    326.382831   66.854683    0.081250    0.066859    0.218846    3.852853  \n",
       "std     345.322859   26.867631    0.210343    0.018040    0.341349    1.124959  \n",
       "min       3.907645   30.071322   -0.441706    0.025827   -0.242243    1.000000  \n",
       "25%     122.063388   49.362945   -0.059621    0.054800    0.013937    3.000000  \n",
       "50%     222.888906   56.042200    0.019499    0.066452    0.118885    4.000000  \n",
       "75%     403.584316   74.405733    0.235475    0.084058    0.300962    5.000000  \n",
       "max    2912.892445  160.492173    1.110600    0.101129    1.480764    5.000000  \n",
       "\n",
       "[8 rows x 24 columns]"
      ]
     },
     "execution_count": 260,
     "metadata": {},
     "output_type": "execute_result"
    }
   ],
   "source": [
    "df.describe()"
   ]
  },
  {
   "cell_type": "code",
   "execution_count": 261,
   "id": "65156cbb",
   "metadata": {},
   "outputs": [],
   "source": [
    "X_features = df.drop(['Cat'],axis=1)\n",
    "y = df['Cat']"
   ]
  },
  {
   "cell_type": "code",
   "execution_count": 262,
   "id": "6ade4873",
   "metadata": {},
   "outputs": [],
   "source": [
    "X_train, X_test, y_train, y_test = train_test_split(X_features, y,\\\n",
    "                                                    test_size=0.2)"
   ]
  },
  {
   "cell_type": "markdown",
   "id": "129126fe",
   "metadata": {},
   "source": [
    "## 랜덤포레스트"
   ]
  },
  {
   "cell_type": "code",
   "execution_count": 263,
   "id": "61dc9825",
   "metadata": {},
   "outputs": [
    {
     "name": "stdout",
     "output_type": "stream",
     "text": [
      "랜덤 포레스트 정확도: 0.5000\n"
     ]
    }
   ],
   "source": [
    "from sklearn.ensemble import RandomForestClassifier\n",
    "\n",
    "# 랜덤 포레스트 학습 및 별도의 테스트 셋으로 예측 성능 평가\n",
    "rf_clf = RandomForestClassifier(random_state = 0)\n",
    "rf_clf.fit(X_train , y_train)\n",
    "pred = rf_clf.predict(X_test)\n",
    "accuracy = accuracy_score(y_test , pred)\n",
    "print('랜덤 포레스트 정확도: {0:.4f}'.format(accuracy)) "
   ]
  },
  {
   "cell_type": "code",
   "execution_count": 264,
   "id": "f045ad9b",
   "metadata": {
    "scrolled": true
   },
   "outputs": [
    {
     "data": {
      "image/png": "[encoded data removed]",
      "text/plain": [
       "<Figure size 576x432 with 1 Axes>"
      ]
     },
     "metadata": {
      "needs_background": "light"
     },
     "output_type": "display_data"
    }
   ],
   "source": [
    "import matplotlib.pyplot as plt\n",
    "import seaborn as sns\n",
    "%matplotlib inline\n",
    "\n",
    "ftr_importances_values = rf_clf1.feature_importances_\n",
    "ftr_importances = pd.Series(ftr_importances_values,index=X_train.columns  )\n",
    "ftr_top20 = ftr_importances.sort_values(ascending=False)[:20]\n",
    "\n",
    "plt.figure(figsize=(8,6))\n",
    "plt.title('Feature importances Top 20')\n",
    "sns.barplot(x=ftr_top20 , y = ftr_top20.index)\n",
    "plt.show()"
   ]
  },
  {
   "cell_type": "markdown",
   "id": "2636db7c",
   "metadata": {},
   "source": [
    "## XGBoost"
   ]
  },
  {
   "cell_type": "code",
   "execution_count": 265,
   "id": "a0fab6a4",
   "metadata": {
    "scrolled": false
   },
   "outputs": [
    {
     "name": "stdout",
     "output_type": "stream",
     "text": [
      "[17:55:36] WARNING: C:/Users/Administrator/workspace/xgboost-win64_release_1.4.0/src/learner.cc:1095: Starting in XGBoost 1.3.0, the default evaluation metric used with the objective 'multi:softprob' was changed from 'merror' to 'mlogloss'. Explicitly set eval_metric if you'd like to restore the old behavior.\n",
      "xgb 정확도: 0.4776\n"
     ]
    }
   ],
   "source": [
    "from xgboost import XGBClassifier\n",
    "from sklearn.metrics import *\n",
    "import warnings\n",
    "warnings.filterwarnings('ignore')\n",
    "\n",
    "# 모델 학습\n",
    "xgb_wrapper = XGBClassifier(random_state = 0)\n",
    "xgb_wrapper.fit(X_train, y_train)\n",
    "\n",
    "# predict, predict_proba 추출\n",
    "pred = xgb_wrapper.predict(X_test)\n",
    "accuracy_xgb = accuracy_score(y_test,pred)\n",
    "print('xgb 정확도: {0:.4f}'.format(accuracy_xgb))"
   ]
  },
  {
   "cell_type": "code",
   "execution_count": 266,
   "id": "a95d3746",
   "metadata": {
    "scrolled": true
   },
   "outputs": [
    {
     "data": {
      "image/png": "[encoded data removed]",
      "text/plain": [
       "<Figure size 576x432 with 1 Axes>"
      ]
     },
     "metadata": {
      "needs_background": "light"
     },
     "output_type": "display_data"
    }
   ],
   "source": [
    "import matplotlib.pyplot as plt\n",
    "import seaborn as sns\n",
    "%matplotlib inline\n",
    "\n",
    "ftr_importances_values = xgb_wrapper.feature_importances_\n",
    "ftr_importances = pd.Series(ftr_importances_values,index=X_train.columns  )\n",
    "ftr_top20 = ftr_importances.sort_values(ascending=False)[:20]\n",
    "\n",
    "plt.figure(figsize=(8,6))\n",
    "plt.title('Feature importances Top 20')\n",
    "sns.barplot(x=ftr_top20 , y = ftr_top20.index)\n",
    "plt.show()"
   ]
  },
  {
   "cell_type": "markdown",
   "id": "c2765bdb",
   "metadata": {},
   "source": [
    "## LGBM"
   ]
  },
  {
   "cell_type": "code",
   "execution_count": 267,
   "id": "63bb6617",
   "metadata": {
    "scrolled": true
   },
   "outputs": [
    {
     "name": "stdout",
     "output_type": "stream",
     "text": [
      "[1]\tvalid_0's multi_logloss: 1.33916\n",
      "Training until validation scores don't improve for 100 rounds\n",
      "[2]\tvalid_0's multi_logloss: 1.30324\n",
      "[3]\tvalid_0's multi_logloss: 1.28498\n",
      "[4]\tvalid_0's multi_logloss: 1.27043\n",
      "[5]\tvalid_0's multi_logloss: 1.25685\n",
      "[6]\tvalid_0's multi_logloss: 1.24851\n",
      "[7]\tvalid_0's multi_logloss: 1.24337\n",
      "[8]\tvalid_0's multi_logloss: 1.24053\n",
      "[9]\tvalid_0's multi_logloss: 1.23759\n",
      "[10]\tvalid_0's multi_logloss: 1.24455\n",
      "[11]\tvalid_0's multi_logloss: 1.25076\n",
      "[12]\tvalid_0's multi_logloss: 1.25672\n",
      "[13]\tvalid_0's multi_logloss: 1.26704\n",
      "[14]\tvalid_0's multi_logloss: 1.27287\n",
      "[15]\tvalid_0's multi_logloss: 1.2736\n",
      "[16]\tvalid_0's multi_logloss: 1.2805\n",
      "[17]\tvalid_0's multi_logloss: 1.27991\n",
      "[18]\tvalid_0's multi_logloss: 1.28906\n",
      "[19]\tvalid_0's multi_logloss: 1.29313\n",
      "[20]\tvalid_0's multi_logloss: 1.30059\n",
      "[21]\tvalid_0's multi_logloss: 1.30192\n",
      "[22]\tvalid_0's multi_logloss: 1.30492\n",
      "[23]\tvalid_0's multi_logloss: 1.31403\n",
      "[24]\tvalid_0's multi_logloss: 1.3166\n",
      "[25]\tvalid_0's multi_logloss: 1.31751\n",
      "[26]\tvalid_0's multi_logloss: 1.32354\n",
      "[27]\tvalid_0's multi_logloss: 1.32856\n",
      "[28]\tvalid_0's multi_logloss: 1.33803\n",
      "[29]\tvalid_0's multi_logloss: 1.34744\n",
      "[30]\tvalid_0's multi_logloss: 1.35868\n",
      "[31]\tvalid_0's multi_logloss: 1.36988\n",
      "[32]\tvalid_0's multi_logloss: 1.38022\n",
      "[33]\tvalid_0's multi_logloss: 1.39369\n",
      "[34]\tvalid_0's multi_logloss: 1.40068\n",
      "[35]\tvalid_0's multi_logloss: 1.40747\n",
      "[36]\tvalid_0's multi_logloss: 1.41938\n",
      "[37]\tvalid_0's multi_logloss: 1.43073\n",
      "[38]\tvalid_0's multi_logloss: 1.43879\n",
      "[39]\tvalid_0's multi_logloss: 1.45188\n",
      "[40]\tvalid_0's multi_logloss: 1.4656\n",
      "[41]\tvalid_0's multi_logloss: 1.46997\n",
      "[42]\tvalid_0's multi_logloss: 1.48059\n",
      "[43]\tvalid_0's multi_logloss: 1.48856\n",
      "[44]\tvalid_0's multi_logloss: 1.49007\n",
      "[45]\tvalid_0's multi_logloss: 1.49846\n",
      "[46]\tvalid_0's multi_logloss: 1.50296\n",
      "[47]\tvalid_0's multi_logloss: 1.51182\n",
      "[48]\tvalid_0's multi_logloss: 1.52173\n",
      "[49]\tvalid_0's multi_logloss: 1.52734\n",
      "[50]\tvalid_0's multi_logloss: 1.5302\n",
      "[51]\tvalid_0's multi_logloss: 1.53923\n",
      "[52]\tvalid_0's multi_logloss: 1.5505\n",
      "[53]\tvalid_0's multi_logloss: 1.55915\n",
      "[54]\tvalid_0's multi_logloss: 1.57088\n",
      "[55]\tvalid_0's multi_logloss: 1.58431\n",
      "[56]\tvalid_0's multi_logloss: 1.59465\n",
      "[57]\tvalid_0's multi_logloss: 1.60164\n",
      "[58]\tvalid_0's multi_logloss: 1.61509\n",
      "[59]\tvalid_0's multi_logloss: 1.62243\n",
      "[60]\tvalid_0's multi_logloss: 1.62625\n",
      "[61]\tvalid_0's multi_logloss: 1.63572\n",
      "[62]\tvalid_0's multi_logloss: 1.64699\n",
      "[63]\tvalid_0's multi_logloss: 1.6538\n",
      "[64]\tvalid_0's multi_logloss: 1.66041\n",
      "[65]\tvalid_0's multi_logloss: 1.66913\n",
      "[66]\tvalid_0's multi_logloss: 1.67912\n",
      "[67]\tvalid_0's multi_logloss: 1.69018\n",
      "[68]\tvalid_0's multi_logloss: 1.70118\n",
      "[69]\tvalid_0's multi_logloss: 1.71008\n",
      "[70]\tvalid_0's multi_logloss: 1.72041\n",
      "[71]\tvalid_0's multi_logloss: 1.73034\n",
      "[72]\tvalid_0's multi_logloss: 1.74608\n",
      "[73]\tvalid_0's multi_logloss: 1.75779\n",
      "[74]\tvalid_0's multi_logloss: 1.77071\n",
      "[75]\tvalid_0's multi_logloss: 1.78214\n",
      "[76]\tvalid_0's multi_logloss: 1.78754\n",
      "[77]\tvalid_0's multi_logloss: 1.80099\n",
      "[78]\tvalid_0's multi_logloss: 1.80276\n",
      "[79]\tvalid_0's multi_logloss: 1.81108\n",
      "[80]\tvalid_0's multi_logloss: 1.82162\n",
      "[81]\tvalid_0's multi_logloss: 1.8277\n",
      "[82]\tvalid_0's multi_logloss: 1.84302\n",
      "[83]\tvalid_0's multi_logloss: 1.85439\n",
      "[84]\tvalid_0's multi_logloss: 1.86438\n",
      "[85]\tvalid_0's multi_logloss: 1.87483\n",
      "[86]\tvalid_0's multi_logloss: 1.88236\n",
      "[87]\tvalid_0's multi_logloss: 1.88308\n",
      "[88]\tvalid_0's multi_logloss: 1.89494\n",
      "[89]\tvalid_0's multi_logloss: 1.90919\n",
      "[90]\tvalid_0's multi_logloss: 1.92295\n",
      "[91]\tvalid_0's multi_logloss: 1.93628\n",
      "[92]\tvalid_0's multi_logloss: 1.95147\n",
      "[93]\tvalid_0's multi_logloss: 1.96376\n",
      "[94]\tvalid_0's multi_logloss: 1.97162\n",
      "[95]\tvalid_0's multi_logloss: 1.98093\n",
      "[96]\tvalid_0's multi_logloss: 1.9943\n",
      "[97]\tvalid_0's multi_logloss: 2.00645\n",
      "[98]\tvalid_0's multi_logloss: 2.0192\n",
      "[99]\tvalid_0's multi_logloss: 2.02505\n",
      "[100]\tvalid_0's multi_logloss: 2.03858\n",
      "Did not meet early stopping. Best iteration is:\n",
      "[9]\tvalid_0's multi_logloss: 1.23759\n",
      "lgbm 정확도: 0.4925\n"
     ]
    }
   ],
   "source": [
    "# LightGBM 임포트\n",
    "from lightgbm import LGBMClassifier\n",
    "\n",
    "# LGBM 분류기 객체 생성\n",
    "lgbm_wrapper = LGBMClassifier(random_state = 0)\n",
    "\n",
    "# 조기 중단 기능에 필요한 파라미터 정의\n",
    "evals = [(X_test, y_test)]\n",
    "lgbm_wrapper.fit(X_train, y_train, early_stopping_rounds=100, eval_metric='logloss', eval_set=evals, verbose=True)\n",
    "\n",
    "\n",
    "# predict, predict_proba 추출\n",
    "pred = lgbm_wrapper.predict(X_test)\n",
    "accuracy_xgb = accuracy_score(y_test,pred)\n",
    "print('lgbm 정확도: {0:.4f}'.format(accuracy_xgb))"
   ]
  },
  {
   "cell_type": "code",
   "execution_count": 268,
   "id": "6a1a2aae",
   "metadata": {
    "scrolled": true
   },
   "outputs": [
    {
     "data": {
      "image/png": "[encoded data removed]",
      "text/plain": [
       "<Figure size 576x432 with 1 Axes>"
      ]
     },
     "metadata": {
      "needs_background": "light"
     },
     "output_type": "display_data"
    }
   ],
   "source": [
    "import matplotlib.pyplot as plt\n",
    "import seaborn as sns\n",
    "%matplotlib inline\n",
    "\n",
    "ftr_importances_values = lgbm_wrapper.feature_importances_\n",
    "ftr_importances = pd.Series(ftr_importances_values,index=X_train.columns  )\n",
    "ftr_top20 = ftr_importances.sort_values(ascending=False)[:20]\n",
    "\n",
    "plt.figure(figsize=(8,6))\n",
    "plt.title('Feature importances Top 20')\n",
    "sns.barplot(x=ftr_top20 , y = ftr_top20.index)\n",
    "plt.show()"
   ]
  }
 ],
 "metadata": {
  "kernelspec": {
   "display_name": "Python 3",
   "language": "python",
   "name": "python3"
  },
  "language_info": {
   "codemirror_mode": {
    "name": "ipython",
    "version": 3
   },
   "file_extension": ".py",
   "mimetype": "text/x-python",
   "name": "python",
   "nbconvert_exporter": "python",
   "pygments_lexer": "ipython3",
   "version": "3.6.10"
  },
  "toc": {
   "base_numbering": 1,
   "nav_menu": {},
   "number_sections": true,
   "sideBar": true,
   "skip_h1_title": false,
   "title_cell": "Table of Contents",
   "title_sidebar": "Contents",
   "toc_cell": false,
   "toc_position": {},
   "toc_section_display": true,
   "toc_window_display": false
  }
 },
 "nbformat": 4,
 "nbformat_minor": 5
}
